{
 "cells": [
  {
   "cell_type": "code",
   "execution_count": 1,
   "id": "satisfactory-huntington",
   "metadata": {},
   "outputs": [],
   "source": [
    "import scanpy as sc\n",
    "import os\n",
    "import anndata as ad\n",
    "import pandas as pd\n",
    "import numpy as np\n",
    "import pickle\n",
    "import matplotlib.pyplot as plt\n",
    "sc.settings.verbosity=0 # verbosity: errors (0), warnings (1), info (2), hints (3)\n",
    "sc.settings.n_jobs=4\n",
    "sc.settings.set_figure_params(dpi_save=300, facecolor=\"white\", frameon=False, figsize=(8,8))\n",
    "plt.rcParams['pdf.fonttype'] = 42\n",
    "plt.rcParams['ps.fonttype'] = 42\n",
    "%matplotlib inline\n",
    "\n",
    "\n"
   ]
  },
  {
   "cell_type": "code",
   "execution_count": 2,
   "id": "czech-cemetery",
   "metadata": {},
   "outputs": [],
   "source": [
    "sc.settings.figdir = \"fig6\"\n",
    "from matplotlib import rcParams\n",
    "\n",
    "\n",
    "rcParams[\"pdf.fonttype\"] = 42\n",
    "rcParams[\"ps.fonttype\"] = 42"
   ]
  },
  {
   "cell_type": "code",
   "execution_count": 3,
   "id": "further-density",
   "metadata": {},
   "outputs": [],
   "source": [
    "# import matplotlib\n",
    "# matplotlib.rcParams['pdf.fonttype'] = 42\n",
    "# matplotlib.rcParams['ps.fonttype'] = 42"
   ]
  },
  {
   "cell_type": "markdown",
   "id": "knowing-possession",
   "metadata": {},
   "source": [
    "# Load v2"
   ]
  },
  {
   "cell_type": "code",
   "execution_count": 7,
   "id": "extensive-roots",
   "metadata": {},
   "outputs": [
    {
     "data": {
      "text/plain": [
       "['adata_all.h5ad',\n",
       " 'adata_fetal_and_adult_fbs.h5ad',\n",
       " 'adata_wound_fbs.h5ad',\n",
       " 'adata_fetal_fbs.h5ad',\n",
       " 'adata_f6_nonskin.h5ad',\n",
       " 'adata_healthy_core.h5ad',\n",
       " 'adata_healthy_with_pericytes.h5ad']"
      ]
     },
     "execution_count": 7,
     "metadata": {},
     "output_type": "execute_result"
    }
   ],
   "source": [
    "import os\n",
    "os.listdir('/nfs/team298/ls34/fibroblast_atlas_paper/final_adatas/')"
   ]
  },
  {
   "cell_type": "code",
   "execution_count": 5,
   "id": "unusual-merchant",
   "metadata": {},
   "outputs": [
    {
     "ename": "FileNotFoundError",
     "evalue": "[Errno 2] Unable to synchronously open file (unable to open file: name = '/nfs/team298/ls34/fibroblast_atlas_paper/final_adatas/adata_lesional11.h5ad', errno = 2, error message = 'No such file or directory', flags = 0, o_flags = 0)",
     "output_type": "error",
     "traceback": [
      "\u001b[0;31m---------------------------------------------------------------------------\u001b[0m",
      "\u001b[0;31mFileNotFoundError\u001b[0m                         Traceback (most recent call last)",
      "Input \u001b[0;32mIn [5]\u001b[0m, in \u001b[0;36m<cell line: 3>\u001b[0;34m()\u001b[0m\n\u001b[1;32m      1\u001b[0m \u001b[38;5;66;03m# adata_lesional=sc.read_h5ad('/nfs/team298/ls34/disease_atlas/final_fb_adatas/adata_all_6150_umap5.h5ad.paga2.annotated11.lesionalonly')\u001b[39;00m\n\u001b[1;32m      2\u001b[0m PATH\u001b[38;5;241m=\u001b[39m\u001b[38;5;124m'\u001b[39m\u001b[38;5;124m/nfs/team298/ls34/fibroblast_atlas_paper/final_adatas/adata_lesional11.h5ad\u001b[39m\u001b[38;5;124m'\u001b[39m\n\u001b[0;32m----> 3\u001b[0m adata_lesional\u001b[38;5;241m=\u001b[39m\u001b[43msc\u001b[49m\u001b[38;5;241;43m.\u001b[39;49m\u001b[43mread_h5ad\u001b[49m\u001b[43m(\u001b[49m\u001b[43mPATH\u001b[49m\u001b[43m)\u001b[49m\n",
      "File \u001b[0;32m~/my-conda-envs/sko_ls/lib/python3.10/site-packages/anndata/_io/h5ad.py:237\u001b[0m, in \u001b[0;36mread_h5ad\u001b[0;34m(filename, backed, as_sparse, as_sparse_fmt, chunk_size)\u001b[0m\n\u001b[1;32m    229\u001b[0m         \u001b[38;5;28;01mraise\u001b[39;00m \u001b[38;5;167;01mNotImplementedError\u001b[39;00m(\n\u001b[1;32m    230\u001b[0m             \u001b[38;5;124m\"\u001b[39m\u001b[38;5;124mCurrently only `X` and `raw/X` can be read as sparse.\u001b[39m\u001b[38;5;124m\"\u001b[39m\n\u001b[1;32m    231\u001b[0m         )\n\u001b[1;32m    233\u001b[0m rdasp \u001b[38;5;241m=\u001b[39m partial(\n\u001b[1;32m    234\u001b[0m     read_dense_as_sparse, sparse_format\u001b[38;5;241m=\u001b[39mas_sparse_fmt, axis_chunk\u001b[38;5;241m=\u001b[39mchunk_size\n\u001b[1;32m    235\u001b[0m )\n\u001b[0;32m--> 237\u001b[0m \u001b[38;5;28;01mwith\u001b[39;00m \u001b[43mh5py\u001b[49m\u001b[38;5;241;43m.\u001b[39;49m\u001b[43mFile\u001b[49m\u001b[43m(\u001b[49m\u001b[43mfilename\u001b[49m\u001b[43m,\u001b[49m\u001b[43m \u001b[49m\u001b[38;5;124;43m\"\u001b[39;49m\u001b[38;5;124;43mr\u001b[39;49m\u001b[38;5;124;43m\"\u001b[39;49m\u001b[43m)\u001b[49m \u001b[38;5;28;01mas\u001b[39;00m f:\n\u001b[1;32m    239\u001b[0m     \u001b[38;5;28;01mdef\u001b[39;00m \u001b[38;5;21mcallback\u001b[39m(func, elem_name: \u001b[38;5;28mstr\u001b[39m, elem, iospec):\n\u001b[1;32m    240\u001b[0m         \u001b[38;5;28;01mif\u001b[39;00m iospec\u001b[38;5;241m.\u001b[39mencoding_type \u001b[38;5;241m==\u001b[39m \u001b[38;5;124m\"\u001b[39m\u001b[38;5;124manndata\u001b[39m\u001b[38;5;124m\"\u001b[39m \u001b[38;5;129;01mor\u001b[39;00m elem_name\u001b[38;5;241m.\u001b[39mendswith(\u001b[38;5;124m\"\u001b[39m\u001b[38;5;124m/\u001b[39m\u001b[38;5;124m\"\u001b[39m):\n",
      "File \u001b[0;32m~/my-conda-envs/sko_ls/lib/python3.10/site-packages/h5py/_hl/files.py:567\u001b[0m, in \u001b[0;36mFile.__init__\u001b[0;34m(self, name, mode, driver, libver, userblock_size, swmr, rdcc_nslots, rdcc_nbytes, rdcc_w0, track_order, fs_strategy, fs_persist, fs_threshold, fs_page_size, page_buf_size, min_meta_keep, min_raw_keep, locking, alignment_threshold, alignment_interval, meta_block_size, **kwds)\u001b[0m\n\u001b[1;32m    558\u001b[0m     fapl \u001b[38;5;241m=\u001b[39m make_fapl(driver, libver, rdcc_nslots, rdcc_nbytes, rdcc_w0,\n\u001b[1;32m    559\u001b[0m                      locking, page_buf_size, min_meta_keep, min_raw_keep,\n\u001b[1;32m    560\u001b[0m                      alignment_threshold\u001b[38;5;241m=\u001b[39malignment_threshold,\n\u001b[1;32m    561\u001b[0m                      alignment_interval\u001b[38;5;241m=\u001b[39malignment_interval,\n\u001b[1;32m    562\u001b[0m                      meta_block_size\u001b[38;5;241m=\u001b[39mmeta_block_size,\n\u001b[1;32m    563\u001b[0m                      \u001b[38;5;241m*\u001b[39m\u001b[38;5;241m*\u001b[39mkwds)\n\u001b[1;32m    564\u001b[0m     fcpl \u001b[38;5;241m=\u001b[39m make_fcpl(track_order\u001b[38;5;241m=\u001b[39mtrack_order, fs_strategy\u001b[38;5;241m=\u001b[39mfs_strategy,\n\u001b[1;32m    565\u001b[0m                      fs_persist\u001b[38;5;241m=\u001b[39mfs_persist, fs_threshold\u001b[38;5;241m=\u001b[39mfs_threshold,\n\u001b[1;32m    566\u001b[0m                      fs_page_size\u001b[38;5;241m=\u001b[39mfs_page_size)\n\u001b[0;32m--> 567\u001b[0m     fid \u001b[38;5;241m=\u001b[39m \u001b[43mmake_fid\u001b[49m\u001b[43m(\u001b[49m\u001b[43mname\u001b[49m\u001b[43m,\u001b[49m\u001b[43m \u001b[49m\u001b[43mmode\u001b[49m\u001b[43m,\u001b[49m\u001b[43m \u001b[49m\u001b[43muserblock_size\u001b[49m\u001b[43m,\u001b[49m\u001b[43m \u001b[49m\u001b[43mfapl\u001b[49m\u001b[43m,\u001b[49m\u001b[43m \u001b[49m\u001b[43mfcpl\u001b[49m\u001b[43m,\u001b[49m\u001b[43m \u001b[49m\u001b[43mswmr\u001b[49m\u001b[38;5;241;43m=\u001b[39;49m\u001b[43mswmr\u001b[49m\u001b[43m)\u001b[49m\n\u001b[1;32m    569\u001b[0m \u001b[38;5;28;01mif\u001b[39;00m \u001b[38;5;28misinstance\u001b[39m(libver, \u001b[38;5;28mtuple\u001b[39m):\n\u001b[1;32m    570\u001b[0m     \u001b[38;5;28mself\u001b[39m\u001b[38;5;241m.\u001b[39m_libver \u001b[38;5;241m=\u001b[39m libver\n",
      "File \u001b[0;32m~/my-conda-envs/sko_ls/lib/python3.10/site-packages/h5py/_hl/files.py:231\u001b[0m, in \u001b[0;36mmake_fid\u001b[0;34m(name, mode, userblock_size, fapl, fcpl, swmr)\u001b[0m\n\u001b[1;32m    229\u001b[0m     \u001b[38;5;28;01mif\u001b[39;00m swmr \u001b[38;5;129;01mand\u001b[39;00m swmr_support:\n\u001b[1;32m    230\u001b[0m         flags \u001b[38;5;241m|\u001b[39m\u001b[38;5;241m=\u001b[39m h5f\u001b[38;5;241m.\u001b[39mACC_SWMR_READ\n\u001b[0;32m--> 231\u001b[0m     fid \u001b[38;5;241m=\u001b[39m \u001b[43mh5f\u001b[49m\u001b[38;5;241;43m.\u001b[39;49m\u001b[43mopen\u001b[49m\u001b[43m(\u001b[49m\u001b[43mname\u001b[49m\u001b[43m,\u001b[49m\u001b[43m \u001b[49m\u001b[43mflags\u001b[49m\u001b[43m,\u001b[49m\u001b[43m \u001b[49m\u001b[43mfapl\u001b[49m\u001b[38;5;241;43m=\u001b[39;49m\u001b[43mfapl\u001b[49m\u001b[43m)\u001b[49m\n\u001b[1;32m    232\u001b[0m \u001b[38;5;28;01melif\u001b[39;00m mode \u001b[38;5;241m==\u001b[39m \u001b[38;5;124m'\u001b[39m\u001b[38;5;124mr+\u001b[39m\u001b[38;5;124m'\u001b[39m:\n\u001b[1;32m    233\u001b[0m     fid \u001b[38;5;241m=\u001b[39m h5f\u001b[38;5;241m.\u001b[39mopen(name, h5f\u001b[38;5;241m.\u001b[39mACC_RDWR, fapl\u001b[38;5;241m=\u001b[39mfapl)\n",
      "File \u001b[0;32mh5py/_objects.pyx:54\u001b[0m, in \u001b[0;36mh5py._objects.with_phil.wrapper\u001b[0;34m()\u001b[0m\n",
      "File \u001b[0;32mh5py/_objects.pyx:55\u001b[0m, in \u001b[0;36mh5py._objects.with_phil.wrapper\u001b[0;34m()\u001b[0m\n",
      "File \u001b[0;32mh5py/h5f.pyx:106\u001b[0m, in \u001b[0;36mh5py.h5f.open\u001b[0;34m()\u001b[0m\n",
      "\u001b[0;31mFileNotFoundError\u001b[0m: [Errno 2] Unable to synchronously open file (unable to open file: name = '/nfs/team298/ls34/fibroblast_atlas_paper/final_adatas/adata_lesional11.h5ad', errno = 2, error message = 'No such file or directory', flags = 0, o_flags = 0)"
     ]
    }
   ],
   "source": [
    "# adata_lesional=sc.read_h5ad('/nfs/team298/ls34/disease_atlas/final_fb_adatas/adata_all_6150_umap5.h5ad.paga2.annotated11.lesionalonly')\n",
    "PATH='/nfs/team298/ls34/fibroblast_atlas_paper/final_adatas/adata_lesional11.h5ad'\n",
    "adata_lesional=sc.read_h5ad(PATH)\n",
    "\n"
   ]
  },
  {
   "cell_type": "code",
   "execution_count": null,
   "id": "connected-intermediate",
   "metadata": {},
   "outputs": [],
   "source": [
    "pickle_file_path = '/nfs/team298/ls34/fb_dict_lesional.pkl'\n",
    "with open(pickle_file_path, 'rb') as file:\n",
    "    LESIONAL_GENES_VSHORT5 = pickle.load(file)\n",
    "    \n",
    "LESIONAL_GENES_VSHORT5"
   ]
  },
  {
   "cell_type": "code",
   "execution_count": null,
   "id": "durable-tourism",
   "metadata": {},
   "outputs": [],
   "source": [
    "pickle_file_path = '/nfs/team298/ls34/fb_dict.pkl'\n",
    "\n",
    "with open(pickle_file_path, 'rb') as file:\n",
    "    reynolds_short_final = pickle.load(file)\n",
    "    \n"
   ]
  },
  {
   "cell_type": "markdown",
   "id": "competent-pendant",
   "metadata": {},
   "source": [
    "# 6a"
   ]
  },
  {
   "cell_type": "code",
   "execution_count": null,
   "id": "careful-secret",
   "metadata": {},
   "outputs": [],
   "source": [
    "# CROSS_TISSUE_MARKERS = {\"SPARC+COL3A1+\": [\"SPARC\", \"COL3A1\", \"CTHRC1\", \"COL1A1\", \"KIF26B\", \"POSTN\", \"ADAM12\", \"MMP13\", \"ITM2A\"  ],\n",
    "#                     \"CXCL10+CCL19+\": [\"CCL19\", \"CXCL10\", \"CXCL9\", \"CD74\", \"HLA-DRA\", \"RBP5\", \"CCL21\", \"IRF8\"]\n",
    "#                        }\n",
    "\n",
    "CROSS_TISSUE_MARKERS = {                                                                  \"c5-PI16\\n(Gao et al.)\": [\"CD34\", \"PI16\", \"MFAP5\", ],\n",
    "                                                \"PI16+ Adventitial\\n(Buechler et al.)\" : [\"CD34\", \"PI16\", \"HAS1\", \"PLIN2\"],\n",
    "                        \n",
    "\n",
    "\n",
    "                        \"CCL19+ Colitis\\n(Buechler et al.)\" : [\"CCL19\", \"GREM1\", \"TNFSF13B\"],\n",
    "          \"ADAMDEC1+ Colitis\\n(Buechler et al.)\": [\"ADAMDEC1\", \"CXCL14\"],\n",
    "                                            \"CXCL10+CCL19+\\n(Korunsky et al.)\": [\"CCL19\", \"CXCL10\", \"CXCL9\", \"CD74\", \"HLA-DRA\", \"RBP5\", \"CCL21\", \"IRF8\"],\n",
    "                    \"CD74+\\n(Gao et al.)\": ['CXCL12', 'CD74', 'HLA-DRB1', 'HLA-DRA'],\n",
    "\n",
    "                               \"c19-MMP1\\n(Gao et al.)\": [\"MMP1\", \"COL7A1\", \"WNT5A\", \"ISG15\", \"IL7R\", \"B2M\", \"SOD2\", \"ISG15\", \"ICAM1\", \"CXCL1\", \"CD74\", \"ICAM1\", \"TWIST1\", \"CCL11\"],\n",
    "\n",
    "          \"LRRC15+ Myofibroblast\\n(Buechler et al.)\": [\"LRRC15\", \"COL11A1\", \"CTHRC1\"],\n",
    "          \"COL3A1+ Myofibroblast\\n(Buechler et al.)\": [\"COL3A1\", \"POSTN\", \"CTHRC1\"],\n",
    "        \"SPARC+COL3A1+\\n(Korunsky et al.)\": [\"SPARC\", \"COL3A1\", \"CTHRC1\", \"COL1A1\", \"KIF26B\", \"POSTN\", \"ADAM12\", \"MMP13\", \"ITM2A\"  ],\n",
    "       \"c4-LRRC15\\n(Gao et al.)\": [\"MMP11\", \"COL10A1\", \"POSTN\", \"LRRC15\", \"CTHRC1\", \"PRSS23\", \"ASPN\", \"COL11A1\", \"COL10A1\", \"CTNNB1\", \"PTK7\", \"FNDC1\"],\n",
    "    \"c16-SFRP2\\n(Gao et al.)\": [\"CCDC80\", \"COL14A1\", \"SFRP2\", \"DPT\", \"IGF1\", \"SFRP4\", \"CLU\", \"COMP\", \"SFRP1\", \"IGF2\"] ,\n",
    "                 \n",
    "\n",
    "                                                      \n",
    "\n",
    "          \n",
    "          \n",
    "                       }\n",
    "    \n",
    "sc.pl.matrixplot(\n",
    "    adata_lesional,\n",
    "    CROSS_TISSUE_MARKERS,cmap=\"Reds\",\n",
    "    groupby=\"test13\",#vmax=1.2,\n",
    "    standard_scale=\"var\", colorbar_title='Mean expression\\n(variance scaled)',\n",
    "    dendrogram=False,\n",
    "     save=\"fig6a_crosstissuecomparison.pdf\"\n",
    ")         \n",
    " "
   ]
  },
  {
   "cell_type": "markdown",
   "id": "unlikely-thinking",
   "metadata": {},
   "source": [
    "# CROSS-TISSUE"
   ]
  },
  {
   "cell_type": "markdown",
   "id": "another-legislature",
   "metadata": {},
   "source": [
    "# F6: Inflammatory Myofibroblasts across diseases"
   ]
  },
  {
   "cell_type": "code",
   "execution_count": null,
   "id": "average-oxford",
   "metadata": {},
   "outputs": [],
   "source": [
    "adata_f6 = adata_lesional[adata_lesional.obs[\"test13\"] ==  'F6: Inflammatory myofibroblast']\n",
    "adata_f6.obs[\"Patient_status2\"].value_counts()"
   ]
  },
  {
   "cell_type": "code",
   "execution_count": null,
   "id": "weird-resource",
   "metadata": {},
   "outputs": [],
   "source": [
    "# import scanpy as sc\n",
    "# base_dir = '/nfs/team298/ls34/new_disease_atlas/model_scanvi5_EXTERNAL_OTHERTISSUES_4054/'\n",
    "# adata_f6_nonskin = sc.read_h5ad(base_dir + \"adata_fbsonly_f6_nonskin2.h5ad\")\n",
    "# adata_f6_nonskin.X[:6,:6].A"
   ]
  },
  {
   "cell_type": "code",
   "execution_count": null,
   "id": "fossil-railway",
   "metadata": {},
   "outputs": [],
   "source": [
    "# PATH='/nfs/team298/ls34/fibroblast_atlas_paper/final_adatas/adata_f6_nonskin.h5ad'\n",
    "# adata_f6_nonskin.write(PATH)\n",
    "\n"
   ]
  },
  {
   "cell_type": "code",
   "execution_count": null,
   "id": "former-three",
   "metadata": {},
   "outputs": [],
   "source": [
    "PATH='/nfs/team298/ls34/fibroblast_atlas_paper/final_adatas/adata_f6_nonskin.h5ad'\n",
    "adata_f6_nonskin=sc.read_h5ad(PATH)\n",
    "\n"
   ]
  },
  {
   "cell_type": "code",
   "execution_count": null,
   "id": "combined-disclosure",
   "metadata": {},
   "outputs": [],
   "source": [
    "# import scanpy as sc\n",
    "# base_dir = '/nfs/team298/ls34/new_disease_atlas/model_scanvi5_EXTERNAL_OTHERTISSUES_4054/'\n",
    "# adata_f6_nonskin = sc.read_h5ad(base_dir + \"adata_fbsonly_f6_nonskin2.h5ad.counts\")\n",
    "# adata_f6_nonskin.X[:6,:6].A"
   ]
  },
  {
   "cell_type": "code",
   "execution_count": null,
   "id": "continental-factor",
   "metadata": {},
   "outputs": [],
   "source": [
    "adata_f6_nonskin"
   ]
  },
  {
   "cell_type": "code",
   "execution_count": null,
   "id": "proud-fruit",
   "metadata": {},
   "outputs": [],
   "source": [
    "# adata_lesional.X=adata_lesional.layers[\"counts\"].copy()"
   ]
  },
  {
   "cell_type": "code",
   "execution_count": null,
   "id": "mobile-teddy",
   "metadata": {},
   "outputs": [],
   "source": []
  },
  {
   "cell_type": "code",
   "execution_count": null,
   "id": "moved-holocaust",
   "metadata": {},
   "outputs": [],
   "source": [
    "adata_f6_nonskin.obs[\"Patient_status2\"] = adata_f6_nonskin.obs[\"disease_id2\"] \n",
    "adata_f6_nonskin.obs[\"Patient_status2\"].value_counts()"
   ]
  },
  {
   "cell_type": "code",
   "execution_count": null,
   "id": "abroad-beauty",
   "metadata": {},
   "outputs": [],
   "source": []
  },
  {
   "cell_type": "code",
   "execution_count": null,
   "id": "accompanied-asian",
   "metadata": {},
   "outputs": [],
   "source": []
  },
  {
   "cell_type": "code",
   "execution_count": null,
   "id": "familiar-delivery",
   "metadata": {},
   "outputs": [],
   "source": [
    "# sc.pp.normalize_total(adata_f6_nonskin, target_sum=1e4)\n",
    "# sc.pp.log1p(adata_f6_nonskin)"
   ]
  },
  {
   "cell_type": "code",
   "execution_count": null,
   "id": "mineral-moses",
   "metadata": {},
   "outputs": [],
   "source": [
    "import os\n",
    "os.listdir('/nfs/team298/ls34/new_disease_atlas/model_scanvi5_Wound_5846/')"
   ]
  },
  {
   "cell_type": "code",
   "execution_count": null,
   "id": "interesting-ministry",
   "metadata": {},
   "outputs": [],
   "source": [
    "adata_wounds=sc.read_h5ad('/nfs/team298/ls34/new_disease_atlas/model_scanvi5_Wound_5846/adata_mappedonly_notatlas.h5ad.counts.annotated3')\n",
    "#adata_wounds = sc.read_h5ad('/nfs/team298/ls34/new_disease_atlas/model_scanvi5_Wound_5846/adata_mappedonly_notatlas.h5ad.counts.annotated3.backup.counts')\n",
    "adata_wounds=adata_wounds[adata_wounds.obs[\"annotation\"].str.startswith(\"F6\")]\n",
    "adata_wounds.shape\n"
   ]
  },
  {
   "cell_type": "code",
   "execution_count": null,
   "id": "considerable-audio",
   "metadata": {},
   "outputs": [],
   "source": [
    "adata_wounds.obs[\"Patient_status2\"] = \"Wound\"\n",
    "\n",
    "adata_wounds.X[:6,:6].A"
   ]
  },
  {
   "cell_type": "code",
   "execution_count": null,
   "id": "detailed-season",
   "metadata": {},
   "outputs": [],
   "source": [
    "adata_wounds"
   ]
  },
  {
   "cell_type": "code",
   "execution_count": null,
   "id": "fluid-pearl",
   "metadata": {},
   "outputs": [],
   "source": [
    "adata_f6_nonskin.obs.clusters_final2.value_counts()"
   ]
  },
  {
   "cell_type": "code",
   "execution_count": null,
   "id": "complimentary-liechtenstein",
   "metadata": {},
   "outputs": [],
   "source": [
    "adata_wounds.obs.annotation.value_counts()"
   ]
  },
  {
   "cell_type": "code",
   "execution_count": null,
   "id": "silver-delaware",
   "metadata": {},
   "outputs": [],
   "source": [
    "adata_wounds"
   ]
  },
  {
   "cell_type": "code",
   "execution_count": null,
   "id": "defensive-explosion",
   "metadata": {},
   "outputs": [],
   "source": [
    "adata_f6_nonskin.obs[\"test13\"] = \"F6: Inflammatory myofibroblast\"\n",
    "adata_wounds.obs[\"test13\"] = \"F6: Inflammatory myofibroblast\""
   ]
  },
  {
   "cell_type": "code",
   "execution_count": null,
   "id": "ambient-intranet",
   "metadata": {},
   "outputs": [],
   "source": [
    "adata_f6_nonskin"
   ]
  },
  {
   "cell_type": "code",
   "execution_count": null,
   "id": "bound-majority",
   "metadata": {},
   "outputs": [],
   "source": [
    "adata_f6_nonskin.X[:5,:5].A"
   ]
  },
  {
   "cell_type": "code",
   "execution_count": null,
   "id": "english-moisture",
   "metadata": {},
   "outputs": [],
   "source": [
    "adata_f6.X[:5,:5].A"
   ]
  },
  {
   "cell_type": "code",
   "execution_count": null,
   "id": "affecting-feelings",
   "metadata": {},
   "outputs": [],
   "source": [
    "# adata_wounds.X[:5,:5].A"
   ]
  },
  {
   "cell_type": "code",
   "execution_count": null,
   "id": "valid-douglas",
   "metadata": {},
   "outputs": [],
   "source": [
    "adata_f6_nonskin.obs[\"Patient_status2\"]  = adata_f6_nonskin.obs[\"disease_id2\"] "
   ]
  },
  {
   "cell_type": "code",
   "execution_count": null,
   "id": "authentic-pioneer",
   "metadata": {},
   "outputs": [],
   "source": [
    "adata_f6_all = ad.concat([adata_f6_nonskin, adata_f6, adata_wounds],\n",
    "                        label=\"Tissue\",\n",
    "                        keys=[\"Nonskin\", \"Skin_disease\", \"Skin_wound\"])\n",
    "list(adata_f6_all.obs[\"Patient_status2\"].unique())"
   ]
  },
  {
   "cell_type": "code",
   "execution_count": null,
   "id": "swedish-slovak",
   "metadata": {},
   "outputs": [],
   "source": [
    "adata_f6_all.X[:5,:5]"
   ]
  },
  {
   "cell_type": "code",
   "execution_count": null,
   "id": "extended-observation",
   "metadata": {},
   "outputs": [],
   "source": [
    "# adata_f6_all.write('/nfs/team298/ls34/disease_atlas/final_fb_adatas/adata_f6alltissue.h5ad.counts')\n",
    "\n"
   ]
  },
  {
   "cell_type": "code",
   "execution_count": null,
   "id": "better-enforcement",
   "metadata": {},
   "outputs": [],
   "source": []
  },
  {
   "cell_type": "code",
   "execution_count": null,
   "id": "worldwide-sleeping",
   "metadata": {},
   "outputs": [],
   "source": []
  },
  {
   "cell_type": "code",
   "execution_count": null,
   "id": "endangered-brooklyn",
   "metadata": {},
   "outputs": [],
   "source": [
    "RENAME = { 'Chronic rhinitis':  'Rhinosinusitis w nasal polyps/rhinitis',\n",
    "          \"Rhinosinusitis w nasal polyps/rhinitis\": 'Rhinosinusitis w nasal polyps/rhinitis'\n",
    "}\n",
    "adata_f6_all.obs[\"Patient_status2\"] = adata_f6_all.obs[\"Patient_status2\"] .map(RENAME).fillna(adata_f6_all.obs[\"Patient_status2\"] )\n",
    "adata_f6_all.obs[\"Patient_status2\"].value_counts()"
   ]
  },
  {
   "cell_type": "code",
   "execution_count": null,
   "id": "worse-kruger",
   "metadata": {},
   "outputs": [],
   "source": [
    "# [x for x in list(adata_f6_all.obs[\"Patient_status2\"].unique()) if x not in xtick_order_orig]\n"
   ]
  },
  {
   "cell_type": "code",
   "execution_count": null,
   "id": "buried-stability",
   "metadata": {},
   "outputs": [],
   "source": [
    "#adata_f6_all=adata_f6_all[adata_f6_all.obs[\"Patient_status2\"]!=\"Healthy\"]\n",
    "adata_f6_all.obs[\"Patient_status2\"].value_counts()\n"
   ]
  },
  {
   "cell_type": "code",
   "execution_count": null,
   "id": "veterinary-works",
   "metadata": {},
   "outputs": [],
   "source": [
    "PATH='/nfs/team298/ls34/fibroblast_atlas_paper/final_adatas/adata_f6_nonskin_withskinandwound.h5ad'\n",
    "adata_f6_all.write(PATH)\n",
    "\n"
   ]
  },
  {
   "cell_type": "code",
   "execution_count": null,
   "id": "least-isolation",
   "metadata": {},
   "outputs": [],
   "source": [
    "# PATH='/nfs/team298/ls34/fibroblast_atlas_paper/final_adatas/adata_f6_nonskin_withskinandwound.h5ad'\n",
    "# adata_f6_all.write(PATH)\n",
    "\n"
   ]
  },
  {
   "cell_type": "code",
   "execution_count": null,
   "id": "authorized-williams",
   "metadata": {},
   "outputs": [],
   "source": [
    "LESIONAL_GENES_VSHORT5 = {'F1+F6:My_Inf': ['WNT5A', 'COL7A1'],\n",
    " 'F6: Myofibroblast inflammatory': ['CXCL8', 'CXCL5', 'CXCL6', 'CXCL13', 'IL11', 'IL24', 'MMP1', 'MMP3', 'IL7R', 'INHBA', 'CSF3', 'TDO2', 'WWC1', 'CHI3L1', 'STAT4', 'CCL5', 'CCL3', 'CCL11'],\n",
    "# 'F6(both)+F7': ['ACTA2', 'TAGLN', 'ASPN', 'KIF26B', 'ZNF469', 'RUNX2', 'SULF1', 'ADAM12', 'COL8A1', 'LRRC15', 'CREB3L1', 'CTHRC1', 'CCN4', 'FABP5', 'CDH2']\n",
    "}\n",
    "\n",
    " "
   ]
  },
  {
   "cell_type": "code",
   "execution_count": null,
   "id": "successful-processor",
   "metadata": {},
   "outputs": [],
   "source": [
    "status_counts = adata_f6_all.obs['Patient_status2'].value_counts()\n",
    "categories_to_keep = status_counts[status_counts >= 50].index\n",
    "adata_i_filtered = adata_f6_all[adata_f6_all.obs['Patient_status2'].isin(categories_to_keep), :]\n",
    "adata_i_filtered.obs['Patient_status2'].value_counts()"
   ]
  },
  {
   "cell_type": "code",
   "execution_count": null,
   "id": "acquired-commitment",
   "metadata": {},
   "outputs": [],
   "source": [
    "adata_i_filtered.obs['Patient_status2'].value_counts()"
   ]
  },
  {
   "cell_type": "code",
   "execution_count": null,
   "id": "maritime-blake",
   "metadata": {},
   "outputs": [],
   "source": [
    "NEW_ORDER_MIN10CELLS = ['Dupuytren contracture',\n",
    " 'Keloid scar',\n",
    " 'Morphoea (pansclerotic)',\n",
    " 'Systemic sclerosis',\n",
    "             \n",
    " 'Non-keloid scar',\n",
    "              'Sarcoidosis',\n",
    "\n",
    " 'Granuloma annulare',\n",
    "            #  'Lupus (DLE)',\n",
    "              'Eczema',\n",
    "              'Drug reaction: lichenoid',\n",
    "# 'Drug reaction: DRESS',\n",
    " #'Lupus (SCLE)',\n",
    " 'Alopecia areata',\n",
    " 'Erythema migrans',\n",
    "# 'Neurofibroma',\n",
    " 'Prurigo nodularis',\n",
    "      'Psoriasis', \n",
    " 'Cutaneous melanoma',        'Acral melanoma',\n",
    "\n",
    "              'Basal cell carcinoma',\n",
    " 'Squamous cell carcinoma',\n",
    "\n",
    " 'Hidradenitis suppurativa',\n",
    "\n",
    " 'Acne',\n",
    " 'Wound',\n",
    " 'IBD',\n",
    "\n",
    "'Rhinosinusitis w nasal polyps/rhinitis',\n",
    "            #  'Endometrial',\n",
    " #'Chronic rhinitis',\n",
    " 'Lung cancer - large cell',\n",
    " 'Interstitial lung disease',\n",
    " 'Lung cancer - squamous cell',\n",
    " 'Lung cancer - adenocarcinoma',\n",
    " 'Pulmonary fibrosis',\n",
    " 'COVID-19', 'COPD', 'RA', 'Myocardial infarction',\n",
    "]\n",
    "\n",
    "\n",
    "NEW_ORDER = ['Dupuytren contracture',\n",
    " 'Keloid scar',\n",
    " #'Morphoea (pansclerotic)',\n",
    " 'Systemic sclerosis',\n",
    "             \n",
    " #'Non-keloid scar',\n",
    "              'Sarcoidosis',\n",
    "\n",
    " #'Granuloma annulare',\n",
    "            #  'Lupus (DLE)',\n",
    "       #       'Eczema',\n",
    "          #    'Drug reaction: lichenoid',\n",
    "# 'Drug reaction: DRESS',\n",
    " #'Lupus (SCLE)',\n",
    " #'Alopecia areata',\n",
    "# 'Erythema migrans',\n",
    "# 'Neurofibroma',\n",
    " 'Prurigo nodularis',\n",
    "      'Psoriasis', \n",
    " 'Cutaneous melanoma',        'Acral melanoma',\n",
    "\n",
    "              'Basal cell carcinoma',\n",
    " 'Squamous cell carcinoma',\n",
    "\n",
    " 'Hidradenitis suppurativa',\n",
    "\n",
    " 'Acne',\n",
    " 'Wound',\n",
    " 'IBD',\n",
    "\n",
    "'Rhinosinusitis w nasal polyps/rhinitis',\n",
    "            #  'Endometrial',\n",
    " #'Chronic rhinitis',\n",
    " 'Lung cancer - large cell',\n",
    " 'Interstitial lung disease',\n",
    " 'Lung cancer - squamous cell',\n",
    " 'Lung cancer - adenocarcinoma',\n",
    " 'Pulmonary fibrosis',\n",
    " 'COVID-19',# 'COPD',\n",
    "             'RA', 'Myocardial infarction',\n",
    "]\n",
    "\n",
    "for x in NEW_ORDER:\n",
    "    if x not in adata_i_filtered.obs[\"Patient_status2\"].unique():\n",
    "        print(x)"
   ]
  },
  {
   "cell_type": "code",
   "execution_count": null,
   "id": "applicable-assignment",
   "metadata": {},
   "outputs": [],
   "source": [
    "def remove_markers(LIST):\n",
    "    try: \n",
    "        LIST = {key: [gene for gene in genes if gene in adata_f6_all.var_names] \n",
    "                           for key, genes in LIST.items()}\n",
    "    except: \n",
    "        LIST =[gene for gene in LIST if gene in adata_f6_all.var_names]\n",
    "    return LIST\n"
   ]
  },
  {
   "cell_type": "code",
   "execution_count": null,
   "id": "worthy-steam",
   "metadata": {},
   "outputs": [],
   "source": [
    "chemok =  [\n",
    "            \"MMP1\",      \n",
    "           \"IL7R\", 'CXCL5',  \"CXCL8\",\n",
    "                                      \"CSF3\",   'IL11', #\"TDO2\", \n",
    "                                                   #    \"CDH6\", \n",
    "                          #  \"TENM4\",\"H19\", \"TSPAN13\",\n",
    "                     #     \"TOX\", \"NEFH\", \"FABP5\", \"LRRC17\", \"ADAM12\", \"PLPP4\", \"FAT3\",    \"SLC24A2\", \"COL10A1\", \"LAMP5\",  \n",
    "                     #                \"EGFL6\", \"ALPK2\",\n",
    "                       #                       \"ITGA10\", \"ADAMTS14\", \n",
    "                        #                   'STARD4-AS1', 'COL9A3', \"ADAM19\", \"SIX1\", \"TNFSF4\", \n",
    "                      #                        \"MIR503HG\",\n",
    "     # \"POPDC3\", \"MSX2\", \"GK\", \"CPM\", \n",
    "    #                                  \"WWC1\", \"SLAMF8\", \n",
    "      ##\"BMP8A\", \n",
    "   #    \"CHI3L1\",#\"STAT4\",#\"IFI30\",\n",
    "                                          \"CCL5\",  #\"CCL3\",    \n",
    "                                       #   \"CCL11\",   \"HCK\", \"FOXQ1\", \"FOXF2\", \n",
    "     #  \"FAM167A\", \n",
    "                                          \"CCL26\"\n",
    "#        \"CCL19\", \"CD74\", \"RBP5\",# \"HLA-DRA\",\n",
    "                                    ]\n"
   ]
  },
  {
   "cell_type": "code",
   "execution_count": null,
   "id": "minute-malta",
   "metadata": {},
   "outputs": [],
   "source": [
    "filtered_counts = adata_i_filtered.obs['Patient_status2'].value_counts()\n",
    "adata_i_filtered.obs['Patient_status2_with_counts'] = adata_i_filtered.obs['Patient_status2'].map(lambda x: f\"{x} (n={filtered_counts[x]})\")\n",
    "xtick_order_with_counts = [f\"{category} (n={filtered_counts[category]})\" for category in NEW_ORDER if category in filtered_counts]\n",
    "\n",
    "sc.pl.dotplot(\n",
    "    adata_i_filtered,\n",
    "    remove_markers(chemok),\n",
    "    groupby=\"Patient_status2_with_counts\",  # Keep this as 'Patient_status2' for correct categorization\n",
    "    vmax=1,\n",
    "    colorbar_title='Mean expression\\n(log1p norm)',\n",
    "    cmap=\"Reds\",\n",
    "    categories_order=xtick_order_with_counts,  # Updated order with counts\n",
    "    dot_max=0.4,\n",
    "    save=\"7d_f6.pdf\"\n",
    "    #add_gene_names=True  # Optional: Add gene names for clarity\n",
    ")"
   ]
  },
  {
   "cell_type": "code",
   "execution_count": null,
   "id": "constitutional-feeding",
   "metadata": {},
   "outputs": [],
   "source": [
    "filtered_counts = adata_i_filtered.obs['Patient_status2'].value_counts()\n",
    "xtick_order_with_counts = [f\"{category} (n={filtered_counts[category]})\" for category in NEW_ORDER if category in filtered_counts]\n",
    "sc.pl.dotplot(\n",
    "    adata_i_filtered,\n",
    "    remove_markers(chemok),\n",
    "    groupby=\"Patient_status2\",\n",
    "    vmax=.8,\n",
    "    colorbar_title='Mean expression\\n(log1p norm)',\n",
    "    cmap=\"Reds\",\n",
    "    #categories_order=xtick_order_with_counts,  # Use the new order with counts\n",
    "    dot_max=0.4,\n",
    ")"
   ]
  },
  {
   "cell_type": "code",
   "execution_count": null,
   "id": "motivated-variable",
   "metadata": {},
   "outputs": [],
   "source": [
    "# stop"
   ]
  },
  {
   "cell_type": "code",
   "execution_count": null,
   "id": "embedded-visit",
   "metadata": {},
   "outputs": [],
   "source": [
    "adata_f3 = adata_lesional[adata_lesional.obs[\"test13\"].str.startswith('F3')]\n",
    "adata_f3.shape"
   ]
  },
  {
   "cell_type": "code",
   "execution_count": null,
   "id": "touched-olympus",
   "metadata": {},
   "outputs": [],
   "source": [
    "adata_wounds=sc.read_h5ad('/nfs/team298/ls34/new_disease_atlas/model_scanvi5_Wound_5846/adata_mappedonly_notatlas.h5ad.counts.annotated3')\n",
    "adata_wounds=adata_wounds[adata_wounds.obs[\"annotation\"].str.startswith(\"F3\")]\n",
    "adata_wounds.shape\n",
    "adata_wounds.obs[\"Patient_status2\"] = \"Wound\"\n"
   ]
  },
  {
   "cell_type": "code",
   "execution_count": null,
   "id": "applied-hospital",
   "metadata": {},
   "outputs": [],
   "source": [
    "adata_f3_nonskin=sc.read_h5ad('/nfs/team298/ls34/new_disease_atlas/model_scanvi5_EXTERNAL_OTHERTISSUES_4054/adata_f3only.h5ad')\n",
    "adata_f3_nonskin.X[:8,:8].A"
   ]
  },
  {
   "cell_type": "code",
   "execution_count": null,
   "id": "toxic-possibility",
   "metadata": {},
   "outputs": [],
   "source": [
    "# sc.pp.normalize_total(adata_f6_nonskin, target_sum=1e4)\n",
    "# sc.pp.log1p(adata_f6_nonskin)\n",
    "adata_f3_all = ad.concat([adata_f3_nonskin, adata_f3, adata_wounds])\n",
    "list(adata_f3_all.obs[\"Patient_status2\"].unique())\n",
    "RENAME = { 'Chronic rhinitis':  'Rhinosinusitis w nasal polyps/rhinitis',\n",
    "          \"Rhinosinusitis w nasal polyps/rhinitis\": 'Rhinosinusitis w nasal polyps/rhinitis'\n",
    "}"
   ]
  },
  {
   "cell_type": "code",
   "execution_count": null,
   "id": "raised-implementation",
   "metadata": {},
   "outputs": [],
   "source": []
  },
  {
   "cell_type": "code",
   "execution_count": null,
   "id": "alpha-screw",
   "metadata": {},
   "outputs": [],
   "source": []
  },
  {
   "cell_type": "code",
   "execution_count": null,
   "id": "inside-checklist",
   "metadata": {},
   "outputs": [],
   "source": []
  },
  {
   "cell_type": "code",
   "execution_count": null,
   "id": "digital-cologne",
   "metadata": {},
   "outputs": [],
   "source": [
    "adata_f3_all=adata_f3_all[adata_f3_all.obs[\"Patient_status2\"]!=\"Healthy\"]\n",
    "adata_f3_all=adata_f3_all[adata_f3_all.obs[\"Patient_status2\"]!=\"Skin\"]\n",
    "adata_f6_all.obs[\"Patient_status2\"].value_counts()\n",
    "adata_f6_all.X[:6,:6].A"
   ]
  },
  {
   "cell_type": "code",
   "execution_count": null,
   "id": "moved-equilibrium",
   "metadata": {},
   "outputs": [],
   "source": [
    "\n",
    "adata_f3_all.obs[\"Patient_status2\"] = adata_f3_all.obs[\"Patient_status2\"] .map(RENAME).fillna(adata_f3_all.obs[\"Patient_status2\"] )\n",
    "adata_f3_all.obs[\"Patient_status2\"].value_counts()"
   ]
  },
  {
   "cell_type": "code",
   "execution_count": null,
   "id": "awful-pierre",
   "metadata": {},
   "outputs": [],
   "source": [
    "# LESIONAL_GENES_VSHORT5 = {'F1+F6:My_Inf': ['WNT5A', 'COL7A1'],\n",
    "#  'F6: Myofibroblast inflammatory': ['CXCL8', 'CXCL5', 'CXCL6', 'CXCL13', 'IL11', 'IL24', 'MMP1', 'MMP3', 'IL7R', 'INHBA', 'CSF3', 'TDO2', 'WWC1', 'CHI3L1', 'STAT4', 'CCL5', 'CCL3', 'CCL11'],\n",
    "# # 'F6(both)+F7': ['ACTA2', 'TAGLN', 'ASPN', 'KIF26B', 'ZNF469', 'RUNX2', 'SULF1', 'ADAM12', 'COL8A1', 'LRRC15', 'CREB3L1', 'CTHRC1', 'CCN4', 'FABP5', 'CDH2']\n",
    "# }\n",
    "\n",
    "\n",
    "\n",
    "# #xtick_order_filtered = [category for category in NEW_ORDER if category in filtered_categories]\n",
    "# #xtick_order_with_counts = [f\"{category} (n={filtered_counts[category]})\" for category in xtick_order_filtered]\n",
    "# adata_i_filtered = adata_f6_all[adata_f6_all.obs['Patient_status2'].isin(filtered_categories)]\n",
    "# #adata_i_filtered.obs['Patient_status2_with_counts'] = adata_i_filtered.obs['Patient_status2'].map(lambda x: f\"{x} (n={filtered_counts[x]})\")\n",
    "# adata_i_filtered.obs['Patient_status2'].value_counts()\n"
   ]
  },
  {
   "cell_type": "code",
   "execution_count": null,
   "id": "capital-sapphire",
   "metadata": {},
   "outputs": [],
   "source": [
    "counts = adata_f3_all.obs['Patient_status2'].value_counts()\n",
    "\n"
   ]
  },
  {
   "cell_type": "code",
   "execution_count": null,
   "id": "protected-folks",
   "metadata": {},
   "outputs": [],
   "source": [
    "# Count number of cells per category\n",
    "\n",
    "# Filter to keep only categories with >= 10 cells\n",
    "valid_categories = counts[counts >= 100].index\n",
    "\n",
    "# Subset the AnnData adata_f3_all\n",
    "adata_i_filtered = adata_f3_all[adata_f3_all.obs['Patient_status2'].isin(valid_categories)].copy()"
   ]
  },
  {
   "cell_type": "code",
   "execution_count": null,
   "id": "amino-remark",
   "metadata": {},
   "outputs": [],
   "source": [
    "sorted(list(adata_i_filtered.obs[\"Patient_status2\"].unique()))"
   ]
  },
  {
   "cell_type": "code",
   "execution_count": null,
   "id": "opposed-divide",
   "metadata": {},
   "outputs": [],
   "source": [
    "ORDER2= ['Acne',\n",
    " 'Acral melanoma',\n",
    " 'Alopecia areata',\n",
    " 'Basal cell carcinoma',\n",
    " 'Drug reaction: DRESS',\n",
    " 'Drug reaction: lichenoid',\n",
    " 'Eczema',\n",
    " 'Erythema migrans',\n",
    " 'Granuloma annulare',\n",
    " 'Hidradenitis suppurativa',\n",
    " 'Keloid scar',\n",
    " 'Lupus (SCLE)',\n",
    " 'Morphoea (pansclerotic)',\n",
    " 'Non-keloid scar',\n",
    " 'Prurigo nodularis',\n",
    " 'Psoriasis',\n",
    " 'Sarcoidosis',\n",
    " #'Skin',\n",
    " 'Systemic sclerosis',\n",
    " 'Wound',\n",
    "       'IBD',   'COVID-19', 'Interstitial lung disease',\n",
    "\n",
    "          'Pulmonary fibrosis', 'RA',\n",
    "\n",
    "\n",
    "\n",
    "]"
   ]
  },
  {
   "cell_type": "code",
   "execution_count": null,
   "id": "oriented-payroll",
   "metadata": {},
   "outputs": [],
   "source": [
    "chemok=['CCL19',\"CD74\" ,  'CH25H',  \"TNFSF13B\",  'IL33', \"IRF8\" ,#\"COX4I2\", \n",
    "       # \"IL7\",\n",
    "        \"IL15\",\n",
    "        \"VCAM1\", \"HLA-DRA\", \"HLA-DRB1\",# \"CCL11\",\"CCL7\", \"CCL2\",\n",
    "        \"ADAMDEC1\", \"CXCL9\"\n",
    "       ]"
   ]
  },
  {
   "cell_type": "code",
   "execution_count": null,
   "id": "economic-casting",
   "metadata": {},
   "outputs": [],
   "source": [
    "def remove_markers(LIST):\n",
    "    try: \n",
    "        LIST = {key: [gene for gene in genes if gene in adata_f6_all.var_names] \n",
    "                           for key, genes in LIST.items()}\n",
    "    except: \n",
    "        LIST =[gene for gene in LIST if gene in adata_f6_all.var_names]\n",
    "    return LIST\n",
    "\n",
    "\n",
    "\n",
    "sc.pl.dotplot(\n",
    "    adata_i_filtered,\n",
    "    remove_markers(chemok),\n",
    "    groupby=\"Patient_status2\",\n",
    "    standard_scale=\"var\", colorbar_title='Variance scaled\\nexpression',\n",
    "    cmap=\"Reds\",\n",
    "   categories_order=ORDER2,\n",
    "    dot_max=.8,\n",
    ")\n",
    "sc.pl.dotplot(\n",
    "    adata_i_filtered,\n",
    "    remove_markers(chemok),\n",
    "    groupby=\"Patient_status2\",\n",
    "    vmax=1.2,\n",
    "    colorbar_title='Mean expression\\n(log1p norm)',\n",
    "    cmap=\"Reds\",\n",
    "   categories_order=ORDER2,\n",
    "        dot_max=.8,\n",
    "  #  save=\"6e.pdf\"\n",
    ")"
   ]
  },
  {
   "cell_type": "code",
   "execution_count": null,
   "id": "industrial-secretariat",
   "metadata": {},
   "outputs": [],
   "source": [
    "NEW_ORDER = ['Eczema', 'Drug reaction: lichenoid',  'Drug reaction: DRESS',  'Erythema migrans', 'Alopecia areata', 'Lupus (SCLE)', \n",
    "'Granuloma annulare','Morphoea (pansclerotic)',\n",
    "'Non-keloid scar',\n",
    "    \n",
    "    \n",
    "    'Dupuytren contracture',\n",
    " 'Keloid scar',\n",
    " 'Systemic sclerosis',\n",
    " 'Sarcoidosis',\n",
    " 'Prurigo nodularis',\n",
    " 'Psoriasis',\n",
    " 'Cutaneous melanoma',\n",
    " 'Acral melanoma',\n",
    " 'Basal cell carcinoma',\n",
    " 'Squamous cell carcinoma',\n",
    " 'Hidradenitis suppurativa',\n",
    " 'Acne',\n",
    " 'Wound',\n",
    " 'IBD',\n",
    " 'Rhinosinusitis w nasal polyps/rhinitis',\n",
    " 'Lung cancer - large cell',\n",
    " 'Interstitial lung disease',\n",
    " 'Lung cancer - squamous cell',\n",
    " 'Lung cancer - adenocarcinoma',\n",
    " 'Pulmonary fibrosis',\n",
    " 'COVID-19',\n",
    " 'RA',\n",
    " 'Myocardial infarction']"
   ]
  },
  {
   "cell_type": "code",
   "execution_count": null,
   "id": "greenhouse-composition",
   "metadata": {},
   "outputs": [],
   "source": []
  },
  {
   "cell_type": "code",
   "execution_count": null,
   "id": "express-prototype",
   "metadata": {},
   "outputs": [],
   "source": [
    "# Step 1: Create the 'Patient_status2_with_counts' column with counts appended to the category names\n",
    "filtered_counts = adata_i_filtered.obs['Patient_status2'].value_counts()\n",
    "\n",
    "# Map the counts to each category in 'Patient_status2'\n",
    "adata_i_filtered.obs['Patient_status2_with_counts'] = adata_i_filtered.obs['Patient_status2'].map(lambda x: f\"{x} (n={filtered_counts[x]})\")\n",
    "\n",
    "# Step 2: Use the updated column in dotplot with the correct categorical order\n",
    "# Note: Ensure that 'NEW_ORDER' categories are actual disease categories, not intervals\n",
    "xtick_order_with_counts = [f\"{category} (n={filtered_counts[category]})\" for category in NEW_ORDER if category in filtered_counts]\n",
    "\n",
    "sc.pl.dotplot(\n",
    "    adata_i_filtered,\n",
    "    remove_markers(chemok),\n",
    "    groupby=\"Patient_status2_with_counts\",  # Keep this as 'Patient_status2' for correct categorization\n",
    "    vmax=1,\n",
    "    colorbar_title='Mean expression\\n(log1p norm)',\n",
    "    cmap=\"Reds\",\n",
    "    categories_order=xtick_order_with_counts,  # Updated order with counts\n",
    "    dot_max=0.4,\n",
    "    save=\"7B_f6.pdf\"\n",
    "    #add_gene_names=True  # Optional: Add gene names for clarity\n",
    ")\n",
    "\n",
    "\n"
   ]
  },
  {
   "cell_type": "code",
   "execution_count": null,
   "id": "color-scanning",
   "metadata": {},
   "outputs": [],
   "source": []
  },
  {
   "cell_type": "code",
   "execution_count": null,
   "id": "interested-exclusion",
   "metadata": {},
   "outputs": [],
   "source": []
  },
  {
   "cell_type": "code",
   "execution_count": null,
   "id": "aggressive-supervisor",
   "metadata": {},
   "outputs": [],
   "source": []
  },
  {
   "cell_type": "code",
   "execution_count": null,
   "id": "artificial-function",
   "metadata": {},
   "outputs": [],
   "source": []
  }
 ],
 "metadata": {
  "kernelspec": {
   "display_name": "sko_ls",
   "language": "python",
   "name": "sko_ls"
  },
  "language_info": {
   "codemirror_mode": {
    "name": "ipython",
    "version": 3
   },
   "file_extension": ".py",
   "mimetype": "text/x-python",
   "name": "python",
   "nbconvert_exporter": "python",
   "pygments_lexer": "ipython3",
   "version": "3.10.0"
  }
 },
 "nbformat": 4,
 "nbformat_minor": 5
}
