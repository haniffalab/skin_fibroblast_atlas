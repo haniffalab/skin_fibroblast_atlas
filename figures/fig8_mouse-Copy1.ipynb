{
 "cells": [
  {
   "cell_type": "code",
   "execution_count": 1,
   "id": "compound-inclusion",
   "metadata": {},
   "outputs": [],
   "source": [
    "import anndata\n",
    "import anndata as ad\n",
    "import os\n",
    "import numpy as np\n",
    "import pickle\n",
    "import pandas as pd\n",
    "from pandas.api.types import CategoricalDtype\n",
    "from rpy2.robjects import r, pandas2ri\n",
    "from rpy2.robjects.packages import importr\n",
    "import scanpy as sc\n",
    "from scipy import sparse\n",
    "import matplotlib.pyplot as plt\n"
   ]
  },
  {
   "cell_type": "code",
   "execution_count": 2,
   "id": "provincial-princeton",
   "metadata": {},
   "outputs": [],
   "source": [
    "sc.settings.verbosity=0 # verbosity: errors (0), warnings (1), info (2), hints (3)\n",
    "sc.settings.n_jobs=4\n",
    "sc.settings.set_figure_params  (dpi_save=300, facecolor=\"white\", frameon=False, figsize=(8,8))\n",
    "plt.rcParams['pdf.fonttype'] = 42\n",
    "plt.rcParams['ps.fonttype'] = 42\n",
    "%matplotlib inline\n"
   ]
  },
  {
   "cell_type": "code",
   "execution_count": 3,
   "id": "clinical-equivalent",
   "metadata": {},
   "outputs": [],
   "source": [
    "sc.settings.figdir = \"fig8\"\n"
   ]
  },
  {
   "cell_type": "markdown",
   "id": "periodic-prayer",
   "metadata": {},
   "source": [
    "# Load all cells"
   ]
  },
  {
   "cell_type": "code",
   "execution_count": 4,
   "id": "fifty-brooks",
   "metadata": {},
   "outputs": [],
   "source": [
    "# pandas2ri.activate()\n",
    "\n",
    "# seurat = importr('Seurat')\n",
    "# matrix = importr('Matrix')\n",
    "\n",
    "# file_path = os.path.expanduser(\"/lustre/scratch126/cellgen/team298/ls34/Mouse_SS_Fibro.RDS\")\n",
    "\n",
    "# # Define the R function to read a Seurat object from an RDS file\n",
    "# r('''\n",
    "#     library(Seurat)\n",
    "#     read_seurat_obj <- function(file_path) {\n",
    "#         readRDS(file_path)\n",
    "#     }\n",
    "# ''')\n",
    "\n",
    "# seurat_obj = ro.r['read_seurat_obj'](file_path)\n",
    "\n",
    "# num_cells = ro.r('function(x) dim(x)[2]')(seurat_obj)[0]\n",
    "# num_genes = ro.r('function(x) dim(x)[1]')(seurat_obj)[0]\n",
    "# print(f\"The dataset contains {num_cells} cells and {num_genes} genes.\")\n",
    "\n",
    "# r('''\n",
    "#     library(Seurat)\n",
    "#     library(Matrix)\n",
    "#     get_sparse_matrix <- function(x) {\n",
    "#         counts <- GetAssayData(x, slot = \"counts\")\n",
    "#         sparse_counts <- as(counts, \"CsparseMatrix\")\n",
    "#         return(sparse_counts)\n",
    "#     }\n",
    "# ''')\n",
    "\n",
    "# exprs = ro.r('get_sparse_matrix')(seurat_obj)\n",
    "# meta_data = np.array(ro.r('function(x) as.data.frame(x@meta.data)')(seurat_obj))\n",
    "# meta_data_colnames = list(ro.r('function(x) colnames(x@meta.data)')(seurat_obj))\n",
    "# gene_names = np.array(ro.r('function(x) rownames(GetAssayData(x, slot = \"counts\"))')(seurat_obj))\n",
    "\n",
    "# exprs_sparse = sparse.csc_matrix((exprs.do_slot(\"x\"), exprs.do_slot(\"i\"), exprs.do_slot(\"p\")), shape=exprs.do_slot(\"Dim\"))\n",
    "\n",
    "# meta_data_df = pd.DataFrame(meta_data.T, columns=meta_data_colnames)  # Transpose the metadata\n",
    "\n",
    "# adata = ad.AnnData(X=exprs_sparse.T, obs=meta_data_df, var=pd.DataFrame(index=gene_names))\n",
    "# adata"
   ]
  },
  {
   "cell_type": "code",
   "execution_count": 5,
   "id": "double-hometown",
   "metadata": {},
   "outputs": [],
   "source": [
    "# sc.pp.normalize_total(adata, target_sum=1e4)\n",
    "# sc.pp.log1p(adata)\n"
   ]
  },
  {
   "cell_type": "code",
   "execution_count": 6,
   "id": "opened-sending",
   "metadata": {},
   "outputs": [],
   "source": [
    "# adata.write('/nfs/team298/ls34/disease_atlas/final_fb_adatas/adata_mouse_normalized.h5ad')"
   ]
  },
  {
   "cell_type": "code",
   "execution_count": 7,
   "id": "lesbian-lafayette",
   "metadata": {},
   "outputs": [],
   "source": [
    "adata = sc.read_h5ad('/nfs/team298/ls34/disease_atlas/final_fb_adatas/adata_mouse_normalized.h5ad')"
   ]
  },
  {
   "cell_type": "code",
   "execution_count": 8,
   "id": "alternative-sleeping",
   "metadata": {},
   "outputs": [],
   "source": [
    "#adata_hum = sc.read_h5ad('/nfs/team298/ls34/disease_atlas/data2/adata_fbspericytesnonlesional_SCVI_3526_new_neighbor50_ANNOTATED_umap30_leiden_paga3_FINALcoreonly.h5ad')\n",
    "adata_hum = sc.read_h5ad(\\\n",
    "    '/nfs/team298/ls34/disease_atlas/final_fb_adatas/adata_fbspericytesnonlesional_SCVI_3526_new_neighbor50_ANNOTATED_umap30_leiden_paga3_FINALcoreonly.h5ad.v3')\n",
    "                         \n",
    "                         #'/nfs/team298/ls34/disease_atlas/data2/adata_fbspericytesnonlesional_SCVI_3526_new_neighbor50_ANNOTATED_umap30_leiden_paga3_FINALcoreonly.h5ad')"
   ]
  },
  {
   "cell_type": "markdown",
   "id": "liquid-equity",
   "metadata": {},
   "source": [
    "# Plot figures"
   ]
  },
  {
   "cell_type": "code",
   "execution_count": 9,
   "id": "satellite-deviation",
   "metadata": {},
   "outputs": [],
   "source": [
    "adata_skin = adata[adata.obs[\"Tissue\"]==\"Skin\"]"
   ]
  },
  {
   "cell_type": "code",
   "execution_count": 10,
   "id": "modern-search",
   "metadata": {},
   "outputs": [
    {
     "name": "stderr",
     "output_type": "stream",
     "text": [
      "/tmp/ipykernel_5078/4154255040.py:20: ImplicitModificationWarning: Trying to modify attribute `.obs` of view, initializing view as actual.\n",
      "  adata_skin.obs['ClustName2'] = adata_skin.obs['ClustName'].astype(cat_type)\n"
     ]
    }
   ],
   "source": [
    "desired_order = [ 'Pi16',\n",
    "                  'Col15a1',\n",
    "                  'Comp',\n",
    "               \n",
    " 'Cxcl12',\n",
    "                   'Ccl19',\n",
    "\n",
    "\n",
    " 'Coch',\n",
    "                  'Bmp4',\n",
    " 'Hhip',\n",
    " 'Fbln1',\n",
    " 'Npnt',\n",
    "\n",
    "]\n",
    "from pandas.api.types import CategoricalDtype\n",
    "\n",
    "cat_type = CategoricalDtype(categories=desired_order, ordered=True)\n",
    "adata.obs['ClustName2'] = adata.obs['ClustName'].astype(cat_type)\n",
    "adata_skin.obs['ClustName2'] = adata_skin.obs['ClustName'].astype(cat_type)\n"
   ]
  },
  {
   "cell_type": "code",
   "execution_count": 11,
   "id": "electric-appraisal",
   "metadata": {},
   "outputs": [
    {
     "data": {
      "text/plain": [
       "['CCL19',\n",
       " 'CD74',\n",
       " 'CH25H',\n",
       " 'TNFSF13B',\n",
       " 'IL33',\n",
       " 'IRF8',\n",
       " 'IL15',\n",
       " 'VCAM1',\n",
       " 'HLA-DRA',\n",
       " 'HLA-DRB1']"
      ]
     },
     "execution_count": 11,
     "metadata": {},
     "output_type": "execute_result"
    }
   ],
   "source": [
    "pickle_file_path = '/nfs/team298/ls34/fb_dict.pkl'\n",
    "with open(pickle_file_path, 'rb') as file:\n",
    "    reynolds_short_final = pickle.load(file)\n",
    "reynolds_short_final[\"F3\"]\n"
   ]
  },
  {
   "cell_type": "code",
   "execution_count": 12,
   "id": "anonymous-tolerance",
   "metadata": {},
   "outputs": [
    {
     "name": "stderr",
     "output_type": "stream",
     "text": [
      "/home/jovyan/my-conda-envs/sko_ls/lib/python3.10/site-packages/scanpy/plotting/_dotplot.py:168: FutureWarning: The default of observed=False is deprecated and will be changed to True in a future version of pandas. Pass observed=False to retain current behavior or observed=True to adopt the future default and silence this warning.\n",
      "  obs_bool.groupby(level=0).sum() / obs_bool.groupby(level=0).count()\n",
      "/home/jovyan/my-conda-envs/sko_ls/lib/python3.10/site-packages/scanpy/plotting/_dotplot.py:178: FutureWarning: The default of observed=False is deprecated and will be changed to True in a future version of pandas. Pass observed=False to retain current behavior or observed=True to adopt the future default and silence this warning.\n",
      "  dot_color_df = self.obs_tidy.groupby(level=0).mean()\n",
      "/home/jovyan/my-conda-envs/sko_ls/lib/python3.10/site-packages/scanpy/plotting/_dotplot.py:747: UserWarning: No data for colormapping provided via 'c'. Parameters 'cmap', 'norm' will be ignored\n",
      "  dot_ax.scatter(x, y, **kwds)\n"
     ]
    },
    {
     "data": {
      "image/png": "[encoded data removed]",
      "text/plain": [
       "<Figure size 356.8x360 with 5 Axes>"
      ]
     },
     "metadata": {
      "image/png": {
       "height": 372,
       "width": 366
      }
     },
     "output_type": "display_data"
    }
   ],
   "source": [
    "flattened_list_o=['CCL19',\n",
    " 'CD74',\n",
    " 'CH25H',\n",
    " 'TNFSF13B',\n",
    " 'IL33',\n",
    " 'IRF8',\n",
    " 'IL15',\n",
    " 'VCAM1',\n",
    " 'HLA-DRA',\n",
    " 'HLA-DRB1'] \n",
    "\n",
    "# = [gene for sublist in reynolds_short3.values() for gene in sublist]\n",
    "flattened_list = [s.capitalize() for s in flattened_list_o]\n",
    "flattened_list = [x for x in flattened_list if x in adata.var_names]\n",
    "flattened_list\n",
    "\n",
    "sc.pl.dotplot(\n",
    "    adata,\n",
    "    flattened_list,\n",
    "    groupby=\"ClustName2\",\n",
    "    #standard_scale=\"var\",\n",
    "    vmax=2,\n",
    "    dendrogram=False,\n",
    "    title=\"Mouse (all tissue)\",\n",
    "    save=\"8b_mouse_homologousgenes.pdf\"\n",
    ") \n",
    " \n",
    "# sc.pl.dotplot(\n",
    "#     adata_skin,\n",
    "#     flattened_list,\n",
    "#     groupby=\"ClustName2\",\n",
    "#     vmax=2,\n",
    "# #    standard_scale=\"var\",\n",
    "#     dendrogram=False,\n",
    "#     title=\"Mouse (skin)\"\n",
    "# ) \n",
    "# adata_hum\n",
    "\n",
    "# sc.pl.dotplot(\n",
    "#     adata_hum,\n",
    "#     flattened_list_o,\n",
    "#     groupby=\"corefb_names2\",\n",
    "#     vmax=2,\n",
    "# #    standard_scale=\"var\",\n",
    "#     dendrogram=False,\n",
    "#     title=\"Human (skin)\"\n",
    "# ) \n"
   ]
  },
  {
   "cell_type": "markdown",
   "id": "major-green",
   "metadata": {},
   "source": [
    "# Mouse atlas"
   ]
  },
  {
   "cell_type": "code",
   "execution_count": 13,
   "id": "acceptable-baking",
   "metadata": {},
   "outputs": [],
   "source": [
    "desired_order = [ 'Pi16',\n",
    "                  'Col15a1',\n",
    "                  'Comp',\n",
    "               \n",
    " 'Cxcl12',\n",
    "                   'Ccl19',\n",
    "\n",
    "\n",
    " 'Coch',\n",
    "                  'Bmp4',\n",
    " 'Hhip',\n",
    " 'Fbln1',\n",
    " 'Npnt',\n",
    "\n",
    "]\n",
    "\n",
    "cat_type = CategoricalDtype(categories=desired_order, ordered=True)\n",
    "adata.obs['ClustName2'] = adata.obs['ClustName'].astype(cat_type)\n",
    "adata_skin.obs['ClustName2'] = adata_skin.obs['ClustName'].astype(cat_type)\n",
    " \n"
   ]
  },
  {
   "cell_type": "code",
   "execution_count": 14,
   "id": "crazy-playback",
   "metadata": {},
   "outputs": [],
   "source": [
    "# import pandas as pd\n",
    "# import matplotlib.pyplot as plt\n",
    "\n",
    "# total_cells_per_tissue = adata.obs['Tissue'].value_counts()\n",
    "# ccl19_cells_per_tissue = adata.obs[adata.obs['ClustName'] == 'Ccl19']['Tissue'].value_counts()\n",
    "\n",
    "# proportion_ccl19 = ccl19_cells_per_tissue / total_cells_per_tissue\n",
    "\n",
    "# proportion_ccl19 = proportion_ccl19.sort_index()\n",
    "\n",
    "# plt.figure(figsize=(6, 6))  # Adjust the figsize for a narrower plot\n",
    "# ax = proportion_ccl19.plot(kind='bar', color='#e60000')\n",
    "\n",
    "# ax.spines['top'].set_visible(False)\n",
    "# ax.spines['right'].set_visible(False)\n",
    "\n",
    "# plt.xticks(rotation=90, fontsize=12)\n",
    "# plt.ylabel(\"Proportion Ccl19+ (Mouse)\", fontsize=20)\n",
    "# plt.xlabel(\"\", fontsize=20)\n",
    "\n",
    "# plt.yticks(fontsize=12)\n",
    "# plt.tight_layout()\n",
    "\n",
    "\n",
    "# plt.show()"
   ]
  },
  {
   "cell_type": "code",
   "execution_count": 15,
   "id": "stopped-child",
   "metadata": {},
   "outputs": [],
   "source": [
    "adata_skin = adata[adata.obs[\"Tissue\"]==\"Skin\"]"
   ]
  },
  {
   "cell_type": "code",
   "execution_count": 16,
   "id": "available-instrumentation",
   "metadata": {},
   "outputs": [],
   "source": [
    "adata_colon = adata[adata.obs[\"Tissue\"]==\"Liver\"]\n",
    "adata_LN = adata[adata.obs[\"Tissue\"]==\"Lymph Node\"]\n",
    "adata_lung = adata[adata.obs[\"Tissue\"]==\"Lung\"]\n"
   ]
  },
  {
   "cell_type": "code",
   "execution_count": 17,
   "id": "acoustic-monster",
   "metadata": {},
   "outputs": [
    {
     "name": "stderr",
     "output_type": "stream",
     "text": [
      "/tmp/ipykernel_5078/1986748098.py:12: FutureWarning: A value is trying to be set on a copy of a DataFrame or Series through chained assignment using an inplace method.\n",
      "The behavior will change in pandas 3.0. This inplace method will never work because the intermediate object on which we are setting values always behaves as a copy.\n",
      "\n",
      "For example, when doing 'df[col].method(value, inplace=True)', try using 'df.method({col: value}, inplace=True)' or df[col] = df[col].method(value) instead, to perform the operation inplace on the original object.\n",
      "\n",
      "\n",
      "  adata_hum.obs[\"ClustName\"].fillna(\"F4 DPEP1 + F5\", inplace=True)\n"
     ]
    }
   ],
   "source": [
    "mapping_dict = {\n",
    "    \"F2: Universal\": \"Pi16\",\n",
    "    \"F2/3: Stroma_PPARG+\": \"Cxcl12\",\n",
    "    \"F3: FRC-like\": \"Ccl19\",\n",
    "    \"F1: Secretory\": \"Comp\",\n",
    "    \"F4: TNN+COCH+\": \"Coch\",\n",
    "    \"F4: DP_HHIP+\": \"Hhip\"\n",
    "}\n",
    "\n",
    "adata_hum.obs[\"ClustName\"] = adata_hum.obs[\"corefb_names\"].map(mapping_dict)\n",
    "\n",
    "adata_hum.obs[\"ClustName\"].fillna(\"F4 DPEP1 + F5\", inplace=True)\n",
    "adata_hum.obs[\"ClustName2\"] = adata_hum.obs[\"ClustName\"]"
   ]
  },
  {
   "cell_type": "code",
   "execution_count": 18,
   "id": "irish-commitment",
   "metadata": {},
   "outputs": [
    {
     "data": {
      "text/html": [
       "<div>\n",
       "<style scoped>\n",
       "    .dataframe tbody tr th:only-of-type {\n",
       "        vertical-align: middle;\n",
       "    }\n",
       "\n",
       "    .dataframe tbody tr th {\n",
       "        vertical-align: top;\n",
       "    }\n",
       "\n",
       "    .dataframe thead th {\n",
       "        text-align: right;\n",
       "    }\n",
       "</style>\n",
       "<table border=\"1\" class=\"dataframe\">\n",
       "  <thead>\n",
       "    <tr style=\"text-align: right;\">\n",
       "      <th></th>\n",
       "      <th>ClustName</th>\n",
       "      <th>Dataset</th>\n",
       "      <th>Proportion</th>\n",
       "    </tr>\n",
       "  </thead>\n",
       "  <tbody>\n",
       "    <tr>\n",
       "      <th>0</th>\n",
       "      <td>Ccl19</td>\n",
       "      <td>All tissues (mouse)</td>\n",
       "      <td>0.125018</td>\n",
       "    </tr>\n",
       "    <tr>\n",
       "      <th>1</th>\n",
       "      <td>Ccl19</td>\n",
       "      <td>Skin only (human)</td>\n",
       "      <td>0.120037</td>\n",
       "    </tr>\n",
       "    <tr>\n",
       "      <th>2</th>\n",
       "      <td>Ccl19</td>\n",
       "      <td>Skin only (mouse)</td>\n",
       "      <td>0.001338</td>\n",
       "    </tr>\n",
       "  </tbody>\n",
       "</table>\n",
       "</div>"
      ],
      "text/plain": [
       "  ClustName              Dataset  Proportion\n",
       "0     Ccl19  All tissues (mouse)    0.125018\n",
       "1     Ccl19    Skin only (human)    0.120037\n",
       "2     Ccl19    Skin only (mouse)    0.001338"
      ]
     },
     "execution_count": 18,
     "metadata": {},
     "output_type": "execute_result"
    }
   ],
   "source": [
    "adata_skin_proportions = adata_skin.obs['ClustName'].value_counts(normalize=True).sort_values(ascending=False)\n",
    "adata_lung_proportions = adata_lung.obs['ClustName'].value_counts(normalize=True).sort_values(ascending=False)\n",
    "\n",
    "adata_proportions = adata.obs['ClustName'].value_counts(normalize=True).sort_values(ascending=False)\n",
    "adata_hum_proportions = adata_hum.obs['ClustName2'].value_counts(normalize=True).sort_values(ascending=False)\n",
    "\n",
    "all_categories = sorted(set(adata_skin_proportions.index).union(adata_proportions.index).union(adata_hum_proportions.index))\n",
    "\n",
    "\n",
    "adata_skin_proportions = adata_skin_proportions[~adata_skin_proportions.index.duplicated()]\n",
    "adata_proportions = adata_proportions[~adata_proportions.index.duplicated()]\n",
    "adata_hum_proportions = adata_hum_proportions[~adata_hum_proportions.index.duplicated()]\n",
    "adata_lung_proportions = adata_lung_proportions[~adata_lung_proportions.index.duplicated()]\n",
    "\n",
    "\n",
    "adata_skin_proportions = adata_skin_proportions.reindex(all_categories, fill_value=0)\n",
    "adata_proportions = adata_proportions.reindex(all_categories, fill_value=0)\n",
    "adata_hum_proportions = adata_hum_proportions.reindex(all_categories, fill_value=0)\n",
    "adata_lung_proportions = adata_lung_proportions.reindex(all_categories, fill_value=0)\n",
    "\n",
    "df_skin = pd.DataFrame({'ClustName': adata_skin_proportions.index, 'Proportion': adata_skin_proportions.values, 'Dataset': 'Skin only (mouse)'})\n",
    "df_adata = pd.DataFrame({'ClustName': adata_proportions.index, 'Proportion': adata_proportions.values, 'Dataset': 'All tissues (mouse)'})\n",
    "df_hum = pd.DataFrame({'ClustName': adata_hum_proportions.index, 'Proportion': adata_hum_proportions.values, 'Dataset': 'Skin only (human)'})\n",
    "df_lung = pd.DataFrame({'ClustName': adata_lung_proportions.index, 'Proportion': adata_lung_proportions.values, 'Dataset': 'Lung only (human)'})\n",
    "\n",
    "\n",
    "df_combined = pd.concat([df_adata, df_skin, df_hum])\n",
    "\n",
    "df_combined['ClustName'] = df_combined['ClustName'].apply(lambda x: x if x == 'Ccl19' else 'Other')\n",
    "\n",
    "df_grouped = df_combined.groupby(['ClustName', 'Dataset']).agg({'Proportion': 'sum'}).reset_index()\n",
    "\n",
    "df_grouped[df_grouped[\"ClustName\"]==\"Ccl19\"]"
   ]
  },
  {
   "cell_type": "code",
   "execution_count": 19,
   "id": "needed-anime",
   "metadata": {},
   "outputs": [
    {
     "name": "stderr",
     "output_type": "stream",
     "text": [
      "/tmp/ipykernel_5078/2217486556.py:1: MatplotlibDeprecationWarning: The seaborn styles shipped by Matplotlib are deprecated since 3.6, as they no longer correspond to the styles shipped by seaborn. However, they will remain available as 'seaborn-v0_8-<style>'. Alternatively, directly use the seaborn API instead.\n",
      "  plt.style.use('seaborn-white')\n"
     ]
    },
    {
     "data": {
      "text/html": [
       "<div>\n",
       "<style scoped>\n",
       "    .dataframe tbody tr th:only-of-type {\n",
       "        vertical-align: middle;\n",
       "    }\n",
       "\n",
       "    .dataframe tbody tr th {\n",
       "        vertical-align: top;\n",
       "    }\n",
       "\n",
       "    .dataframe thead th {\n",
       "        text-align: right;\n",
       "    }\n",
       "</style>\n",
       "<table border=\"1\" class=\"dataframe\">\n",
       "  <thead>\n",
       "    <tr style=\"text-align: right;\">\n",
       "      <th></th>\n",
       "      <th>ClustName</th>\n",
       "      <th>Dataset</th>\n",
       "      <th>Proportion</th>\n",
       "    </tr>\n",
       "  </thead>\n",
       "  <tbody>\n",
       "    <tr>\n",
       "      <th>5</th>\n",
       "      <td>Ccl19</td>\n",
       "      <td>LN only (mouse)</td>\n",
       "      <td>0.851113</td>\n",
       "    </tr>\n",
       "    <tr>\n",
       "      <th>6</th>\n",
       "      <td>Ccl19</td>\n",
       "      <td>Liver only (mouse)</td>\n",
       "      <td>0.034934</td>\n",
       "    </tr>\n",
       "    <tr>\n",
       "      <th>7</th>\n",
       "      <td>Ccl19</td>\n",
       "      <td>Lung only (mouse)</td>\n",
       "      <td>0.004646</td>\n",
       "    </tr>\n",
       "    <tr>\n",
       "      <th>8</th>\n",
       "      <td>Ccl19</td>\n",
       "      <td>Skin only (human)</td>\n",
       "      <td>0.120037</td>\n",
       "    </tr>\n",
       "    <tr>\n",
       "      <th>9</th>\n",
       "      <td>Ccl19</td>\n",
       "      <td>Skin only (mouse)</td>\n",
       "      <td>0.001338</td>\n",
       "    </tr>\n",
       "  </tbody>\n",
       "</table>\n",
       "</div>"
      ],
      "text/plain": [
       "  ClustName             Dataset  Proportion\n",
       "5     Ccl19     LN only (mouse)    0.851113\n",
       "6     Ccl19  Liver only (mouse)    0.034934\n",
       "7     Ccl19   Lung only (mouse)    0.004646\n",
       "8     Ccl19   Skin only (human)    0.120037\n",
       "9     Ccl19   Skin only (mouse)    0.001338"
      ]
     },
     "execution_count": 19,
     "metadata": {},
     "output_type": "execute_result"
    }
   ],
   "source": [
    "plt.style.use('seaborn-white')\n",
    "\n",
    "adata_skin_proportions = adata_skin.obs['ClustName'].value_counts(normalize=True).sort_values(ascending=False)\n",
    "adata_colon_proportions = adata_colon.obs['ClustName'].value_counts(normalize=True).sort_values(ascending=False)\n",
    "adata_LN_proportions = adata_LN.obs['ClustName'].value_counts(normalize=True).sort_values(ascending=False)\n",
    "adata_lung_proportions = adata_lung.obs['ClustName'].value_counts(normalize=True).sort_values(ascending=False)\n",
    "\n",
    "adata_proportions = adata.obs['ClustName'].value_counts(normalize=True).sort_values(ascending=False)\n",
    "\n",
    "df_skin = pd.DataFrame({'ClustName': adata_skin_proportions.index, 'Proportion': adata_skin_proportions.values, 'Dataset': 'Skin only (mouse)'})\n",
    "df_colon = pd.DataFrame({'ClustName': adata_colon_proportions.index, 'Proportion': adata_colon_proportions.values, 'Dataset': 'Liver only (mouse)'})\n",
    "df_LN = pd.DataFrame({'ClustName': adata_LN_proportions.index, 'Proportion': adata_LN_proportions.values, 'Dataset': 'LN only (mouse)'})\n",
    "df_lung = pd.DataFrame({'ClustName': adata_lung_proportions.index, 'Proportion': adata_lung_proportions.values, 'Dataset': 'Lung only (mouse)'})\n",
    "df_hum = pd.DataFrame({'ClustName': adata_hum_proportions.index, 'Proportion': adata_hum_proportions.values, 'Dataset': 'Skin only (human)'})\n",
    "\n",
    "\n",
    "df_combined = pd.concat([ df_lung, df_LN, df_colon, df_skin,df_hum])\n",
    "\n",
    "df_grouped = df_combined.groupby(['ClustName', 'Dataset']).agg({'Proportion': 'sum'}).reset_index()\n",
    "df_grouped[df_grouped[\"ClustName\"]==\"Ccl19\"]"
   ]
  },
  {
   "cell_type": "code",
   "execution_count": 20,
   "id": "beneficial-discretion",
   "metadata": {},
   "outputs": [],
   "source": [
    "# import matplotlib.pyplot as plt\n",
    "\n",
    "\n",
    "\n",
    "# df_grouped['Proportion'] = df_grouped['Proportion'].round(4)\n",
    "# df_pivot = df_grouped.pivot(index='Dataset', columns='ClustName', values='Proportion').fillna(0)\n",
    "# order = [ 'LN only (mouse)',\"Lung only (mouse)\",   'Liver only (mouse)',   \"Skin only (mouse)\", \"Skin only (human)\"]\n",
    "# df_pivot = df_pivot.loc[order]\n",
    "\n",
    "# df_pivot = df_pivot[['Ccl19']]\n",
    "# color = '#e60000'  # Stronger red\n",
    "\n",
    "# ax = df_pivot.plot(kind='bar', stacked=True, color=color, figsize=(4, 4))\n",
    "\n",
    "# ax.set_xticklabels(ax.get_xticklabels(), fontsize=30, rotation=90)  # Make xticks font size bigger\n",
    "# ax.spines['top'].set_visible(False)  # Remove the top border\n",
    "# ax.spines['right'].set_visible(False)  # Remove the right border\n",
    "# ax.set_xlabel('')  # Remove the xlabel\n",
    "# ax.set_ylabel('Proportion', fontsize=30)  # Make ylabel font size bigger\n",
    "# ax.set_title('')  # Remove the title\n",
    "# ax.set_ylim(0, 0.85)  # Set ymax to 0.2\n",
    "\n",
    "# ax.set_yticklabels([f'{y:.2f}' for y in ax.get_yticks()], fontsize=30)  # Set yticks to 2 decimal places\n",
    "\n",
    "# ax.get_legend().remove()\n",
    "\n",
    "# plt.show()\n",
    " "
   ]
  },
  {
   "cell_type": "code",
   "execution_count": null,
   "id": "hollow-ratio",
   "metadata": {},
   "outputs": [],
   "source": []
  },
  {
   "cell_type": "code",
   "execution_count": 21,
   "id": "daily-gilbert",
   "metadata": {},
   "outputs": [
    {
     "name": "stderr",
     "output_type": "stream",
     "text": [
      "/tmp/ipykernel_5078/898616021.py:2: MatplotlibDeprecationWarning: The seaborn styles shipped by Matplotlib are deprecated since 3.6, as they no longer correspond to the styles shipped by seaborn. However, they will remain available as 'seaborn-v0_8-<style>'. Alternatively, directly use the seaborn API instead.\n",
      "  plt.style.use('seaborn-white')\n"
     ]
    },
    {
     "ename": "AttributeError",
     "evalue": "'Series' object has no attribute 'obs'",
     "output_type": "error",
     "traceback": [
      "\u001b[0;31m---------------------------------------------------------------------------\u001b[0m",
      "\u001b[0;31mAttributeError\u001b[0m                            Traceback (most recent call last)",
      "Input \u001b[0;32mIn [21]\u001b[0m, in \u001b[0;36m<cell line: 8>\u001b[0;34m()\u001b[0m\n\u001b[1;32m      6\u001b[0m adata_colon_proportions \u001b[38;5;241m=\u001b[39m adata_colon\u001b[38;5;241m.\u001b[39mobs[\u001b[38;5;124m'\u001b[39m\u001b[38;5;124mClustName\u001b[39m\u001b[38;5;124m'\u001b[39m]\u001b[38;5;241m.\u001b[39mvalue_counts(normalize\u001b[38;5;241m=\u001b[39m\u001b[38;5;28;01mTrue\u001b[39;00m)\u001b[38;5;241m.\u001b[39msort_values(ascending\u001b[38;5;241m=\u001b[39m\u001b[38;5;28;01mFalse\u001b[39;00m)\n\u001b[1;32m      7\u001b[0m adata_LN_proportions \u001b[38;5;241m=\u001b[39m adata_LN\u001b[38;5;241m.\u001b[39mobs[\u001b[38;5;124m'\u001b[39m\u001b[38;5;124mClustName\u001b[39m\u001b[38;5;124m'\u001b[39m]\u001b[38;5;241m.\u001b[39mvalue_counts(normalize\u001b[38;5;241m=\u001b[39m\u001b[38;5;28;01mTrue\u001b[39;00m)\u001b[38;5;241m.\u001b[39msort_values(ascending\u001b[38;5;241m=\u001b[39m\u001b[38;5;28;01mFalse\u001b[39;00m)\n\u001b[0;32m----> 8\u001b[0m adata_lung_proportions \u001b[38;5;241m=\u001b[39m \u001b[43madata_lung_proportions\u001b[49m\u001b[38;5;241;43m.\u001b[39;49m\u001b[43mobs\u001b[49m[\u001b[38;5;124m'\u001b[39m\u001b[38;5;124mClustName\u001b[39m\u001b[38;5;124m'\u001b[39m]\u001b[38;5;241m.\u001b[39mvalue_counts(normalize\u001b[38;5;241m=\u001b[39m\u001b[38;5;28;01mTrue\u001b[39;00m)\u001b[38;5;241m.\u001b[39msort_values(ascending\u001b[38;5;241m=\u001b[39m\u001b[38;5;28;01mFalse\u001b[39;00m)\n\u001b[1;32m     11\u001b[0m \u001b[38;5;66;03m# Calculate proportions for adata\u001b[39;00m\n\u001b[1;32m     12\u001b[0m adata_proportions \u001b[38;5;241m=\u001b[39m adata\u001b[38;5;241m.\u001b[39mobs[\u001b[38;5;124m'\u001b[39m\u001b[38;5;124mClustName\u001b[39m\u001b[38;5;124m'\u001b[39m]\u001b[38;5;241m.\u001b[39mvalue_counts(normalize\u001b[38;5;241m=\u001b[39m\u001b[38;5;28;01mTrue\u001b[39;00m)\u001b[38;5;241m.\u001b[39msort_values(ascending\u001b[38;5;241m=\u001b[39m\u001b[38;5;28;01mFalse\u001b[39;00m)\n",
      "File \u001b[0;32m~/my-conda-envs/sko_ls/lib/python3.10/site-packages/pandas/core/generic.py:6296\u001b[0m, in \u001b[0;36mNDFrame.__getattr__\u001b[0;34m(self, name)\u001b[0m\n\u001b[1;32m   6289\u001b[0m \u001b[38;5;28;01mif\u001b[39;00m (\n\u001b[1;32m   6290\u001b[0m     name \u001b[38;5;129;01mnot\u001b[39;00m \u001b[38;5;129;01min\u001b[39;00m \u001b[38;5;28mself\u001b[39m\u001b[38;5;241m.\u001b[39m_internal_names_set\n\u001b[1;32m   6291\u001b[0m     \u001b[38;5;129;01mand\u001b[39;00m name \u001b[38;5;129;01mnot\u001b[39;00m \u001b[38;5;129;01min\u001b[39;00m \u001b[38;5;28mself\u001b[39m\u001b[38;5;241m.\u001b[39m_metadata\n\u001b[1;32m   6292\u001b[0m     \u001b[38;5;129;01mand\u001b[39;00m name \u001b[38;5;129;01mnot\u001b[39;00m \u001b[38;5;129;01min\u001b[39;00m \u001b[38;5;28mself\u001b[39m\u001b[38;5;241m.\u001b[39m_accessors\n\u001b[1;32m   6293\u001b[0m     \u001b[38;5;129;01mand\u001b[39;00m \u001b[38;5;28mself\u001b[39m\u001b[38;5;241m.\u001b[39m_info_axis\u001b[38;5;241m.\u001b[39m_can_hold_identifiers_and_holds_name(name)\n\u001b[1;32m   6294\u001b[0m ):\n\u001b[1;32m   6295\u001b[0m     \u001b[38;5;28;01mreturn\u001b[39;00m \u001b[38;5;28mself\u001b[39m[name]\n\u001b[0;32m-> 6296\u001b[0m \u001b[38;5;28;01mreturn\u001b[39;00m \u001b[38;5;28;43mobject\u001b[39;49m\u001b[38;5;241;43m.\u001b[39;49m\u001b[38;5;21;43m__getattribute__\u001b[39;49m\u001b[43m(\u001b[49m\u001b[38;5;28;43mself\u001b[39;49m\u001b[43m,\u001b[49m\u001b[43m \u001b[49m\u001b[43mname\u001b[49m\u001b[43m)\u001b[49m\n",
      "\u001b[0;31mAttributeError\u001b[0m: 'Series' object has no attribute 'obs'"
     ]
    }
   ],
   "source": [
    "# Ensure consistent style\n",
    "plt.style.use('seaborn-white')\n",
    "\n",
    "# Calculate proportions for adata_skin\n",
    "adata_skin_proportions = adata_skin.obs['ClustName'].value_counts(normalize=True).sort_values(ascending=False)\n",
    "adata_colon_proportions = adata_colon.obs['ClustName'].value_counts(normalize=True).sort_values(ascending=False)\n",
    "adata_LN_proportions = adata_LN.obs['ClustName'].value_counts(normalize=True).sort_values(ascending=False)\n",
    "adata_lung_proportions = adata_lung_proportions.obs['ClustName'].value_counts(normalize=True).sort_values(ascending=False)\n",
    "\n",
    "\n",
    "# Calculate proportions for adata\n",
    "adata_proportions = adata.obs['ClustName'].value_counts(normalize=True).sort_values(ascending=False)\n",
    "\n",
    "# Create a DataFrame for plotting\n",
    "df_skin = pd.DataFrame({'ClustName': adata_skin_proportions.index, 'Proportion': adata_skin_proportions.values, 'Dataset': 'Skin only (mouse)'})\n",
    "df_colon = pd.DataFrame({'ClustName': adata_colon_proportions.index, 'Proportion': adata_colon_proportions.values, 'Dataset': 'Liver only (mouse)'})\n",
    "df_LN = pd.DataFrame({'ClustName': adata_LN_proportions.index, 'Proportion': adata_LN_proportions.values, 'Dataset': 'LN only (mouse)'})\n",
    "df_lung = pd.DataFrame({'ClustName': adata_lung_proportions.index, 'Proportion': adata_lung_proportions.values, 'Dataset': 'Lung only (mouse)'})\n",
    "df_hum = pd.DataFrame({'ClustName': adata_hum_proportions.index, 'Proportion': adata_hum_proportions.values, 'Dataset': 'Skin only (human)'})\n",
    "\n",
    "\n",
    "df_combined = pd.concat([  df_LN, df_colon, df_skin,df_hum, df_lung])\n",
    "\n",
    "# Now we need to group by the recoded ClustName and Dataset, summing up the Proportions\n",
    "df_grouped = df_combined.groupby(['ClustName', 'Dataset']).agg({'Proportion': 'sum'}).reset_index()\n",
    "\n",
    "# Display the resulting DataFrame\n",
    "df_grouped"
   ]
  },
  {
   "cell_type": "code",
   "execution_count": null,
   "id": "moved-foundation",
   "metadata": {},
   "outputs": [],
   "source": [
    "\n",
    " \n",
    "\n",
    "# Round the Proportion values to avoid floating-point precision issues\n",
    "df_grouped['Proportion'] = df_grouped['Proportion'].round(4)\n",
    "\n",
    "# Pivot the data for easier plotting\n",
    "df_pivot = df_grouped.pivot(index='Dataset', columns='ClustName', values='Proportion').fillna(0)\n",
    "\n",
    "# Reorder the index to match the desired order\n",
    "order = [ 'LN only (mouse)', 'Lung only (mouse)',  'Liver only (mouse)',  \"Skin only (mouse)\", \"Skin only (human)\"]\n",
    "df_pivot = df_pivot.loc[order]\n",
    "\n",
    "# Filter to only include the \"Ccl19\" column\n",
    "df_pivot = df_pivot[['Ccl19']]\n",
    "\n",
    "# Define custom color for the \"Ccl19\" with a redder color\n",
    "color = '#e60000'  # Stronger red\n",
    "\n",
    "# Plot the bar chart\n",
    "ax = df_pivot.plot(kind='bar', stacked=True, color=color, figsize=(4, 4))\n",
    "\n",
    "# Customize the plot\n",
    "ax.set_xticklabels(ax.get_xticklabels(), fontsize=30, rotation=90)  # Make xticks font size bigger\n",
    "ax.spines['top'].set_visible(False)  # Remove the top border\n",
    "ax.spines['right'].set_visible(False)  # Remove the right border\n",
    "ax.set_xlabel('')  # Remove the xlabel\n",
    "ax.set_ylabel('Proportion', fontsize=30)  # Make ylabel font size bigger\n",
    "ax.set_title('')  # Remove the title\n",
    "#ax.set_ylim(0, 0.15)  # Set ymax to 0.2\n",
    "\n",
    "# Fix yticks to have consistent spacing and display properly\n",
    "ax.set_yticks([0.0, 0.2, 0.4, 0.6])\n",
    "ax.set_yticklabels([f'{y:.1f}' for y in ax.get_yticks()], fontsize=30)  # Set yticks to 2 decimal places\n",
    "\n",
    "# Remove the legend (since we only have one category)\n",
    "ax.get_legend().remove()\n",
    "# Remove the legend (since we only have one category)\n",
    "\n",
    "# Remove the background grid\n",
    "ax.grid(False)\n",
    "# Display the plot\n",
    "plt.show()\n",
    "plt.savefig(\"fig8c/mouse_ccl19.pdf\", dpi=300)\n",
    "\n",
    " "
   ]
  },
  {
   "cell_type": "code",
   "execution_count": null,
   "id": "spiritual-society",
   "metadata": {},
   "outputs": [],
   "source": [
    "df_grouped[df_grouped[\"ClustName\"]==\"Ccl19\"]"
   ]
  },
  {
   "cell_type": "code",
   "execution_count": null,
   "id": "ranging-reasoning",
   "metadata": {},
   "outputs": [],
   "source": [
    "# Round the Proportion values to avoid floating-point precision issues\n",
    "df_grouped['Proportion'] = df_grouped['Proportion'].round(4)\n",
    "\n",
    "# Pivot the data for easier plotting\n",
    "df_pivot = df_grouped.pivot(index='Dataset', columns='ClustName', values='Proportion').fillna(0)\n",
    "\n",
    "# Reorder the index to match the desired order\n",
    "order = ['LN only (mouse)', 'Lung only (mouse)', 'Liver only (mouse)', \"Skin only (mouse)\", \"Skin only (human)\"]\n",
    "order=order[::-1]\n",
    "df_pivot = df_pivot.loc[order]\n",
    "\n",
    "# Filter to only include the \"Ccl19\" column\n",
    "df_pivot = df_pivot[['Ccl19']]\n",
    "\n",
    "# Define custom color for the \"Ccl19\" with a redder color\n",
    "color = '#e60000'  # Stronger red\n",
    "\n",
    "# Plot the bar chart with horizontal bars\n",
    "ax = df_pivot.plot(kind='barh', stacked=True, color=color, figsize=(6, 6))\n",
    "\n",
    "# Customize the plot\n",
    "ax.set_yticklabels(ax.get_yticklabels(), fontsize=30)  # Increase font size of y-axis labels\n",
    "ax.set_xticklabels(ax.get_xticks(), fontsize=30)  # Increase font size of x-axis labels\n",
    "ax.spines['top'].set_visible(False)  # Remove the top border\n",
    "ax.spines['right'].set_visible(False)  # Remove the right border\n",
    "ax.set_ylabel('')  # Remove y-axis label\n",
    "ax.set_xlabel('Proportion', fontsize=30)  # Label x-axis\n",
    "ax.set_title('')  # Remove the title\n",
    "\n",
    "# Fix xticks for better readability\n",
    "ax.set_xticks([0.0, 0.2, 0.4, 0.6])\n",
    "ax.set_xticklabels([f'{x:.1f}' for x in ax.get_xticks()], fontsize=30)  # Format xticks\n",
    "\n",
    "# Remove the legend (since we only have one category)\n",
    "ax.get_legend().remove()\n",
    "\n",
    "# Remove the background grid\n",
    "ax.grid(False)\n",
    "\n",
    "# Save and display the plot\n",
    "plt.savefig(\"fig8/8c_mouse_ccl19_horizontal.pdf\", dpi=300, bbox_inches='tight')\n",
    "plt.show()"
   ]
  },
  {
   "cell_type": "code",
   "execution_count": null,
   "id": "meaningful-press",
   "metadata": {},
   "outputs": [],
   "source": []
  }
 ],
 "metadata": {
  "kernelspec": {
   "display_name": "sko_ls",
   "language": "python",
   "name": "sko_ls"
  },
  "language_info": {
   "codemirror_mode": {
    "name": "ipython",
    "version": 3
   },
   "file_extension": ".py",
   "mimetype": "text/x-python",
   "name": "python",
   "nbconvert_exporter": "python",
   "pygments_lexer": "ipython3",
   "version": "3.10.0"
  }
 },
 "nbformat": 4,
 "nbformat_minor": 5
}
