{
 "cells": [
  {
   "cell_type": "code",
   "execution_count": 1,
   "id": "burning-secondary",
   "metadata": {},
   "outputs": [],
   "source": [
    "import scanpy as sc\n",
    "import os\n",
    "import anndata as ad\n",
    "import pandas as pd\n",
    "import numpy as np\n",
    "\n",
    "import matplotlib.pyplot as plt\n",
    "import decoupler as dc\n",
    "sc.settings.verbosity=0 # verbosity: errors (0), warnings (1), info (2), hints (3)\n",
    "sc.settings.n_jobs=4\n",
    "sc.settings.set_figure_params(dpi_save=300, facecolor=\"white\", frameon=False, figsize=(14,14))\n",
    "plt.rcParams['pdf.fonttype'] = 42\n",
    "%matplotlib inline\n",
    "\n",
    "\n"
   ]
  },
  {
   "cell_type": "code",
   "execution_count": 2,
   "id": "appreciated-perception",
   "metadata": {},
   "outputs": [],
   "source": [
    "sc.settings.figdir = \"fig3\""
   ]
  },
  {
   "cell_type": "code",
   "execution_count": 3,
   "id": "hearing-destination",
   "metadata": {},
   "outputs": [],
   "source": [
    "progeny = dc.get_progeny(organism='human', top=500)\n"
   ]
  },
  {
   "cell_type": "code",
   "execution_count": 4,
   "id": "entertaining-interpretation",
   "metadata": {},
   "outputs": [],
   "source": [
    "PATH='/nfs/team298/ls34/fibroblast_atlas_paper/final_adatas_chloecolours/adata_lesional11.h5ad'\n",
    "adata_lesional=sc.read_h5ad(PATH)"
   ]
  },
  {
   "cell_type": "code",
   "execution_count": 5,
   "id": "spare-database",
   "metadata": {},
   "outputs": [],
   "source": [
    "adata_lesional.raw = ad.AnnData(adata_lesional.layers[\"counts\"].copy(), var=adata_lesional.var.copy(), obs=adata_lesional.obs.copy())\n"
   ]
  },
  {
   "cell_type": "code",
   "execution_count": null,
   "id": "loose-video",
   "metadata": {},
   "outputs": [
    {
     "name": "stdout",
     "output_type": "stream",
     "text": [
      "1974 features of mat are empty, they will be removed.\n",
      "Running mlm on mat with 190756 samples and 34627 targets for 14 sources.\n"
     ]
    },
    {
     "name": "stderr",
     "output_type": "stream",
     "text": [
      " 55%|█████▌    | 11/20 [06:37<05:22, 35.84s/it]"
     ]
    }
   ],
   "source": [
    "dc.run_mlm(\n",
    "    mat=adata_lesional,\n",
    "    net=progeny,\n",
    "    source='source',\n",
    "    target='target',\n",
    "    weight='weight',\n",
    "    verbose=True\n",
    ")"
   ]
  },
  {
   "cell_type": "code",
   "execution_count": null,
   "id": "thermal-bulletin",
   "metadata": {},
   "outputs": [],
   "source": [
    "acts = dc.get_acts(adata_lesional, obsm_key='mlm_estimate')\n",
    "acts"
   ]
  },
  {
   "cell_type": "markdown",
   "id": "relevant-treaty",
   "metadata": {},
   "source": [
    "# nonlesional"
   ]
  },
  {
   "cell_type": "code",
   "execution_count": null,
   "id": "labeled-output",
   "metadata": {},
   "outputs": [],
   "source": [
    "adata_nonlesional=sc.read_h5ad('/nfs/team298/ls34/fibroblast_atlas_paper/final_adatas_chloecolours/adata_healthy_core.h5ad')\n",
    "#adata_nonlesional=sc.read_h5ad('/nfs/team298/ls34/disease_atlas/final_fb_adatas/adata_fbspericytesnonlesional_SCVI_3526_new_neighbor50_ANNOTATED_umap30_leiden_paga3_FINALcoreonly.h5ad.v4')\n",
    "adata_nonlesional.obs.corefb_names2.value_counts()"
   ]
  },
  {
   "cell_type": "code",
   "execution_count": null,
   "id": "pleasant-reconstruction",
   "metadata": {},
   "outputs": [],
   "source": [
    "adata_nonlesional=adata_nonlesional[adata_nonlesional.obs[\"Patient_status\"]==\"Healthy\"]"
   ]
  },
  {
   "cell_type": "code",
   "execution_count": null,
   "id": "hungarian-athletics",
   "metadata": {},
   "outputs": [],
   "source": [
    "adata_nonlesional.raw = ad.AnnData(adata_nonlesional.layers[\"counts\"].copy(), var=adata_nonlesional.var.copy(), obs=adata_nonlesional.obs.copy())\n"
   ]
  },
  {
   "cell_type": "code",
   "execution_count": null,
   "id": "killing-signal",
   "metadata": {},
   "outputs": [],
   "source": [
    "dc.run_mlm(\n",
    "    mat=adata_nonlesional,\n",
    "    net=progeny,\n",
    "    source='source',\n",
    "    target='target',\n",
    "    weight='weight',\n",
    "    verbose=True\n",
    ")"
   ]
  },
  {
   "cell_type": "code",
   "execution_count": null,
   "id": "increasing-vocabulary",
   "metadata": {},
   "outputs": [],
   "source": [
    "acts2 = dc.get_acts(adata_nonlesional, obsm_key='mlm_estimate')\n",
    "acts2"
   ]
  },
  {
   "cell_type": "markdown",
   "id": "proved-virginia",
   "metadata": {},
   "source": [
    "# Plots"
   ]
  },
  {
   "cell_type": "code",
   "execution_count": null,
   "id": "differential-constitutional",
   "metadata": {},
   "outputs": [],
   "source": [
    "# VMAX_VAL=12\n",
    "\n",
    "# sc.pl.matrixplot(acts, var_names='TGFb', groupby='test13',# dendrogram=True, \n",
    "#                  vmax=VMAX_VAL, #colorbar_title='Z-scaled scores', \n",
    "#                  vmin=0,colorbar_title='PROGENy\\nscore', \n",
    "#                  cmap='Reds', save=\"fig3progeny_tgfb_lesional.pdf\"\n",
    "#                 )"
   ]
  },
  {
   "cell_type": "code",
   "execution_count": null,
   "id": "handmade-programming",
   "metadata": {},
   "outputs": [],
   "source": []
  },
  {
   "cell_type": "markdown",
   "id": "destroyed-drawing",
   "metadata": {},
   "source": [
    "# Mid"
   ]
  },
  {
   "cell_type": "code",
   "execution_count": null,
   "id": "unlimited-welcome",
   "metadata": {},
   "outputs": [],
   "source": [
    "# var_names_notgfb = [ 'Hypoxia','JAK-STAT', 'TNFa', 'Androgen', 'EGFR', 'Estrogen', 'NFkB',   ]#.pop(\"TGFb\")\n",
    "\n",
    "# sc.pl.matrixplot(acts2, var_names=var_names_notgfb, groupby='corefb_names2',# dendrogram=True, \n",
    "#                  vmax=4, #colorbar_title='Z-scaled scores', \n",
    "#                  vmin=0,colorbar_title='PROGENy\\n score', \n",
    "#                  cmap='Reds',# swap_axes=True\n",
    "#                   save=\"fig3progeny_other_nonlesional2.pdf\"\n",
    "#                 )\n"
   ]
  },
  {
   "cell_type": "code",
   "execution_count": null,
   "id": "rental-middle",
   "metadata": {},
   "outputs": [],
   "source": [
    "# sc.pl.matrixplot(acts, var_names=var_names_notgfb, groupby='test13',# dendrogram=True, \n",
    "#                  vmax=4, #colorbar_title='Z-scaled scores', \n",
    "#                  vmin=0,colorbar_title='PROGENy\\nscore', \n",
    "#                  cmap='Reds', save=\"fig3progeny_mid_lesional.pdf\")"
   ]
  },
  {
   "cell_type": "code",
   "execution_count": null,
   "id": "expressed-transformation",
   "metadata": {},
   "outputs": [],
   "source": []
  },
  {
   "cell_type": "code",
   "execution_count": null,
   "id": "fifth-spotlight",
   "metadata": {},
   "outputs": [],
   "source": [
    "# var_names_notgfb = [ 'Hypoxia','JAK-STAT', 'TNFa', 'Androgen', 'EGFR', 'Estrogen', 'NFkB',   ]#.pop(\"TGFb\")\n",
    "\n",
    "# sc.pl.matrixplot(acts2, var_names=var_names_notgfb, groupby='corefb_names2',# dendrogram=True, \n",
    "#                  vmax=4, #colorbar_title='Z-scaled scores', \n",
    "#                  vmin=0,colorbar_title='PROGENy\\n score', \n",
    "#                  cmap='Reds',# swap_axes=True\n",
    "#                   save=\"fig3progeny_other_nonlesional2.pdf\"\n",
    "#                 )\n"
   ]
  },
  {
   "cell_type": "markdown",
   "id": "administrative-external",
   "metadata": {},
   "source": [
    "# Low"
   ]
  },
  {
   "cell_type": "code",
   "execution_count": null,
   "id": "novel-quick",
   "metadata": {},
   "outputs": [],
   "source": [
    "# var_names_notgfb_low = ['Trail', 'VEGF', 'WNT', 'p53',  'MAPK', 'PI3K', ]\n",
    "# sc.pl.matrixplot(acts2, var_names=var_names_notgfb_low, groupby='corefb_names2',# dendrogram=True, \n",
    "#                  vmax=1, #colorbar_title='Z-scaled scores', \n",
    "#                  vmin=0,colorbar_title='PROGENy\\n score', \n",
    "#                  cmap='Reds',# swap_axes=True\n",
    "#                   save=\"fig3progeny_other_nonlesional3.pdf\"\n",
    "#                 )"
   ]
  },
  {
   "cell_type": "markdown",
   "id": "cloudy-mapping",
   "metadata": {},
   "source": [
    "# both"
   ]
  },
  {
   "cell_type": "code",
   "execution_count": null,
   "id": "removable-thing",
   "metadata": {},
   "outputs": [],
   "source": [
    "PATHWAYS = list(acts.var_names)\n",
    "PATHWAYS.remove(\"TGFb\")\n",
    "PATHWAYS\n"
   ]
  },
  {
   "cell_type": "code",
   "execution_count": null,
   "id": "preceding-grain",
   "metadata": {},
   "outputs": [],
   "source": [
    "# VMAX_VAL=4\n",
    "# sc.pl.matrixplot(acts2, var_names=PATHWAYS, groupby='corefb_names2',# dendrogram=True, \n",
    "#                  vmax=VMAX_VAL, #colorbar_title='Z-scaled scores', \n",
    "#                  vmin=0,colorbar_title='PROGENy\\nscore', \n",
    "#                  cmap='Reds')\n",
    "\n",
    "# sc.pl.matrixplot(acts, var_names=PATHWAYS, groupby='test13',# dendrogram=True, \n",
    "#                  vmax=VMAX_VAL, #colorbar_title='Z-scaled scores', \n",
    "#                  vmin=0,colorbar_title='PROGENy\\nscore', \n",
    "#                  cmap='Reds')\n",
    "\n",
    "\n"
   ]
  },
  {
   "cell_type": "markdown",
   "id": "experienced-archives",
   "metadata": {},
   "source": [
    "# High"
   ]
  },
  {
   "cell_type": "code",
   "execution_count": null,
   "id": "boring-adams",
   "metadata": {},
   "outputs": [],
   "source": [
    "VMAX_VAL=12\n",
    "\n",
    "sc.pl.matrixplot(acts2, var_names='TGFb', groupby='corefb_names2', \n",
    "                 vmax=VMAX_VAL,  \n",
    "                 vmin=0,colorbar_title='PROGENy\\nscore', \n",
    "                 cmap='Reds', save=\"fig3progeny_tgfb_nonlesional.pdf\")\n",
    "\n",
    "\n",
    "sc.pl.matrixplot(acts, var_names='TGFb', groupby='test13',# dendrogram=True, \n",
    "                 vmax=VMAX_VAL, #colorbar_title='Z-scaled scores', \n",
    "                 vmin=0,colorbar_title='PROGENy\\nscore', \n",
    "                 cmap='Reds', save=\"fig3progeny_tgfb_lesional.pdf\")\n",
    "\n",
    "\n"
   ]
  },
  {
   "cell_type": "markdown",
   "id": "handed-chancellor",
   "metadata": {},
   "source": [
    "# Mid"
   ]
  },
  {
   "cell_type": "code",
   "execution_count": null,
   "id": "selective-sandwich",
   "metadata": {},
   "outputs": [],
   "source": [
    "var_names_notgfb = [ 'Hypoxia','JAK-STAT', 'TNFa', 'Androgen', 'EGFR', 'Estrogen', 'NFkB',   ]#.pop(\"TGFb\")\n",
    "\n",
    "sc.pl.matrixplot(acts2, var_names=var_names_notgfb, groupby='corefb_names2',# dendrogram=True, \n",
    "                 vmax=4, #colorbar_title='Z-scaled scores', \n",
    "                 vmin=0,colorbar_title='PROGENy\\n score', \n",
    "                 cmap='Reds',# swap_axes=True\n",
    "                  save=\"fig3progeny_other_nonlesional2.pdf\"\n",
    "                )\n",
    "\n",
    "\n",
    "\n",
    "sc.pl.matrixplot(acts, var_names=var_names_notgfb, groupby='test13',# dendrogram=True, \n",
    "                 vmax=4, #colorbar_title='Z-scaled scores', \n",
    "                 vmin=0,colorbar_title='PROGENy\\n score', \n",
    "                  save=\"fig3progeny_other_lesional2.pdf\",\n",
    "                 cmap='Reds',#swap_axes=True\n",
    "                )\n",
    "\n"
   ]
  },
  {
   "cell_type": "markdown",
   "id": "thousand-guinea",
   "metadata": {},
   "source": [
    "# Low"
   ]
  },
  {
   "cell_type": "code",
   "execution_count": null,
   "id": "explicit-intersection",
   "metadata": {},
   "outputs": [],
   "source": [
    "var_names_notgfb_low = ['Trail', 'VEGF', 'WNT', 'p53',  'MAPK', 'PI3K', ]\n",
    "sc.pl.matrixplot(acts2, var_names=var_names_notgfb_low, groupby='corefb_names2',# dendrogram=True, \n",
    "                 vmax=1, #colorbar_title='Z-scaled scores', \n",
    "                 vmin=0,colorbar_title='PROGENy\\n score', \n",
    "                 cmap='Reds',# swap_axes=True\n",
    "                  save=\"fig3progeny_other_nonlesional3.pdf\"\n",
    "                )\n",
    "\n",
    "\n",
    "sc.pl.matrixplot(acts, var_names=var_names_notgfb_low, groupby='test13',# dendrogram=True, \n",
    "                 vmax=1, #colorbar_title='Z-scaled scores', \n",
    "                 vmin=0,colorbar_title='PROGENy\\n score', \n",
    "                  save=\"fig3progeny_other_lesional3.pdf\",\n",
    "                 cmap='Reds',#swap_axes=True\n",
    "                )\n",
    "\n"
   ]
  },
  {
   "cell_type": "code",
   "execution_count": null,
   "id": "psychological-patrick",
   "metadata": {},
   "outputs": [],
   "source": [
    "# sc.pl.matrixplot(acts2, var_names=var_names_notgfb, groupby='corefb_names2',# dendrogram=True, \n",
    "#                  vmax=5, #colorbar_title='Z-scaled scores', \n",
    "#                  vmin=0,colorbar_title='PROGENy\\n score', \n",
    "#                  cmap='Reds', swap_axes=True\n",
    "#                 )\n",
    "\n",
    "\n",
    "\n",
    "# sc.pl.matrixplot(acts, var_names=var_names_notgfb, groupby='test13',# dendrogram=True, \n",
    "#                  vmax=5, #colorbar_title='Z-scaled scores', \n",
    "#                  vmin=0,colorbar_title='PROGENy\\n score', \n",
    "#                  cmap='Reds', swap_axes=True\n",
    "#                 )\n",
    "\n"
   ]
  },
  {
   "cell_type": "code",
   "execution_count": null,
   "id": "chicken-highland",
   "metadata": {},
   "outputs": [],
   "source": [
    "# sc.pl.matrixplot(acts2, var_names=acts.var_names, groupby='corefb_names2',# dendrogram=True, \n",
    "#                  vmax=5, #colorbar_title='Z-scaled scores', \n",
    "#                  vmin=0,colorbar_title='PROGENy\\n score', \n",
    "#                  cmap='Reds')\n",
    "# # sc.pl.matrixplot(acts2, var_names=acts.var_names, groupby='disease_category',# dendrogram=True, \n",
    "# #                  standard_scale='var', colorbar_title='Z-scaled scores', cmap='RdBu_r')\n",
    "# sc.pl.matrixplot(acts, var_names=acts.var_names, groupby='test13',# dendrogram=True, \n",
    "#                  vmax=5, #colorbar_title='Z-scaled scores', \n",
    "#                  vmin=0,colorbar_title='PROGENy\\n score', \n",
    "#                  cmap='Reds'\n",
    "#                 )\n",
    "# # sc.pl.matrixplot(acts2, var_names=acts.var_names, groupby='disease_category',# dendrogram=True, \n",
    "# #                  standard_scale='var', colorbar_title='Z-scaled scores', cmap='RdBu_r')"
   ]
  },
  {
   "cell_type": "code",
   "execution_count": null,
   "id": "driven-forty",
   "metadata": {},
   "outputs": [],
   "source": [
    "# sc.pl.matrixplot(acts2, var_names=acts.var_names, groupby='corefb_names2',# dendrogram=True, \n",
    "#                  vmax=1,\n",
    "#                  colorbar_title='Z-scaled scores',   standard_scale='var',\n",
    "#                  vmin=0,\n",
    "#                  cmap='Reds')\n",
    "# # sc.pl.matrixplot(acts2, var_names=acts.var_names, groupby='disease_category',# dendrogram=True, \n",
    "# #                  standard_scale='var', colorbar_title='Z-scaled scores', cmap='RdBu_r')\n",
    "# sc.pl.matrixplot(acts, var_names=acts.var_names, groupby='test13',# dendrogram=True, \n",
    "#                  vmax=1, \n",
    "#                  colorbar_title='Z-scaled scores',   standard_scale='var',\n",
    "#                  vmin=0,\n",
    "#                  cmap='Reds')\n",
    "# # sc.pl.matrixplot(acts2, var_names=acts.var_names, groupby='disease_category',# dendrogram=True, \n",
    "# #                  standard_scale='var', colorbar_title='Z-scaled scores', cmap='RdBu_r')"
   ]
  },
  {
   "cell_type": "code",
   "execution_count": null,
   "id": "improved-distribution",
   "metadata": {},
   "outputs": [],
   "source": [
    "# sc.pl.matrixplot(acts2, var_names=acts.var_names, groupby='corefb_names',# dendrogram=True, \n",
    "#                  vmax=4, #colorbar_title='Z-scaled scores', \n",
    "#                  vmin=0,\n",
    "#                  cmap='RdBu_r')\n",
    "# # sc.pl.matrixplot(acts2, var_names=acts.var_names, groupby='disease_category',# dendrogram=True, \n",
    "# #                  standard_scale='var', colorbar_title='Z-scaled scores', cmap='RdBu_r')\n",
    "# sc.pl.matrixplot(acts, var_names=acts.var_names, groupby='test13',# dendrogram=True, \n",
    "#                  vmax=3, #colorbar_title='Z-scaled scores', \n",
    "#                  vmin=0,\n",
    "#                  cmap='RdBu_r')\n",
    "# # sc.pl.matrixplot(acts2, var_names=acts.var_names, groupby='disease_category',# dendrogram=True, \n",
    "# #                  standard_scale='var', colorbar_title='Z-scaled scores', cmap='RdBu_r')"
   ]
  }
 ],
 "metadata": {
  "kernelspec": {
   "display_name": "sko_ls",
   "language": "python",
   "name": "sko_ls"
  },
  "language_info": {
   "codemirror_mode": {
    "name": "ipython",
    "version": 3
   },
   "file_extension": ".py",
   "mimetype": "text/x-python",
   "name": "python",
   "nbconvert_exporter": "python",
   "pygments_lexer": "ipython3",
   "version": "3.10.0"
  }
 },
 "nbformat": 4,
 "nbformat_minor": 5
}
