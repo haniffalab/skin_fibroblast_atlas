{
 "cells": [
  {
   "cell_type": "code",
   "execution_count": null,
   "id": "killing-expression",
   "metadata": {},
   "outputs": [],
   "source": [
    "from typing import Dict, Optional\n",
    "import scanpy as sc\n",
    "import os\n",
    "import anndata as ad\n",
    "import anndata\n",
    "import pandas as pd\n",
    "import numpy as np\n",
    "import matplotlib.pyplot as plt\n",
    "\n",
    "import matplotlib.ticker as ticker\n",
    "import seaborn as sns\n",
    "import math\n",
    "from plotnine import *\n",
    "#import scrublet as scr\n",
    "#from scipy.stats import median_abs_deviation\n",
    "import sctk as sk\n",
    "import pandas as pd\n",
    "import tables\n",
    "import scipy.sparse as sp\n",
    "sc.settings.verbosity = 0\n",
    " "
   ]
  },
  {
   "cell_type": "markdown",
   "id": "unique-child",
   "metadata": {},
   "source": [
    "# Utils functions"
   ]
  },
  {
   "cell_type": "code",
   "execution_count": null,
   "id": "periodic-college",
   "metadata": {},
   "outputs": [],
   "source": [
    "def calculate_expected_doublet_rate(adata_object):\n",
    "    \"\"\"\n",
    "    for a given adata object, using the number of cells in the object to return \n",
    "    the expect\\ed doublet rate and the number of cells in the object\n",
    "    \"\"\"\n",
    "    #expected values from https://uofuhealth.utah.edu/huntsman/shared-resources/gba/htg/single-cell/genomics-10x\n",
    "    expected_rates = {1000: 0.008, \n",
    "                      2000: 0.016,\n",
    "                    3000: 0.023,\n",
    "                     4000: 0.031,\n",
    "                     5000: 0.039,\n",
    "                     6000: 0.046,\n",
    "                     7000: 0.054,\n",
    "                     8000: 0.061,\n",
    "                     9000: 0.069,\n",
    "                     10_000: 0.076}\n",
    "    #number of cells (rounded)\n",
    "    recovered_cells = adata_object.shape[0]\n",
    "    rounded_recovered_cells = math.ceil(recovered_cells / 1000) * 1000\n",
    "    if rounded_recovered_cells > 10_000:\n",
    "        rounded_recovered_cells = 10_000\n",
    "        print(f\"Rounded recovered cells > 10_000 so set to maximum ({recovered_cells} -> \\\n",
    "              {rounded_recovered_cells} -> 10_000 (rate {expected_rates[10_000]})\")\n",
    "    #set expected rate based on number of cells in object\n",
    "    expected_rate = expected_rates[rounded_recovered_cells]\n",
    "    print(f\"Expected rate {expected_rate} ({expected_rate*100}%) for cells {recovered_cells}\")\n",
    "    return expected_rate, recovered_cells"
   ]
  },
  {
   "cell_type": "markdown",
   "id": "convenient-water",
   "metadata": {},
   "source": [
    "Metadata input must be csv with columns including \"Sample\" and path_type, featuring path to input file \n",
    "\\newline\n",
    "\n",
    "(e.g. to cellbender output or cellranger/STARsolo output)\n"
   ]
  },
  {
   "cell_type": "markdown",
   "id": "consistent-direction",
   "metadata": {},
   "source": [
    "# Scrublet"
   ]
  },
  {
   "cell_type": "code",
   "execution_count": null,
   "id": "welsh-subscription",
   "metadata": {},
   "outputs": [],
   "source": [
    "import scanpy as sc\n",
    "base_dir=\"/nfs/team298/ls34/disease_atlas/mrvi/\"\n",
    "adata_path = ### put path here\n",
    "adata=sc.read_h5ad(base_dir+adata_path)\n",
    "adata"
   ]
  },
  {
   "cell_type": "code",
   "execution_count": null,
   "id": "instrumental-florida",
   "metadata": {},
   "outputs": [],
   "source": [
    "error_record =[]\n",
    "apply_scrublet=True\n",
    "\n",
    "processed_adatas = []\n",
    "adata.obs[\"scrublet_score\"]=adata.obs_names\n",
    "adata.obs[\"scrublet_score_z\"]=adata.obs_names\n",
    "adata.obs[\"cluster_scrublet_score\"]=adata.obs_names\n",
    "adata.obs[\"bh_pval\"]=adata.obs_names\n",
    "\n",
    "dataset_donors = []\n",
    "donor_keys = []\n",
    "len_samples = len(list(adata.obs[\"DonorID\"].unique()))\n",
    "for i, sample_id in enumerate(list(adata.obs[\"DonorID\"].unique())):\n",
    "    print(f\"#### sctk scrublet on: {sample_id}. {i+1}/{len_samples}\")\n",
    "    if apply_scrublet:\n",
    "        adata_donor = adata[adata.obs['DonorID'] == sample_id]\n",
    "        sk.run_scrublet(adata_donor)\n",
    "        \n",
    "        mapping_dict=adata_donor.obs[\"scrublet_score\"].to_dict()\n",
    "        adata.obs[\"scrublet_score\"]=adata.obs[\"scrublet_score\"].map(mapping_dict).fillna(adata.obs[\"scrublet_score\"])\n",
    "        \n",
    "        mapping_dict=adata_donor.obs[\"scrublet_score_z\"].to_dict()\n",
    "        adata.obs[\"scrublet_score_z\"]=adata.obs[\"scrublet_score_z\"].map(mapping_dict).fillna(adata.obs[\"scrublet_score_z\"])\n",
    "        \n",
    "        mapping_dict=adata_donor.obs[\"cluster_scrublet_score\"].to_dict()\n",
    "        adata.obs[\"cluster_scrublet_score\"]=adata.obs[\"cluster_scrublet_score\"].map(mapping_dict).fillna(adata.obs[\"cluster_scrublet_score\"])\n",
    "        \n",
    "        mapping_dict=adata_donor.obs[\"bh_pval\"].to_dict()\n",
    "        adata.obs[\"bh_pval\"]=adata.obs[\"bh_pval\"].map(mapping_dict).fillna(adata.obs[\"bh_pval\"])\n",
    "\n",
    "    \n"
   ]
  },
  {
   "cell_type": "code",
   "execution_count": null,
   "id": "abstract-effectiveness",
   "metadata": {},
   "outputs": [],
   "source": [
    "adata.obs[\"scrublet_score\"].value_counts()"
   ]
  },
  {
   "cell_type": "code",
   "execution_count": null,
   "id": "under-night",
   "metadata": {},
   "outputs": [],
   "source": [
    "adata.obs[\"scrublet_score_binary04\"] = [\"Pass\" if x < 0.4 else \"Fail\" for x in adata.obs[\"scrublet_score\"]]\n",
    "adata.obs[\"scrublet_score_binary04\"].value_counts()"
   ]
  },
  {
   "cell_type": "code",
   "execution_count": null,
   "id": "biblical-henry",
   "metadata": {},
   "outputs": [],
   "source": [
    "adata.obs[\"scrublet_score_binary03\"] = [\"Pass\" if x < 0.3 else \"Fail\" for x in adata.obs[\"scrublet_score\"]]\n",
    "adata.obs[\"scrublet_score_binary03\"].value_counts()"
   ]
  },
  {
   "cell_type": "code",
   "execution_count": null,
   "id": "twenty-discovery",
   "metadata": {},
   "outputs": [],
   "source": [
    "def apply_qc_thresholds(adata, MIN_N_GENES, MAX_TOTAL_COUNT, MAX_PCT_MT, label, MIN_TOTAL_COUNT=0,):\n",
    "    \"\"\"\n",
    "    Apply thresholds to generate QC column which says if passed all\n",
    "    \"\"\"\n",
    "    ## Cell cycle gene list\n",
    "    cc_genes_csv=pd.read_csv(\"/lustre/scratch126/cellgen/team298/sko_expimap_2023/pan_fetal_cc_genes.csv\", names=[\"ind\", \"gene_ids\"], skiprows=1)\n",
    "    cc_genes_csv = cc_genes_csv[\"gene_ids\"]\n",
    "    cc_genes_csv = list(cc_genes_csv)\n",
    "\n",
    "    # Mark MT/ribo/Hb/cell cycle genes\n",
    "    adata.var['mt'] = adata.var_names.str.startswith('MT-')  \n",
    "    adata.var[\"ribo\"] = adata.var_names.str.startswith((\"RPS\", \"RPL\"))\n",
    "    adata.var[\"hb\"] = adata.var_names.str.contains((\"^HB[^(P)]\")) \n",
    "    #adata.var[\"hb\"] = adata.var_names.str.startswith((\"HBA1\", \"HBA2\", \"HBB\", \"HBD\",\"HBM\", \"HBZ\", \"HBG1\", \"HBG2\", \"HBQ1\"))\n",
    "    adata.var[\"cc_fetal\"] = adata.var_names.isin(cc_genes_csv)\n",
    "\n",
    "    # Calculate QC metrics\n",
    "    sc.pp.calculate_qc_metrics(adata, qc_vars=[\"mt\", \"ribo\"], inplace=True, log1p=False) #percent_top=[20],\n",
    "    \n",
    "    conditions = [\n",
    "        (adata.obs['n_genes_by_counts'] < MIN_N_GENES),\n",
    "        (adata.obs['pct_counts_mt'] > MAX_PCT_MT),\n",
    "        (adata.obs['total_counts'] > MAX_TOTAL_COUNT),\n",
    "        (adata.obs['total_counts'] < MIN_TOTAL_COUNT),\n",
    "        (adata.obs['pct_counts_mt'] <= MAX_PCT_MT) & (adata.obs['n_genes_by_counts'] >= MIN_N_GENES) & \n",
    "        (adata.obs['total_counts'] <= MAX_TOTAL_COUNT)  & \n",
    "        (adata.obs['total_counts'] >= MIN_TOTAL_COUNT)\n",
    "    ]\n",
    "    label_suffix = label.split(\"_\")[-1]\n",
    "    print(label_suffix)\n",
    "    pass_name = \"Pass_\" + label_suffix\n",
    "    values = ['Low_nFeature', 'High_MT', 'High total count', 'Low total count', pass_name]\n",
    "\n",
    "    adata.obs[label] = np.select(conditions, values)\n",
    "    adata.obs[label] = adata.obs[label].astype('category')\n",
    "\n",
    "    print(adata.obs[label].value_counts())\n",
    "    \n",
    "\n"
   ]
  },
  {
   "cell_type": "code",
   "execution_count": null,
   "id": "separated-story",
   "metadata": {},
   "outputs": [],
   "source": [
    "apply_qc_thresholds(adata, MIN_N_GENES=600, MAX_TOTAL_COUNT=30_000, MAX_PCT_MT=1,  MIN_TOTAL_COUNT=1000, label=\"QC_hi\")\n"
   ]
  },
  {
   "cell_type": "code",
   "execution_count": null,
   "id": "union-trinidad",
   "metadata": {},
   "outputs": [],
   "source": [
    "adata.write(base_dir + adata_path + \".scrublet\")"
   ]
  },
  {
   "cell_type": "code",
   "execution_count": null,
   "id": "integral-compensation",
   "metadata": {},
   "outputs": [],
   "source": [
    "leidenres_list = [2]\n",
    "leiden_to_plot = []\n",
    "neighbor_id = 'neighbor_30'\n",
    "for leidenres in leidenres_list:\n",
    "    print(\"###\", leidenres)\n",
    "    leiden_id = \"leiden_res\" + str(leidenres) # gayoso 1.2\n",
    "    leiden_to_plot.append(leiden_id)\n",
    "    sc.tl.leiden(adata, resolution=leidenres, key_added=leiden_id, neighbors_key=neighbor_id)\n"
   ]
  },
  {
   "cell_type": "code",
   "execution_count": null,
   "id": "dental-blood",
   "metadata": {},
   "outputs": [],
   "source": [
    "dict_scrublet_score = {}\n",
    "\n",
    "grouped = adata.obs.groupby(\"leiden_res2\")[\"scrublet_score\"].mean()\n",
    "\n",
    "dict_scrublet_score = grouped.to_dict()\n",
    "\n",
    "adata.uns[\"dict_scrublet_score\"] = dict_scrublet_score\n",
    "\n",
    "print(dict_scrublet_score)\n"
   ]
  },
  {
   "cell_type": "code",
   "execution_count": null,
   "id": "emerging-jefferson",
   "metadata": {},
   "outputs": [],
   "source": [
    "import scanpy as sc\n",
    "adata.write(base_dir + adata_path + \".scrublet\")"
   ]
  },
  {
   "cell_type": "code",
   "execution_count": null,
   "id": "certified-collect",
   "metadata": {},
   "outputs": [],
   "source": [
    "STOP"
   ]
  },
  {
   "cell_type": "code",
   "execution_count": null,
   "id": "saved-mercy",
   "metadata": {},
   "outputs": [],
   "source": [
    "import scanpy as sc\n",
    "adata=sc.read_h5ad('/nfs/team298/ls34/disease_atlas/mrvi/adata_inflamm_scanvi6.h5ad.filtered.scrublet')\n",
    "adata"
   ]
  },
  {
   "cell_type": "code",
   "execution_count": null,
   "id": "declared-process",
   "metadata": {},
   "outputs": [],
   "source": [
    "sc.settings.set_figure_params(dpi=100, facecolor=\"white\", frameon=False, figsize=(18,18))\n",
    "sc.pl.umap(adata, \n",
    "           color=[\"leiden_res2\", \"scrublet_score\"],\n",
    "           s=2,\n",
    "           legend_loc=\"on data\", vmax=0.4,\n",
    "           legend_fontsize=9, )#fontsize=20)"
   ]
  },
  {
   "cell_type": "code",
   "execution_count": null,
   "id": "unlike-sudan",
   "metadata": {},
   "outputs": [],
   "source": [
    "dict_scrublet_score = {}\n",
    "grouped = adata.obs.groupby(\"leiden_res2\")[\"scrublet_score\"].mean()\n",
    "dict_scrublet_score = grouped.to_dict()\n",
    "adata.uns[\"dict_scrublet_score\"] = dict_scrublet_score\n",
    "\n"
   ]
  },
  {
   "cell_type": "code",
   "execution_count": null,
   "id": "great-dispatch",
   "metadata": {},
   "outputs": [],
   "source": [
    "data=dict_scrublet_score \n",
    "keys = list(data.keys())\n",
    "values = list(data.values())\n",
    "\n",
    "plt.figure(figsize=(20, 6))\n",
    "bars = plt.bar(keys, values, color=['red' if value >= 0.3 else 'blue' for value in values])\n",
    "plt.xlabel('Keys')\n",
    "plt.ylabel('Values')\n",
    "plt.title('Value for Each Key')\n",
    "plt.xticks(rotation=90)  # Rotate x-axis labels if needed\n",
    "plt.grid(True)\n",
    "\n",
    "red_patch = plt.Line2D([0], [0], color='red', lw=4, label='Value >= 0.3')\n",
    "blue_patch = plt.Line2D([0], [0], color='blue', lw=4, label='Value < 0.3')\n",
    "plt.legend(handles=[red_patch, blue_patch])\n",
    "\n",
    "plt.show()\n"
   ]
  },
  {
   "cell_type": "code",
   "execution_count": null,
   "id": "narrative-reserve",
   "metadata": {},
   "outputs": [],
   "source": [
    "keys = list(dict_scrublet_score.keys())\n",
    "values = list(dict_scrublet_score.values())\n",
    "\n",
    "plt.figure(figsize=(20, 6))\n",
    "bars = plt.bar(keys, values, color=['red' if value >= 0.3 else 'blue' for value in values])\n",
    "plt.xlabel('Keys')\n",
    "plt.ylabel('Values')\n",
    "plt.title('Value for Each Key')\n",
    "plt.xticks(rotation=90)  # Rotate x-axis labels if needed\n",
    "plt.grid(True)\n",
    "\n",
    "red_patch = plt.Line2D([0], [0], color='red', lw=4, label='Value >= 0.3')\n",
    "blue_patch = plt.Line2D([0], [0], color='blue', lw=4, label='Value < 0.3')\n",
    "plt.legend(handles=[red_patch, blue_patch])\n",
    "\n",
    "# Show the plot\n",
    "plt.show()\n"
   ]
  },
  {
   "cell_type": "code",
   "execution_count": null,
   "id": "japanese-defensive",
   "metadata": {},
   "outputs": [],
   "source": [
    "binarized_scores = {k: '>=0.3' if v >= 0.3 else '<0.3' for k, v in dict_scrublet_score.items()}\n",
    "adata.obs['highlight'] = adata.obs['leiden_res2'].map(binarized_scores)\n",
    "print(adata.obs.head())\n",
    "sc.settings.set_figure_params(dpi=100, facecolor=\"white\", frameon=False, figsize=(18, 18))\n",
    "sc.pl.umap(adata, \n",
    "           color=['highlight', \"lvl3_annotation\"], \n",
    "           s=2, \n",
    "           legend_loc='on data', \n",
    "           legend_fontsize=9)\n"
   ]
  },
  {
   "cell_type": "code",
   "execution_count": null,
   "id": "tough-trigger",
   "metadata": {},
   "outputs": [],
   "source": [
    "adata.obs.highlight.value_counts()"
   ]
  },
  {
   "cell_type": "code",
   "execution_count": null,
   "id": "forty-ordinary",
   "metadata": {},
   "outputs": [],
   "source": [
    "sc.pl.umap(adata, \n",
    "           color=['scrublet_score_binary03'], \n",
    "           s=2, \n",
    "           legend_loc='on data', \n",
    "           legend_fontsize=9)\n"
   ]
  },
  {
   "cell_type": "code",
   "execution_count": null,
   "id": "variable-catch",
   "metadata": {},
   "outputs": [],
   "source": [
    "adata = adata[adata.obs[\"scrublet_score_binary03\"]!=\"Fail\"]\n"
   ]
  },
  {
   "cell_type": "code",
   "execution_count": null,
   "id": "floating-context",
   "metadata": {},
   "outputs": [],
   "source": [
    "adata.obs[\"highlight\"].value_counts()"
   ]
  },
  {
   "cell_type": "code",
   "execution_count": null,
   "id": "liked-vacuum",
   "metadata": {},
   "outputs": [],
   "source": [
    "adata = adata[adata.obs[\"leiden_res2\"]!=\"48\"] \n",
    "adata = adata[adata.obs[\"leiden_res2\"]!=\"54\"] \n",
    "adata = adata[adata.obs[\"leiden_res2\"]!=\"56\"] \n",
    "adata = adata[adata.obs[\"leiden_res2\"]!=\"60\"] \n",
    " "
   ]
  },
  {
   "cell_type": "code",
   "execution_count": null,
   "id": "sustained-mechanism",
   "metadata": {},
   "outputs": [],
   "source": [
    "adata.write('/nfs/team298/ls34/disease_atlas/mrvi/adata_inflamm_scanvi6.h5ad.filtered.scrubletfiltered')"
   ]
  },
  {
   "cell_type": "code",
   "execution_count": null,
   "id": "minor-biology",
   "metadata": {},
   "outputs": [],
   "source": [
    "sc.pl.umap(adata, \n",
    "           color=['scrublet_score_binary03'], \n",
    "           s=2, \n",
    "           legend_loc='on data', \n",
    "           legend_fontsize=9)\n"
   ]
  },
  {
   "cell_type": "code",
   "execution_count": null,
   "id": "portable-volleyball",
   "metadata": {},
   "outputs": [],
   "source": [
    "sc.pl.umap(adata, \n",
    "           color=['leiden_res2'], \n",
    "           s=2, \n",
    "           legend_loc='on data', \n",
    "           legend_fontsize=9)\n"
   ]
  },
  {
   "cell_type": "code",
   "execution_count": null,
   "id": "restricted-lyric",
   "metadata": {},
   "outputs": [],
   "source": [
    "base_dir + adata_path + \".scrubletfiltered\""
   ]
  },
  {
   "cell_type": "code",
   "execution_count": null,
   "id": "recovered-lafayette",
   "metadata": {},
   "outputs": [],
   "source": [
    "import scanpy as sc\n",
    "adata.write(base_dir + adata_path + \".scrublet\")"
   ]
  },
  {
   "cell_type": "code",
   "execution_count": null,
   "id": "governing-relation",
   "metadata": {},
   "outputs": [],
   "source": [
    "\"\"\"\n",
    "re-run with 0.35 threshold\n",
    "\"\"\""
   ]
  },
  {
   "cell_type": "markdown",
   "id": "posted-daily",
   "metadata": {},
   "source": [
    "# Map gene names"
   ]
  },
  {
   "cell_type": "code",
   "execution_count": null,
   "id": "linear-rover",
   "metadata": {},
   "outputs": [],
   "source": [
    "adata"
   ]
  },
  {
   "cell_type": "code",
   "execution_count": null,
   "id": "adverse-logistics",
   "metadata": {},
   "outputs": [],
   "source": [
    "adata.var"
   ]
  },
  {
   "cell_type": "code",
   "execution_count": null,
   "id": "reliable-soundtrack",
   "metadata": {},
   "outputs": [],
   "source": [
    "import pickle\n",
    "with open('/lustre/scratch126/cellgen/team298/ls34/gene_ensgids_dictionaries.pkl', 'rb') as file:\n",
    "    dictionaries = pickle.load(file)\n",
    "    gene_dict = dictionaries['gene_dict']\n",
    "    del(dictionaries)\n",
    "\n",
    "adata.var[\"ensg_id\"] = adata.var.index\n",
    "adata.var[\"gene_symbol\"] = adata.var.index.map(gene_dict).\n",
    "adata.var_names = adata.var[\"gene_symbol\"] \n",
    "adata.var"
   ]
  },
  {
   "cell_type": "code",
   "execution_count": null,
   "id": "excellent-lecture",
   "metadata": {},
   "outputs": [],
   "source": [
    "adata.var[\"gene_symbol2\"] = adata.var[\"ensg_id\"].map(gene_dict).fillna(adata.var[\"ensg_id\"])\n"
   ]
  },
  {
   "cell_type": "code",
   "execution_count": null,
   "id": "general-garden",
   "metadata": {},
   "outputs": [],
   "source": [
    "adata.var_names = adata.var[\"gene_symbol2\"] \n",
    "adata.var"
   ]
  },
  {
   "cell_type": "markdown",
   "id": "liberal-character",
   "metadata": {},
   "source": [
    "# Save"
   ]
  },
  {
   "cell_type": "code",
   "execution_count": null,
   "id": "retired-comfort",
   "metadata": {},
   "outputs": [],
   "source": [
    "adata.write(\"/lustre/scratch126/cellgen/team298/ls34/beacon/adata_files/adata_postscrublet_postqc\", compression=\"gzip\")\n",
    "\n",
    "from datetime import datetime\n",
    "now = datetime.now()\n",
    "timestamp = now.strftime(\"%Y-%m-%d %H:%M:%S\")\n",
    "print(f\"Saved! Time: {timestamp}\")\n"
   ]
  },
  {
   "cell_type": "code",
   "execution_count": null,
   "id": "complimentary-negotiation",
   "metadata": {},
   "outputs": [],
   "source": []
  }
 ],
 "metadata": {
  "kernelspec": {
   "display_name": "sko_ls",
   "language": "python",
   "name": "sko_ls"
  },
  "language_info": {
   "codemirror_mode": {
    "name": "ipython",
    "version": 3
   },
   "file_extension": ".py",
   "mimetype": "text/x-python",
   "name": "python",
   "nbconvert_exporter": "python",
   "pygments_lexer": "ipython3",
   "version": "3.10.0"
  }
 },
 "nbformat": 4,
 "nbformat_minor": 5
}
