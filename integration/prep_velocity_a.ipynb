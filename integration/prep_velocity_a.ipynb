{
 "cells": [
  {
   "cell_type": "code",
   "execution_count": 1,
   "id": "wired-heavy",
   "metadata": {},
   "outputs": [],
   "source": [
    "import os\n",
    "import matplotlib.pyplot as plt\n",
    "\n",
    "import scvelo as scv\n",
    "import scanpy as sc\n",
    "import cellrank as cr\n",
    "import numpy as np\n",
    "import pandas as pd\n",
    "import anndata as ad\n",
    "import scipy as sci\n",
    "\n",
    "sc.settings.verbosity=0 # verbosity: errors (0), warnings (1), info (2), hints (3)\n",
    "sc.settings.n_jobs=4\n",
    "sc.settings.set_figure_params(dpi=50, facecolor=\"white\", frameon=False, figsize=(4,4))\n",
    "plt.rcParams['pdf.fonttype'] = 42\n",
    "%matplotlib inline\n",
    "\n"
   ]
  },
  {
   "cell_type": "markdown",
   "id": "radical-drilling",
   "metadata": {},
   "source": [
    "# load velo files"
   ]
  },
  {
   "cell_type": "code",
   "execution_count": 2,
   "id": "parallel-suicide",
   "metadata": {},
   "outputs": [],
   "source": [
    "def starsolo_velocity_anndata(input_dir):\n",
    "    # Load Genes and Cells identifiers\n",
    "    \"\"\"\n",
    "    input directory should contain barcodes.tsv, features.tsv with 3 mtx from spliced, ambigious, unspliced\n",
    "    \"\"\"\n",
    "    try:\n",
    "        obs = pd.read_csv(os.path.join(input_dir,'barcodes.tsv'), header = None, index_col = 0)\n",
    "        # Remove index column name to make it compliant with the anndata format\n",
    "        obs.index.name = None\n",
    "\n",
    "        var = pd.read_csv(os.path.join(input_dir,\"features.tsv\"), sep='\\t',names = ('gene_ids', 'feature_types'), index_col = 1)\n",
    "        var.index.name = None\n",
    "\n",
    "        from scipy import io,sparse\n",
    "\n",
    "        spliced=sci.sparse.csr_matrix(sci.io.mmread(os.path.join(input_dir,\"spliced.mtx\")).T)\n",
    "        ambiguous=sci.sparse.csr_matrix(sci.io.mmread(os.path.join(input_dir,\"ambiguous.mtx\")).T)\n",
    "        unspliced=sci.sparse.csr_matrix(sci.io.mmread(os.path.join(input_dir,\"unspliced.mtx\")).T)\n",
    "        adata=ad.AnnData(X=spliced,obs=obs,var=var,layers={'spliced':spliced,\"ambiguous\":ambiguous,\"unspliced\":unspliced})\n",
    "        adata.var_names_make_unique()\n",
    "        return adata\n",
    "    except:\n",
    "        obs = pd.read_csv(os.path.join(input_dir,'barcodes.tsv.gz'), header = None, index_col = 0)\n",
    "        # Remove index column name to make it compliant with the anndata format\n",
    "        obs.index.name = None\n",
    "\n",
    "        var = pd.read_csv(os.path.join(input_dir,\"features.tsv.gz\"), sep='\\t',names = ('gene_ids', 'feature_types'), index_col = 1)\n",
    "        var.index.name = None\n",
    "\n",
    "        from scipy import io,sparse\n",
    "\n",
    "        spliced=sci.sparse.csr_matrix(sci.io.mmread(os.path.join(input_dir,\"spliced.mtx.gz\")).T)\n",
    "        ambiguous=sci.sparse.csr_matrix(sci.io.mmread(os.path.join(input_dir,\"ambiguous.mtx.gz\")).T)\n",
    "        unspliced=sci.sparse.csr_matrix(sci.io.mmread(os.path.join(input_dir,\"unspliced.mtx.gz\")).T)\n",
    "        adata=ad.AnnData(X=spliced,obs=obs,var=var,layers={'spliced':spliced,\"ambiguous\":ambiguous,\"unspliced\":unspliced})\n",
    "        adata.var_names_make_unique()\n",
    "        return adata\n"
   ]
  },
  {
   "cell_type": "code",
   "execution_count": 1,
   "id": "cognitive-mention",
   "metadata": {},
   "outputs": [],
   "source": [
    "adata_dict={}\n",
    "for FILE in os.listdir('/nfs/team298/ls34/reprocess_public_10x/'):\n",
    "    if FILE.startswith(\"GSE\"):\n",
    "        try:\n",
    "            if FILE.startswith(\"GSM\"):\n",
    "                print(FILE)\n",
    "                NEW_PATH = '/nfs/team298/ls34/reprocess_public_10x/GSE273559/' +FILE + '/output/Velocyto/filtered'\n",
    "                adata_i = starsolo_velocity_anndata(NEW_PATH)\n",
    "                adata_i.obs[\"DonorID\"]=FILE\n",
    "                adata_dict[FILE]=adata_i\n",
    "                print(adata_i.shape)\n",
    "        except:\n",
    "            if \"log\" not in FILE:\n",
    "                print(\"fail with\", FILE)\n",
    "            \n",
    "adata_i"
   ]
  },
  {
   "cell_type": "code",
   "execution_count": 4,
   "id": "removed-weather",
   "metadata": {},
   "outputs": [
    {
     "name": "stderr",
     "output_type": "stream",
     "text": [
      "/home/jovyan/my-conda-envs/sko_ls/lib/python3.10/site-packages/anndata/_core/anndata.py:1818: UserWarning: Observation names are not unique. To make them unique, call `.obs_names_make_unique`.\n",
      "  utils.warn_names_duplicates(\"obs\")\n"
     ]
    }
   ],
   "source": [
    "ldata = ad.concat(adata_dict.values(), join='outer') # label='sample_id', keys=list(adata_dict.keys()))\n"
   ]
  },
  {
   "cell_type": "code",
   "execution_count": 5,
   "id": "tight-concept",
   "metadata": {},
   "outputs": [],
   "source": [
    "ldata.obs[\"barcode\"]=ldata.obs.index"
   ]
  },
  {
   "cell_type": "code",
   "execution_count": 7,
   "id": "crude-devon",
   "metadata": {},
   "outputs": [],
   "source": [
    "ldata.write('/nfs/team298/ls34/disease_atlas/final_fb_adatas/ldata_all.h5ad')"
   ]
  },
  {
   "cell_type": "markdown",
   "id": "upper-genetics",
   "metadata": {},
   "source": [
    "# MERGE"
   ]
  },
  {
   "cell_type": "code",
   "execution_count": null,
   "id": "large-constitutional",
   "metadata": {},
   "outputs": [],
   "source": [
    "# Find the shared barcodes between adata and ldata\n",
    "shared_barcodes = adata.obs[\"barcode\"].isin(ldata.obs[\"barcode\"])\n",
    "\n",
    "# Subset ldata to only include the rows (cells) where barcodes match those in adata\n",
    "ldata_subset = ldata[ldata.obs[\"barcode\"].isin(adata.obs[\"barcode\"])].copy()\n",
    "ldata_subset\n",
    "\n"
   ]
  },
  {
   "cell_type": "code",
   "execution_count": null,
   "id": "gothic-rubber",
   "metadata": {},
   "outputs": [],
   "source": [
    "scv.utils.clean_obs_names(ldata_subset)\n",
    "scv.utils.clean_obs_names(adata)"
   ]
  },
  {
   "cell_type": "code",
   "execution_count": null,
   "id": "packed-catch",
   "metadata": {},
   "outputs": [],
   "source": [
    "adata = scv.utils.merge(adata, ldata_subset)\n",
    "adata"
   ]
  },
  {
   "cell_type": "code",
   "execution_count": null,
   "id": "precious-division",
   "metadata": {},
   "outputs": [],
   "source": [
    "adata_path_w_ldata =  PATH + \".velo\"\n",
    "adata.write(adata_path_w_ldata)\n",
    "adata_path_w_ldata"
   ]
  },
  {
   "cell_type": "code",
   "execution_count": null,
   "id": "aggressive-desert",
   "metadata": {},
   "outputs": [],
   "source": []
  },
  {
   "cell_type": "code",
   "execution_count": null,
   "id": "short-rebound",
   "metadata": {},
   "outputs": [],
   "source": []
  },
  {
   "cell_type": "code",
   "execution_count": null,
   "id": "democratic-organic",
   "metadata": {},
   "outputs": [],
   "source": []
  },
  {
   "cell_type": "code",
   "execution_count": null,
   "id": "narrative-labor",
   "metadata": {},
   "outputs": [],
   "source": []
  },
  {
   "cell_type": "code",
   "execution_count": null,
   "id": "accepted-boring",
   "metadata": {},
   "outputs": [],
   "source": []
  },
  {
   "cell_type": "code",
   "execution_count": null,
   "id": "pregnant-blackjack",
   "metadata": {},
   "outputs": [],
   "source": []
  },
  {
   "cell_type": "code",
   "execution_count": null,
   "id": "possible-tournament",
   "metadata": {},
   "outputs": [],
   "source": []
  },
  {
   "cell_type": "code",
   "execution_count": null,
   "id": "invalid-exhibition",
   "metadata": {},
   "outputs": [],
   "source": []
  },
  {
   "cell_type": "code",
   "execution_count": null,
   "id": "accredited-student",
   "metadata": {},
   "outputs": [],
   "source": [
    "# FULL GENE VERSION\n",
    "PATH=\n",
    "\n",
    "    \n",
    "adata=sc.read_h5ad(PATH)\n",
    "adata.shape\n",
    "adata"
   ]
  },
  {
   "cell_type": "code",
   "execution_count": null,
   "id": "vulnerable-buyer",
   "metadata": {},
   "outputs": [],
   "source": [
    "sc.pp.filter_genes(adata, min_counts=50)\n",
    "adata.shape"
   ]
  },
  {
   "cell_type": "code",
   "execution_count": null,
   "id": "abandoned-weight",
   "metadata": {},
   "outputs": [],
   "source": []
  },
  {
   "cell_type": "code",
   "execution_count": null,
   "id": "patient-penguin",
   "metadata": {},
   "outputs": [],
   "source": []
  },
  {
   "cell_type": "code",
   "execution_count": null,
   "id": "educated-advisory",
   "metadata": {},
   "outputs": [],
   "source": []
  },
  {
   "cell_type": "code",
   "execution_count": null,
   "id": "laughing-costa",
   "metadata": {},
   "outputs": [],
   "source": [
    "scv.pl.proportions(adata, groupby='test12')\n"
   ]
  },
  {
   "cell_type": "code",
   "execution_count": null,
   "id": "important-signature",
   "metadata": {},
   "outputs": [],
   "source": [
    "adata = adata[(adata.obs[\"test12\"].str.startswith(\"F1\"))|\n",
    "              (adata.obs[\"test12\"].str.startswith(\"F2\"))|\n",
    "             (adata.obs[\"test12\"].str.startswith(\"F3\"))|\n",
    "              (adata.obs[\"test12\"].str.startswith(\"F6\"))\n",
    "             ]\n",
    "adata=adata[adata.obs[\"Site_status_binary\"]==\"Lesional\"]"
   ]
  },
  {
   "cell_type": "code",
   "execution_count": null,
   "id": "checked-definition",
   "metadata": {},
   "outputs": [],
   "source": [
    "scv.pp.neighbors(adata, n_neighbors=30, use_rep = 'X_scvi')  #n_pcs = 10) #random_state=0)# use_rep = 'X_scvi')\n"
   ]
  },
  {
   "cell_type": "code",
   "execution_count": null,
   "id": "radio-brisbane",
   "metadata": {},
   "outputs": [],
   "source": [
    "scv.pp.moments(adata, n_pcs=None, n_neighbors=30)    # neighbor_key=\"n\")"
   ]
  },
  {
   "cell_type": "code",
   "execution_count": null,
   "id": "brown-gazette",
   "metadata": {},
   "outputs": [],
   "source": [
    "adata.write(PATH +\".moments\")\n",
    "PATH +\".moments\""
   ]
  },
  {
   "cell_type": "code",
   "execution_count": null,
   "id": "decreased-concentrate",
   "metadata": {},
   "outputs": [],
   "source": []
  },
  {
   "cell_type": "code",
   "execution_count": null,
   "id": "visible-discount",
   "metadata": {},
   "outputs": [],
   "source": []
  }
 ],
 "metadata": {
  "kernelspec": {
   "display_name": "sko_ls",
   "language": "python",
   "name": "sko_ls"
  },
  "language_info": {
   "codemirror_mode": {
    "name": "ipython",
    "version": 3
   },
   "file_extension": ".py",
   "mimetype": "text/x-python",
   "name": "python",
   "nbconvert_exporter": "python",
   "pygments_lexer": "ipython3",
   "version": "3.10.0"
  }
 },
 "nbformat": 4,
 "nbformat_minor": 5
}
