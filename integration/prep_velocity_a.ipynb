{
 "cells": [
  {
   "cell_type": "code",
   "execution_count": 7,
   "id": "inside-electronics",
   "metadata": {},
   "outputs": [],
   "source": [
    "import os\n",
    "import matplotlib.pyplot as plt\n",
    "\n",
    "import scvelo as scv\n",
    "\n",
    "import scanpy as sc\n",
    "import cellrank as cr\n",
    "import numpy as np\n",
    "import pandas as pd\n",
    "import anndata as ad\n",
    "import scipy as sci\n",
    "\n",
    "sc.settings.verbosity=0 # verbosity: errors (0), warnings (1), info (2), hints (3)\n",
    "sc.settings.n_jobs=4\n",
    "sc.settings.set_figure_params(dpi=50, facecolor=\"white\", frameon=False, figsize=(4,4))\n",
    "plt.rcParams['pdf.fonttype'] = 42\n",
    "%matplotlib inline\n",
    "\n"
   ]
  },
  {
   "cell_type": "markdown",
   "id": "fifteen-solid",
   "metadata": {},
   "source": [
    "# load velo files"
   ]
  },
  {
   "cell_type": "code",
   "execution_count": 2,
   "id": "unable-afghanistan",
   "metadata": {},
   "outputs": [],
   "source": [
    "# PATH='/nfs/team298/ls34/fibroblast_atlas_paper/final_adatas/adata_all.h5ad'\n",
    "# adata=sc.read_h5ad(PATH)\n",
    "# adata"
   ]
  },
  {
   "cell_type": "code",
   "execution_count": 3,
   "id": "bright-report",
   "metadata": {},
   "outputs": [],
   "source": [
    "PATH='/nfs/team298/ls34/fibroblast_atlas_paper/final_adatas/adata_lesional11.h5ad'\n",
    "adata=sc.read_h5ad(PATH)\n"
   ]
  },
  {
   "cell_type": "code",
   "execution_count": null,
   "id": "greek-filing",
   "metadata": {},
   "outputs": [],
   "source": []
  },
  {
   "cell_type": "code",
   "execution_count": 4,
   "id": "micro-shopper",
   "metadata": {},
   "outputs": [],
   "source": [
    "def starsolo_velocity_anndata(input_dir):\n",
    "    # Load Genes and Cells identifiers\n",
    "    \"\"\"\n",
    "    input directory should contain barcodes.tsv, features.tsv with 3 mtx from spliced, ambigious, unspliced\n",
    "    \"\"\"\n",
    "    try:\n",
    "        obs = pd.read_csv(os.path.join(input_dir,'barcodes.tsv'), header = None, index_col = 0)\n",
    "        # Remove index column name to make it compliant with the anndata format\n",
    "        obs.index.name = None\n",
    "\n",
    "        var = pd.read_csv(os.path.join(input_dir,\"features.tsv\"), sep='\\t',names = ('gene_ids', 'feature_types'), index_col = 1)\n",
    "        var.index.name = None\n",
    "\n",
    "        from scipy import io,sparse\n",
    "\n",
    "        spliced=sci.sparse.csr_matrix(sci.io.mmread(os.path.join(input_dir,\"spliced.mtx\")).T)\n",
    "        ambiguous=sci.sparse.csr_matrix(sci.io.mmread(os.path.join(input_dir,\"ambiguous.mtx\")).T)\n",
    "        unspliced=sci.sparse.csr_matrix(sci.io.mmread(os.path.join(input_dir,\"unspliced.mtx\")).T)\n",
    "        adata=ad.AnnData(X=spliced,obs=obs,var=var,layers={'spliced':spliced,\"ambiguous\":ambiguous,\"unspliced\":unspliced})\n",
    "        adata.var_names_make_unique()\n",
    "        return adata\n",
    "    except:\n",
    "        obs = pd.read_csv(os.path.join(input_dir,'barcodes.tsv.gz'), header = None, index_col = 0)\n",
    "        # Remove index column name to make it compliant with the anndata format\n",
    "        obs.index.name = None\n",
    "\n",
    "        var = pd.read_csv(os.path.join(input_dir,\"features.tsv.gz\"), sep='\\t',names = ('gene_ids', 'feature_types'), index_col = 1)\n",
    "        var.index.name = None\n",
    "\n",
    "        from scipy import io,sparse\n",
    "\n",
    "        spliced=sci.sparse.csr_matrix(sci.io.mmread(os.path.join(input_dir,\"spliced.mtx.gz\")).T)\n",
    "        ambiguous=sci.sparse.csr_matrix(sci.io.mmread(os.path.join(input_dir,\"ambiguous.mtx.gz\")).T)\n",
    "        unspliced=sci.sparse.csr_matrix(sci.io.mmread(os.path.join(input_dir,\"unspliced.mtx.gz\")).T)\n",
    "        adata=ad.AnnData(X=spliced,obs=obs,var=var,layers={'spliced':spliced,\"ambiguous\":ambiguous,\"unspliced\":unspliced})\n",
    "        adata.var_names_make_unique()\n",
    "        return adata\n"
   ]
  },
  {
   "cell_type": "code",
   "execution_count": 18,
   "id": "heard-wichita",
   "metadata": {},
   "outputs": [],
   "source": [
    "BARCODES=adata.obs[\"barcode\"]\n",
    "# del(adata)"
   ]
  },
  {
   "cell_type": "code",
   "execution_count": 6,
   "id": "taken-gasoline",
   "metadata": {},
   "outputs": [
    {
     "data": {
      "text/plain": [
       "95"
      ]
     },
     "execution_count": 6,
     "metadata": {},
     "output_type": "execute_result"
    }
   ],
   "source": [
    "import gc\n",
    "\n",
    "gc.collect()"
   ]
  },
  {
   "cell_type": "code",
   "execution_count": 7,
   "id": "changed-standard",
   "metadata": {},
   "outputs": [],
   "source": [
    "# BARCODES"
   ]
  },
  {
   "cell_type": "code",
   "execution_count": 8,
   "id": "civilian-delay",
   "metadata": {},
   "outputs": [],
   "source": [
    "# adata_i"
   ]
  },
  {
   "cell_type": "code",
   "execution_count": 9,
   "id": "latest-climate",
   "metadata": {},
   "outputs": [],
   "source": [
    "adata.obs.index = adata.obs[\"barcode\"].astype(str) + \"_\" +  adata.obs[\"sample_id\"].astype(str) "
   ]
  },
  {
   "cell_type": "code",
   "execution_count": 10,
   "id": "handed-persian",
   "metadata": {},
   "outputs": [
    {
     "data": {
      "text/html": [
       "<div>\n",
       "<style scoped>\n",
       "    .dataframe tbody tr th:only-of-type {\n",
       "        vertical-align: middle;\n",
       "    }\n",
       "\n",
       "    .dataframe tbody tr th {\n",
       "        vertical-align: top;\n",
       "    }\n",
       "\n",
       "    .dataframe thead th {\n",
       "        text-align: right;\n",
       "    }\n",
       "</style>\n",
       "<table border=\"1\" class=\"dataframe\">\n",
       "  <thead>\n",
       "    <tr style=\"text-align: right;\">\n",
       "      <th></th>\n",
       "      <th>sample_id</th>\n",
       "      <th>barcode</th>\n",
       "      <th>dataset_id</th>\n",
       "      <th>GSE</th>\n",
       "      <th>Site_status</th>\n",
       "      <th>Patient_status</th>\n",
       "      <th>DonorID</th>\n",
       "      <th>Location</th>\n",
       "      <th>Age</th>\n",
       "      <th>Sex</th>\n",
       "      <th>...</th>\n",
       "      <th>disease_category</th>\n",
       "      <th>macfb</th>\n",
       "      <th>macfb2</th>\n",
       "      <th>test12</th>\n",
       "      <th>test13</th>\n",
       "      <th>test14</th>\n",
       "      <th>test15</th>\n",
       "      <th>test16</th>\n",
       "      <th>test13_simple</th>\n",
       "      <th>disease_category_orig</th>\n",
       "    </tr>\n",
       "  </thead>\n",
       "  <tbody>\n",
       "    <tr>\n",
       "      <th>CACCTTGCACAGACAG_GSM7157930</th>\n",
       "      <td>GSM7157930</td>\n",
       "      <td>CACCTTGCACAGACAG</td>\n",
       "      <td>ImmunotherapyReaction</td>\n",
       "      <td>GSE229279</td>\n",
       "      <td>Lesional</td>\n",
       "      <td>Drug reaction: irAE</td>\n",
       "      <td>GSM7157930</td>\n",
       "      <td>GSM7157930</td>\n",
       "      <td>40-64</td>\n",
       "      <td>Female</td>\n",
       "      <td>...</td>\n",
       "      <td>Inflammatory+\\nlow scarring risk</td>\n",
       "      <td>F1: Secretory</td>\n",
       "      <td>F1: Secretory</td>\n",
       "      <td>F1: Superficial</td>\n",
       "      <td>F1: Superficial</td>\n",
       "      <td>F1: Superficial</td>\n",
       "      <td>F1: Superficial</td>\n",
       "      <td>F1: Superficial</td>\n",
       "      <td>F1: Superficial</td>\n",
       "      <td>Inflammatory without scarring</td>\n",
       "    </tr>\n",
       "    <tr>\n",
       "      <th>GGGCATCTCAGCATGT_GSM7157930</th>\n",
       "      <td>GSM7157930</td>\n",
       "      <td>GGGCATCTCAGCATGT</td>\n",
       "      <td>ImmunotherapyReaction</td>\n",
       "      <td>GSE229279</td>\n",
       "      <td>Lesional</td>\n",
       "      <td>Drug reaction: irAE</td>\n",
       "      <td>GSM7157930</td>\n",
       "      <td>GSM7157930</td>\n",
       "      <td>40-64</td>\n",
       "      <td>Female</td>\n",
       "      <td>...</td>\n",
       "      <td>Inflammatory+\\nlow scarring risk</td>\n",
       "      <td>F1: Secretory activated</td>\n",
       "      <td>F1: Secretory activated</td>\n",
       "      <td>F1: Superficial</td>\n",
       "      <td>F1: Superficial</td>\n",
       "      <td>F1: Superficial regenerative</td>\n",
       "      <td>F1: Superficial regenerative</td>\n",
       "      <td>F1: Superficial regenerative</td>\n",
       "      <td>F1: Superficial</td>\n",
       "      <td>Inflammatory without scarring</td>\n",
       "    </tr>\n",
       "    <tr>\n",
       "      <th>CTACATTGTCTCATCC_GSM7157930</th>\n",
       "      <td>GSM7157930</td>\n",
       "      <td>CTACATTGTCTCATCC</td>\n",
       "      <td>ImmunotherapyReaction</td>\n",
       "      <td>GSE229279</td>\n",
       "      <td>Lesional</td>\n",
       "      <td>Drug reaction: irAE</td>\n",
       "      <td>GSM7157930</td>\n",
       "      <td>GSM7157930</td>\n",
       "      <td>40-64</td>\n",
       "      <td>Female</td>\n",
       "      <td>...</td>\n",
       "      <td>Inflammatory+\\nlow scarring risk</td>\n",
       "      <td>F7: Fascia-like</td>\n",
       "      <td>F7: Fascia-like</td>\n",
       "      <td>F8: Fascia-like myofibroblast</td>\n",
       "      <td>F8: Fascia-like myofibroblast</td>\n",
       "      <td>F7: Myofibroblast fascia-like</td>\n",
       "      <td>F7: Myofibroblast fascia-like</td>\n",
       "      <td>F7: Myofibroblast fascia-like</td>\n",
       "      <td>F8: Fascia-like myofibroblast</td>\n",
       "      <td>Inflammatory without scarring</td>\n",
       "    </tr>\n",
       "    <tr>\n",
       "      <th>CTGATAGGTCCTGCTT_GSM7157930</th>\n",
       "      <td>GSM7157930</td>\n",
       "      <td>CTGATAGGTCCTGCTT</td>\n",
       "      <td>ImmunotherapyReaction</td>\n",
       "      <td>GSE229279</td>\n",
       "      <td>Lesional</td>\n",
       "      <td>Drug reaction: irAE</td>\n",
       "      <td>GSM7157930</td>\n",
       "      <td>GSM7157930</td>\n",
       "      <td>40-64</td>\n",
       "      <td>Female</td>\n",
       "      <td>...</td>\n",
       "      <td>Inflammatory+\\nlow scarring risk</td>\n",
       "      <td>F2: Universal (reticular)</td>\n",
       "      <td>F2: Universal (reticular)</td>\n",
       "      <td>F2: Universal</td>\n",
       "      <td>F2: Universal</td>\n",
       "      <td>F2: Universal</td>\n",
       "      <td>F2: Universal</td>\n",
       "      <td>F2: Universal</td>\n",
       "      <td>F2: Universal</td>\n",
       "      <td>Inflammatory without scarring</td>\n",
       "    </tr>\n",
       "    <tr>\n",
       "      <th>GTGTGCGAGTAGCGGT_GSM7157930</th>\n",
       "      <td>GSM7157930</td>\n",
       "      <td>GTGTGCGAGTAGCGGT</td>\n",
       "      <td>ImmunotherapyReaction</td>\n",
       "      <td>GSE229279</td>\n",
       "      <td>Lesional</td>\n",
       "      <td>Drug reaction: irAE</td>\n",
       "      <td>GSM7157930</td>\n",
       "      <td>GSM7157930</td>\n",
       "      <td>40-64</td>\n",
       "      <td>Female</td>\n",
       "      <td>...</td>\n",
       "      <td>Inflammatory+\\nlow scarring risk</td>\n",
       "      <td>F1: Secretory activated</td>\n",
       "      <td>F1: Secretory activated</td>\n",
       "      <td>F1: Superficial</td>\n",
       "      <td>F1: Superficial</td>\n",
       "      <td>F1: Superficial regenerative</td>\n",
       "      <td>F1: Superficial regenerative</td>\n",
       "      <td>F1: Superficial regenerative</td>\n",
       "      <td>F1: Superficial</td>\n",
       "      <td>Inflammatory without scarring</td>\n",
       "    </tr>\n",
       "    <tr>\n",
       "      <th>...</th>\n",
       "      <td>...</td>\n",
       "      <td>...</td>\n",
       "      <td>...</td>\n",
       "      <td>...</td>\n",
       "      <td>...</td>\n",
       "      <td>...</td>\n",
       "      <td>...</td>\n",
       "      <td>...</td>\n",
       "      <td>...</td>\n",
       "      <td>...</td>\n",
       "      <td>...</td>\n",
       "      <td>...</td>\n",
       "      <td>...</td>\n",
       "      <td>...</td>\n",
       "      <td>...</td>\n",
       "      <td>...</td>\n",
       "      <td>...</td>\n",
       "      <td>...</td>\n",
       "      <td>...</td>\n",
       "      <td>...</td>\n",
       "      <td>...</td>\n",
       "    </tr>\n",
       "    <tr>\n",
       "      <th>TTTGCGCTCGGAGGTA_SKN8090605</th>\n",
       "      <td>SKN8090605</td>\n",
       "      <td>TTTGCGCTCGGAGGTA</td>\n",
       "      <td>Reynolds</td>\n",
       "      <td>Reynolds</td>\n",
       "      <td>Lesional</td>\n",
       "      <td>Psoriasis</td>\n",
       "      <td>SKN8090605</td>\n",
       "      <td>Lower_back</td>\n",
       "      <td>Reyn_missing</td>\n",
       "      <td>Missing</td>\n",
       "      <td>...</td>\n",
       "      <td>Inflammatory+\\nlow scarring risk</td>\n",
       "      <td>F1: Secretory</td>\n",
       "      <td>F1: Secretory</td>\n",
       "      <td>F1: Superficial</td>\n",
       "      <td>F1: Superficial</td>\n",
       "      <td>F1: Superficial</td>\n",
       "      <td>F1: Superficial</td>\n",
       "      <td>F1: Superficial</td>\n",
       "      <td>F1: Superficial</td>\n",
       "      <td>Inflammatory without scarring</td>\n",
       "    </tr>\n",
       "    <tr>\n",
       "      <th>TTTGGTTTCTTCAACT_SKN8090605</th>\n",
       "      <td>SKN8090605</td>\n",
       "      <td>TTTGGTTTCTTCAACT</td>\n",
       "      <td>Reynolds</td>\n",
       "      <td>Reynolds</td>\n",
       "      <td>Lesional</td>\n",
       "      <td>Psoriasis</td>\n",
       "      <td>SKN8090605</td>\n",
       "      <td>Lower_back</td>\n",
       "      <td>Reyn_missing</td>\n",
       "      <td>Missing</td>\n",
       "      <td>...</td>\n",
       "      <td>Inflammatory+\\nlow scarring risk</td>\n",
       "      <td>F2: Bridge</td>\n",
       "      <td>F2: Bridge</td>\n",
       "      <td>F2/3: Perivascular</td>\n",
       "      <td>F2/3: Perivascular</td>\n",
       "      <td>F2/3: Bridge</td>\n",
       "      <td>F2/3: Bridge</td>\n",
       "      <td>F2/3: Bridge</td>\n",
       "      <td>F2/3: Perivascular</td>\n",
       "      <td>Inflammatory without scarring</td>\n",
       "    </tr>\n",
       "    <tr>\n",
       "      <th>TTTGTCAAGTACGACG_SKN8090605</th>\n",
       "      <td>SKN8090605</td>\n",
       "      <td>TTTGTCAAGTACGACG</td>\n",
       "      <td>Reynolds</td>\n",
       "      <td>Reynolds</td>\n",
       "      <td>Lesional</td>\n",
       "      <td>Psoriasis</td>\n",
       "      <td>SKN8090605</td>\n",
       "      <td>Lower_back</td>\n",
       "      <td>Reyn_missing</td>\n",
       "      <td>Missing</td>\n",
       "      <td>...</td>\n",
       "      <td>Inflammatory+\\nlow scarring risk</td>\n",
       "      <td>F1: Secretory activated</td>\n",
       "      <td>F1: Secretory activated</td>\n",
       "      <td>F1: Superficial</td>\n",
       "      <td>F1: Superficial</td>\n",
       "      <td>F1: Superficial regenerative</td>\n",
       "      <td>F1: Superficial regenerative</td>\n",
       "      <td>F1: Superficial regenerative</td>\n",
       "      <td>F1: Superficial</td>\n",
       "      <td>Inflammatory without scarring</td>\n",
       "    </tr>\n",
       "    <tr>\n",
       "      <th>TTTGTCACACGAAAGC_SKN8090605</th>\n",
       "      <td>SKN8090605</td>\n",
       "      <td>TTTGTCACACGAAAGC</td>\n",
       "      <td>Reynolds</td>\n",
       "      <td>Reynolds</td>\n",
       "      <td>Lesional</td>\n",
       "      <td>Psoriasis</td>\n",
       "      <td>SKN8090605</td>\n",
       "      <td>Lower_back</td>\n",
       "      <td>Reyn_missing</td>\n",
       "      <td>Missing</td>\n",
       "      <td>...</td>\n",
       "      <td>Inflammatory+\\nlow scarring risk</td>\n",
       "      <td>F3: CCL19+</td>\n",
       "      <td>F3: CCL19+</td>\n",
       "      <td>F3: FRC-like</td>\n",
       "      <td>F3: FRC-like</td>\n",
       "      <td>F3: CCL19+</td>\n",
       "      <td>F3: CCL19+</td>\n",
       "      <td>F3: CCL19+</td>\n",
       "      <td>F3: FRC-like</td>\n",
       "      <td>Inflammatory without scarring</td>\n",
       "    </tr>\n",
       "    <tr>\n",
       "      <th>TTTGTCATCGAACTGT_SKN8090605</th>\n",
       "      <td>SKN8090605</td>\n",
       "      <td>TTTGTCATCGAACTGT</td>\n",
       "      <td>Reynolds</td>\n",
       "      <td>Reynolds</td>\n",
       "      <td>Lesional</td>\n",
       "      <td>Psoriasis</td>\n",
       "      <td>SKN8090605</td>\n",
       "      <td>Lower_back</td>\n",
       "      <td>Reyn_missing</td>\n",
       "      <td>Missing</td>\n",
       "      <td>...</td>\n",
       "      <td>Inflammatory+\\nlow scarring risk</td>\n",
       "      <td>F2: Universal (reticular)</td>\n",
       "      <td>F2: Universal (reticular)</td>\n",
       "      <td>F2: Universal</td>\n",
       "      <td>F2: Universal</td>\n",
       "      <td>F2: Universal</td>\n",
       "      <td>F2: Universal</td>\n",
       "      <td>F2: Universal</td>\n",
       "      <td>F2: Universal</td>\n",
       "      <td>Inflammatory without scarring</td>\n",
       "    </tr>\n",
       "  </tbody>\n",
       "</table>\n",
       "<p>190756 rows × 63 columns</p>\n",
       "</div>"
      ],
      "text/plain": [
       "                              sample_id           barcode  \\\n",
       "CACCTTGCACAGACAG_GSM7157930  GSM7157930  CACCTTGCACAGACAG   \n",
       "GGGCATCTCAGCATGT_GSM7157930  GSM7157930  GGGCATCTCAGCATGT   \n",
       "CTACATTGTCTCATCC_GSM7157930  GSM7157930  CTACATTGTCTCATCC   \n",
       "CTGATAGGTCCTGCTT_GSM7157930  GSM7157930  CTGATAGGTCCTGCTT   \n",
       "GTGTGCGAGTAGCGGT_GSM7157930  GSM7157930  GTGTGCGAGTAGCGGT   \n",
       "...                                 ...               ...   \n",
       "TTTGCGCTCGGAGGTA_SKN8090605  SKN8090605  TTTGCGCTCGGAGGTA   \n",
       "TTTGGTTTCTTCAACT_SKN8090605  SKN8090605  TTTGGTTTCTTCAACT   \n",
       "TTTGTCAAGTACGACG_SKN8090605  SKN8090605  TTTGTCAAGTACGACG   \n",
       "TTTGTCACACGAAAGC_SKN8090605  SKN8090605  TTTGTCACACGAAAGC   \n",
       "TTTGTCATCGAACTGT_SKN8090605  SKN8090605  TTTGTCATCGAACTGT   \n",
       "\n",
       "                                        dataset_id        GSE Site_status  \\\n",
       "CACCTTGCACAGACAG_GSM7157930  ImmunotherapyReaction  GSE229279    Lesional   \n",
       "GGGCATCTCAGCATGT_GSM7157930  ImmunotherapyReaction  GSE229279    Lesional   \n",
       "CTACATTGTCTCATCC_GSM7157930  ImmunotherapyReaction  GSE229279    Lesional   \n",
       "CTGATAGGTCCTGCTT_GSM7157930  ImmunotherapyReaction  GSE229279    Lesional   \n",
       "GTGTGCGAGTAGCGGT_GSM7157930  ImmunotherapyReaction  GSE229279    Lesional   \n",
       "...                                            ...        ...         ...   \n",
       "TTTGCGCTCGGAGGTA_SKN8090605               Reynolds   Reynolds    Lesional   \n",
       "TTTGGTTTCTTCAACT_SKN8090605               Reynolds   Reynolds    Lesional   \n",
       "TTTGTCAAGTACGACG_SKN8090605               Reynolds   Reynolds    Lesional   \n",
       "TTTGTCACACGAAAGC_SKN8090605               Reynolds   Reynolds    Lesional   \n",
       "TTTGTCATCGAACTGT_SKN8090605               Reynolds   Reynolds    Lesional   \n",
       "\n",
       "                                  Patient_status     DonorID    Location  \\\n",
       "CACCTTGCACAGACAG_GSM7157930  Drug reaction: irAE  GSM7157930  GSM7157930   \n",
       "GGGCATCTCAGCATGT_GSM7157930  Drug reaction: irAE  GSM7157930  GSM7157930   \n",
       "CTACATTGTCTCATCC_GSM7157930  Drug reaction: irAE  GSM7157930  GSM7157930   \n",
       "CTGATAGGTCCTGCTT_GSM7157930  Drug reaction: irAE  GSM7157930  GSM7157930   \n",
       "GTGTGCGAGTAGCGGT_GSM7157930  Drug reaction: irAE  GSM7157930  GSM7157930   \n",
       "...                                          ...         ...         ...   \n",
       "TTTGCGCTCGGAGGTA_SKN8090605            Psoriasis  SKN8090605  Lower_back   \n",
       "TTTGGTTTCTTCAACT_SKN8090605            Psoriasis  SKN8090605  Lower_back   \n",
       "TTTGTCAAGTACGACG_SKN8090605            Psoriasis  SKN8090605  Lower_back   \n",
       "TTTGTCACACGAAAGC_SKN8090605            Psoriasis  SKN8090605  Lower_back   \n",
       "TTTGTCATCGAACTGT_SKN8090605            Psoriasis  SKN8090605  Lower_back   \n",
       "\n",
       "                                      Age      Sex  ...  \\\n",
       "CACCTTGCACAGACAG_GSM7157930         40-64   Female  ...   \n",
       "GGGCATCTCAGCATGT_GSM7157930         40-64   Female  ...   \n",
       "CTACATTGTCTCATCC_GSM7157930         40-64   Female  ...   \n",
       "CTGATAGGTCCTGCTT_GSM7157930         40-64   Female  ...   \n",
       "GTGTGCGAGTAGCGGT_GSM7157930         40-64   Female  ...   \n",
       "...                                   ...      ...  ...   \n",
       "TTTGCGCTCGGAGGTA_SKN8090605  Reyn_missing  Missing  ...   \n",
       "TTTGGTTTCTTCAACT_SKN8090605  Reyn_missing  Missing  ...   \n",
       "TTTGTCAAGTACGACG_SKN8090605  Reyn_missing  Missing  ...   \n",
       "TTTGTCACACGAAAGC_SKN8090605  Reyn_missing  Missing  ...   \n",
       "TTTGTCATCGAACTGT_SKN8090605  Reyn_missing  Missing  ...   \n",
       "\n",
       "                                             disease_category  \\\n",
       "CACCTTGCACAGACAG_GSM7157930  Inflammatory+\\nlow scarring risk   \n",
       "GGGCATCTCAGCATGT_GSM7157930  Inflammatory+\\nlow scarring risk   \n",
       "CTACATTGTCTCATCC_GSM7157930  Inflammatory+\\nlow scarring risk   \n",
       "CTGATAGGTCCTGCTT_GSM7157930  Inflammatory+\\nlow scarring risk   \n",
       "GTGTGCGAGTAGCGGT_GSM7157930  Inflammatory+\\nlow scarring risk   \n",
       "...                                                       ...   \n",
       "TTTGCGCTCGGAGGTA_SKN8090605  Inflammatory+\\nlow scarring risk   \n",
       "TTTGGTTTCTTCAACT_SKN8090605  Inflammatory+\\nlow scarring risk   \n",
       "TTTGTCAAGTACGACG_SKN8090605  Inflammatory+\\nlow scarring risk   \n",
       "TTTGTCACACGAAAGC_SKN8090605  Inflammatory+\\nlow scarring risk   \n",
       "TTTGTCATCGAACTGT_SKN8090605  Inflammatory+\\nlow scarring risk   \n",
       "\n",
       "                                                 macfb  \\\n",
       "CACCTTGCACAGACAG_GSM7157930              F1: Secretory   \n",
       "GGGCATCTCAGCATGT_GSM7157930    F1: Secretory activated   \n",
       "CTACATTGTCTCATCC_GSM7157930            F7: Fascia-like   \n",
       "CTGATAGGTCCTGCTT_GSM7157930  F2: Universal (reticular)   \n",
       "GTGTGCGAGTAGCGGT_GSM7157930    F1: Secretory activated   \n",
       "...                                                ...   \n",
       "TTTGCGCTCGGAGGTA_SKN8090605              F1: Secretory   \n",
       "TTTGGTTTCTTCAACT_SKN8090605                 F2: Bridge   \n",
       "TTTGTCAAGTACGACG_SKN8090605    F1: Secretory activated   \n",
       "TTTGTCACACGAAAGC_SKN8090605                 F3: CCL19+   \n",
       "TTTGTCATCGAACTGT_SKN8090605  F2: Universal (reticular)   \n",
       "\n",
       "                                                macfb2  \\\n",
       "CACCTTGCACAGACAG_GSM7157930              F1: Secretory   \n",
       "GGGCATCTCAGCATGT_GSM7157930    F1: Secretory activated   \n",
       "CTACATTGTCTCATCC_GSM7157930            F7: Fascia-like   \n",
       "CTGATAGGTCCTGCTT_GSM7157930  F2: Universal (reticular)   \n",
       "GTGTGCGAGTAGCGGT_GSM7157930    F1: Secretory activated   \n",
       "...                                                ...   \n",
       "TTTGCGCTCGGAGGTA_SKN8090605              F1: Secretory   \n",
       "TTTGGTTTCTTCAACT_SKN8090605                 F2: Bridge   \n",
       "TTTGTCAAGTACGACG_SKN8090605    F1: Secretory activated   \n",
       "TTTGTCACACGAAAGC_SKN8090605                 F3: CCL19+   \n",
       "TTTGTCATCGAACTGT_SKN8090605  F2: Universal (reticular)   \n",
       "\n",
       "                                                    test12  \\\n",
       "CACCTTGCACAGACAG_GSM7157930                F1: Superficial   \n",
       "GGGCATCTCAGCATGT_GSM7157930                F1: Superficial   \n",
       "CTACATTGTCTCATCC_GSM7157930  F8: Fascia-like myofibroblast   \n",
       "CTGATAGGTCCTGCTT_GSM7157930                  F2: Universal   \n",
       "GTGTGCGAGTAGCGGT_GSM7157930                F1: Superficial   \n",
       "...                                                    ...   \n",
       "TTTGCGCTCGGAGGTA_SKN8090605                F1: Superficial   \n",
       "TTTGGTTTCTTCAACT_SKN8090605             F2/3: Perivascular   \n",
       "TTTGTCAAGTACGACG_SKN8090605                F1: Superficial   \n",
       "TTTGTCACACGAAAGC_SKN8090605                   F3: FRC-like   \n",
       "TTTGTCATCGAACTGT_SKN8090605                  F2: Universal   \n",
       "\n",
       "                                                    test13  \\\n",
       "CACCTTGCACAGACAG_GSM7157930                F1: Superficial   \n",
       "GGGCATCTCAGCATGT_GSM7157930                F1: Superficial   \n",
       "CTACATTGTCTCATCC_GSM7157930  F8: Fascia-like myofibroblast   \n",
       "CTGATAGGTCCTGCTT_GSM7157930                  F2: Universal   \n",
       "GTGTGCGAGTAGCGGT_GSM7157930                F1: Superficial   \n",
       "...                                                    ...   \n",
       "TTTGCGCTCGGAGGTA_SKN8090605                F1: Superficial   \n",
       "TTTGGTTTCTTCAACT_SKN8090605             F2/3: Perivascular   \n",
       "TTTGTCAAGTACGACG_SKN8090605                F1: Superficial   \n",
       "TTTGTCACACGAAAGC_SKN8090605                   F3: FRC-like   \n",
       "TTTGTCATCGAACTGT_SKN8090605                  F2: Universal   \n",
       "\n",
       "                                                    test14  \\\n",
       "CACCTTGCACAGACAG_GSM7157930                F1: Superficial   \n",
       "GGGCATCTCAGCATGT_GSM7157930   F1: Superficial regenerative   \n",
       "CTACATTGTCTCATCC_GSM7157930  F7: Myofibroblast fascia-like   \n",
       "CTGATAGGTCCTGCTT_GSM7157930                  F2: Universal   \n",
       "GTGTGCGAGTAGCGGT_GSM7157930   F1: Superficial regenerative   \n",
       "...                                                    ...   \n",
       "TTTGCGCTCGGAGGTA_SKN8090605                F1: Superficial   \n",
       "TTTGGTTTCTTCAACT_SKN8090605                   F2/3: Bridge   \n",
       "TTTGTCAAGTACGACG_SKN8090605   F1: Superficial regenerative   \n",
       "TTTGTCACACGAAAGC_SKN8090605                     F3: CCL19+   \n",
       "TTTGTCATCGAACTGT_SKN8090605                  F2: Universal   \n",
       "\n",
       "                                                    test15  \\\n",
       "CACCTTGCACAGACAG_GSM7157930                F1: Superficial   \n",
       "GGGCATCTCAGCATGT_GSM7157930   F1: Superficial regenerative   \n",
       "CTACATTGTCTCATCC_GSM7157930  F7: Myofibroblast fascia-like   \n",
       "CTGATAGGTCCTGCTT_GSM7157930                  F2: Universal   \n",
       "GTGTGCGAGTAGCGGT_GSM7157930   F1: Superficial regenerative   \n",
       "...                                                    ...   \n",
       "TTTGCGCTCGGAGGTA_SKN8090605                F1: Superficial   \n",
       "TTTGGTTTCTTCAACT_SKN8090605                   F2/3: Bridge   \n",
       "TTTGTCAAGTACGACG_SKN8090605   F1: Superficial regenerative   \n",
       "TTTGTCACACGAAAGC_SKN8090605                     F3: CCL19+   \n",
       "TTTGTCATCGAACTGT_SKN8090605                  F2: Universal   \n",
       "\n",
       "                                                    test16  \\\n",
       "CACCTTGCACAGACAG_GSM7157930                F1: Superficial   \n",
       "GGGCATCTCAGCATGT_GSM7157930   F1: Superficial regenerative   \n",
       "CTACATTGTCTCATCC_GSM7157930  F7: Myofibroblast fascia-like   \n",
       "CTGATAGGTCCTGCTT_GSM7157930                  F2: Universal   \n",
       "GTGTGCGAGTAGCGGT_GSM7157930   F1: Superficial regenerative   \n",
       "...                                                    ...   \n",
       "TTTGCGCTCGGAGGTA_SKN8090605                F1: Superficial   \n",
       "TTTGGTTTCTTCAACT_SKN8090605                   F2/3: Bridge   \n",
       "TTTGTCAAGTACGACG_SKN8090605   F1: Superficial regenerative   \n",
       "TTTGTCACACGAAAGC_SKN8090605                     F3: CCL19+   \n",
       "TTTGTCATCGAACTGT_SKN8090605                  F2: Universal   \n",
       "\n",
       "                                             test13_simple  \\\n",
       "CACCTTGCACAGACAG_GSM7157930                F1: Superficial   \n",
       "GGGCATCTCAGCATGT_GSM7157930                F1: Superficial   \n",
       "CTACATTGTCTCATCC_GSM7157930  F8: Fascia-like myofibroblast   \n",
       "CTGATAGGTCCTGCTT_GSM7157930                  F2: Universal   \n",
       "GTGTGCGAGTAGCGGT_GSM7157930                F1: Superficial   \n",
       "...                                                    ...   \n",
       "TTTGCGCTCGGAGGTA_SKN8090605                F1: Superficial   \n",
       "TTTGGTTTCTTCAACT_SKN8090605             F2/3: Perivascular   \n",
       "TTTGTCAAGTACGACG_SKN8090605                F1: Superficial   \n",
       "TTTGTCACACGAAAGC_SKN8090605                   F3: FRC-like   \n",
       "TTTGTCATCGAACTGT_SKN8090605                  F2: Universal   \n",
       "\n",
       "                                     disease_category_orig  \n",
       "CACCTTGCACAGACAG_GSM7157930  Inflammatory without scarring  \n",
       "GGGCATCTCAGCATGT_GSM7157930  Inflammatory without scarring  \n",
       "CTACATTGTCTCATCC_GSM7157930  Inflammatory without scarring  \n",
       "CTGATAGGTCCTGCTT_GSM7157930  Inflammatory without scarring  \n",
       "GTGTGCGAGTAGCGGT_GSM7157930  Inflammatory without scarring  \n",
       "...                                                    ...  \n",
       "TTTGCGCTCGGAGGTA_SKN8090605  Inflammatory without scarring  \n",
       "TTTGGTTTCTTCAACT_SKN8090605  Inflammatory without scarring  \n",
       "TTTGTCAAGTACGACG_SKN8090605  Inflammatory without scarring  \n",
       "TTTGTCACACGAAAGC_SKN8090605  Inflammatory without scarring  \n",
       "TTTGTCATCGAACTGT_SKN8090605  Inflammatory without scarring  \n",
       "\n",
       "[190756 rows x 63 columns]"
      ]
     },
     "execution_count": 10,
     "metadata": {},
     "output_type": "execute_result"
    }
   ],
   "source": [
    "adata.obs"
   ]
  },
  {
   "cell_type": "code",
   "execution_count": 11,
   "id": "absent-curtis",
   "metadata": {},
   "outputs": [],
   "source": [
    "# FILE='GSE229279'\n",
    "# SAMPLE='GSM7157925'\n",
    "# adata_i = starsolo_velocity_anndata('/nfs/team298/ls34/reprocess_public_10x/' + FILE + \"/\"+ SAMPLE +  '/output/Velocyto/filtered')\n"
   ]
  },
  {
   "cell_type": "code",
   "execution_count": 12,
   "id": "allied-saint",
   "metadata": {},
   "outputs": [],
   "source": [
    "# shared_barcodes = adata_i.obs[\"barcode\"].isin(adata.obs[\"barcode\"])\n",
    "# shared_barcodes"
   ]
  },
  {
   "cell_type": "code",
   "execution_count": 13,
   "id": "substantial-casting",
   "metadata": {},
   "outputs": [],
   "source": [
    "# adata_i.obs"
   ]
  },
  {
   "cell_type": "code",
   "execution_count": 14,
   "id": "placed-rates",
   "metadata": {},
   "outputs": [
    {
     "data": {
      "text/plain": [
       "138"
      ]
     },
     "execution_count": 14,
     "metadata": {},
     "output_type": "execute_result"
    }
   ],
   "source": [
    "del(adata)\n",
    "gc.collect()"
   ]
  },
  {
   "cell_type": "code",
   "execution_count": 3,
   "id": "greatest-territory",
   "metadata": {},
   "outputs": [],
   "source": [
    "adata_dict={}\n",
    "#i=3\n",
    "for FILE in os.listdir('/nfs/team298/ls34/reprocess_public_10x/'):\n",
    "    print(FILE)\n",
    "    print()\n",
    "    try:\n",
    "        NEW_PATH = '/nfs/team298/ls34/reprocess_public_10x/' + FILE \n",
    "        SAMPLE_LIST = os.listdir(NEW_PATH)\n",
    "    except:\n",
    "        if \"log\" not in FILE:\n",
    "            print(\"fail with\", FILE)\n",
    "        else:\n",
    "            print(FILE, \"Fail, not log\")\n",
    "        continue\n",
    "    for SAMPLE in SAMPLE_LIST:\n",
    "        if SAMPLE.startswith(\"GSM\"):\n",
    "            #print(SAMPLE)\n",
    "            print(FILE, SAMPLE)\n",
    "            #NEW_PATH = + '/output/Velocyto/filtered'\n",
    "            #print(os.listdir('/nfs/team298/ls34/reprocess_public_10x/' + FILE + \"/\"+ SAMPLE ))\n",
    "            #print()\n",
    "            try:\n",
    "                adata_i = starsolo_velocity_anndata('/nfs/team298/ls34/reprocess_public_10x/' + FILE + \"/\"+ SAMPLE +  '/output/Velocyto/filtered')\n",
    "                #print(adata_i.shape)\n",
    "                adata_i.obs[\"DonorID\"]=SAMPLE\n",
    "                adata_i.obs[\"barcode\"]=adata_i.obs.index\n",
    "                adata_i.obs.index=adata_i.obs[\"barcode\"].astype(str) +\"_\" + SAMPLE\n",
    "                #print(adata_i.obs)\n",
    "                #shared_barcodes = adata_i.obs[\"barcode\"].isin(adata.obs[\"barcode\"])\n",
    "                mask = adata_i.obs[\"barcode\"].isin(BARCODES)\n",
    "                #mask = adata_i.obs.index.isin(adata.obs.index)\n",
    "                adata_i = adata_i[mask].copy()                \n",
    "                adata_dict[SAMPLE]=adata_i\n",
    "                print(adata_i.shape)\n",
    "                del(adata_i)\n",
    "                gc.collect()\n",
    "            except:\n",
    "                1\n",
    "       \n",
    "\n"
   ]
  },
  {
   "cell_type": "code",
   "execution_count": 21,
   "id": "rapid-listening",
   "metadata": {},
   "outputs": [],
   "source": [
    "# adata_dict"
   ]
  },
  {
   "cell_type": "code",
   "execution_count": 17,
   "id": "academic-hours",
   "metadata": {},
   "outputs": [],
   "source": [
    "ldata = ad.concat(adata_dict.values(), join='outer') # label='sample_id', keys=list(adata_dict.keys()))\n"
   ]
  },
  {
   "cell_type": "code",
   "execution_count": 18,
   "id": "efficient-panama",
   "metadata": {},
   "outputs": [
    {
     "data": {
      "text/plain": [
       "AnnData object with n_obs × n_vars = 257034 × 36601\n",
       "    obs: 'DonorID', 'barcode'\n",
       "    layers: 'spliced', 'ambiguous', 'unspliced'"
      ]
     },
     "execution_count": 18,
     "metadata": {},
     "output_type": "execute_result"
    }
   ],
   "source": [
    "ldata#.obs[\"barcode\"]=ldata.obs.index"
   ]
  },
  {
   "cell_type": "code",
   "execution_count": 23,
   "id": "whole-significance",
   "metadata": {},
   "outputs": [],
   "source": [
    "del(ldata.obs[\"barcode\"])"
   ]
  },
  {
   "cell_type": "code",
   "execution_count": 24,
   "id": "conservative-ghost",
   "metadata": {},
   "outputs": [],
   "source": [
    "ldata.write('/nfs/team298/ls34/disease_atlas/final_fb_adatas/ldata_fbs.h5ad')"
   ]
  },
  {
   "cell_type": "code",
   "execution_count": null,
   "id": "valued-activation",
   "metadata": {},
   "outputs": [],
   "source": [
    "0"
   ]
  },
  {
   "cell_type": "markdown",
   "id": "indie-brick",
   "metadata": {},
   "source": [
    "# MERGE"
   ]
  },
  {
   "cell_type": "code",
   "execution_count": 27,
   "id": "tough-liberia",
   "metadata": {},
   "outputs": [
    {
     "data": {
      "text/plain": [
       "2827"
      ]
     },
     "execution_count": 27,
     "metadata": {},
     "output_type": "execute_result"
    }
   ],
   "source": [
    "del(adata_dict)\n",
    "#del(adata_i)\n",
    "gc.collect()"
   ]
  },
  {
   "cell_type": "code",
   "execution_count": null,
   "id": "national-booking",
   "metadata": {},
   "outputs": [],
   "source": [
    "STOP"
   ]
  },
  {
   "cell_type": "code",
   "execution_count": 1,
   "id": "terminal-fiction",
   "metadata": {},
   "outputs": [],
   "source": [
    "# import scanpy as sc\n",
    "# import scvelo as scv\n",
    "# ldata_subset=sc.read_h5ad('/nfs/team298/ls34/disease_atlas/final_fb_adatas/ldata_fbs.h5ad')\n",
    "# scv.utils.clean_obs_names(ldata_subset)\n",
    "#sc.pp.filter_genes(ldata_subset, min_counts=50)\n",
    "\n",
    "# ldata_subset.write('/nfs/team298/ls34/disease_atlas/final_fb_adatas/ldata_fbs.h5ad.cleaned')\n"
   ]
  },
  {
   "cell_type": "code",
   "execution_count": 1,
   "id": "interested-theory",
   "metadata": {},
   "outputs": [
    {
     "data": {
      "text/plain": [
       "(257034, 21801)"
      ]
     },
     "execution_count": 1,
     "metadata": {},
     "output_type": "execute_result"
    }
   ],
   "source": [
    "import scanpy as sc\n",
    "import scvelo as scv\n",
    "ldata_subset=sc.read_h5ad('/nfs/team298/ls34/disease_atlas/final_fb_adatas/ldata_fbs.h5ad.cleaned')\n",
    "ldata_subset.shape"
   ]
  },
  {
   "cell_type": "code",
   "execution_count": 2,
   "id": "academic-arabic",
   "metadata": {},
   "outputs": [],
   "source": [
    "# sc.pp.filter_genes(ldata_subset, min_counts=100)\n",
    "# ldata_subset.shape"
   ]
  },
  {
   "cell_type": "code",
   "execution_count": 3,
   "id": "checked-rapid",
   "metadata": {},
   "outputs": [],
   "source": [
    "# ldata_subset.write('/nfs/team298/ls34/disease_atlas/final_fb_adatas/ldata_fbs.h5ad.cleaned')\n",
    "# ldata_subset.shape\n"
   ]
  },
  {
   "cell_type": "code",
   "execution_count": 2,
   "id": "understanding-coach",
   "metadata": {},
   "outputs": [
    {
     "data": {
      "text/plain": [
       "149"
      ]
     },
     "execution_count": 2,
     "metadata": {},
     "output_type": "execute_result"
    }
   ],
   "source": [
    "sc.pp.subsample(ldata_subset, 0.5)\n",
    "import gc \n",
    "gc.collect()\n"
   ]
  },
  {
   "cell_type": "code",
   "execution_count": 4,
   "id": "interesting-twenty",
   "metadata": {},
   "outputs": [
    {
     "data": {
      "text/plain": [
       "DonorID\n",
       "GSM5494685    3135\n",
       "GSM5494687    3028\n",
       "GSM5494686    2408\n",
       "GSM4970433    2199\n",
       "GSM5494438    2131\n",
       "              ... \n",
       "GSM7157927     103\n",
       "GSM6532926     103\n",
       "GSM7074874     102\n",
       "GSM6532924     100\n",
       "GSM5352395     100\n",
       "Name: count, Length: 292, dtype: int64"
      ]
     },
     "execution_count": 4,
     "metadata": {},
     "output_type": "execute_result"
    }
   ],
   "source": [
    "# 1) Count cells per sample\n",
    "counts = ldata_subset.obs['DonorID'].value_counts()\n",
    "\n",
    "# 2) Identify samples with fewer than 100 cells\n",
    "small = counts[counts < 100].index.tolist()\n",
    "\n",
    "# 3) Keep only cells whose sample_id is NOT in that small‐sample list\n",
    "mask = ~ldata_subset.obs['DonorID'].isin(small)\n",
    "ldata_subset = ldata_subset[mask].copy()\n",
    "\n",
    "ldata_subset.obs.DonorID.value_counts()"
   ]
  },
  {
   "cell_type": "code",
   "execution_count": null,
   "id": "heated-guide",
   "metadata": {},
   "outputs": [],
   "source": [
    "# sc.pp.highly_variable_genes(ldata_subset, \n",
    "#                             #min_mean=0.0125, \n",
    "#                           #  max_mean=3, \n",
    "#                           #  min_disp=0.5,\n",
    "#                             batch_key=\"DonorID\", \n",
    "#                             n_top_genes=10_000)\n"
   ]
  },
  {
   "cell_type": "code",
   "execution_count": 5,
   "id": "stable-trash",
   "metadata": {},
   "outputs": [
    {
     "data": {
      "text/plain": [
       "844"
      ]
     },
     "execution_count": 5,
     "metadata": {},
     "output_type": "execute_result"
    }
   ],
   "source": [
    "import gc\n",
    "gc.collect()"
   ]
  },
  {
   "cell_type": "code",
   "execution_count": 6,
   "id": "valued-dealing",
   "metadata": {},
   "outputs": [
    {
     "data": {
      "text/plain": [
       "AnnData object with n_obs × n_vars = 117943 × 21801\n",
       "    obs: 'DonorID', 'sample_batch'\n",
       "    var: 'n_counts'\n",
       "    layers: 'ambiguous', 'spliced', 'unspliced'"
      ]
     },
     "execution_count": 6,
     "metadata": {},
     "output_type": "execute_result"
    }
   ],
   "source": [
    "ldata_subset"
   ]
  },
  {
   "cell_type": "code",
   "execution_count": 5,
   "id": "forty-wallace",
   "metadata": {},
   "outputs": [],
   "source": [
    "# adata_5k.write('/nfs/team361/ls34/data/adata_5k_latestlabels.h5ad')"
   ]
  },
  {
   "cell_type": "code",
   "execution_count": 3,
   "id": "resistant-mitchell",
   "metadata": {},
   "outputs": [
    {
     "ename": "FileNotFoundError",
     "evalue": "[Errno 2] Unable to synchronously create file (unable to open file: name = '/nfs/team391/ls34/data/adata_5k_latestlabels.h5ad', errno = 2, error message = 'No such file or directory', flags = 13, o_flags = 242)",
     "output_type": "error",
     "traceback": [
      "\u001b[0;31m---------------------------------------------------------------------------\u001b[0m",
      "\u001b[0;31mFileNotFoundError\u001b[0m                         Traceback (most recent call last)",
      "Input \u001b[0;32mIn [3]\u001b[0m, in \u001b[0;36m<cell line: 3>\u001b[0;34m()\u001b[0m\n\u001b[1;32m      1\u001b[0m \u001b[38;5;28;01mimport\u001b[39;00m \u001b[38;5;21;01mscanpy\u001b[39;00m \u001b[38;5;28;01mas\u001b[39;00m \u001b[38;5;21;01msc\u001b[39;00m\n\u001b[1;32m      2\u001b[0m adata_5k \u001b[38;5;241m=\u001b[39m sc\u001b[38;5;241m.\u001b[39mread_h5ad(\u001b[38;5;124m'\u001b[39m\u001b[38;5;124m/nfs/team298/ls34/shared_adatas/adata_5k_latestlabels_29may.h5ad\u001b[39m\u001b[38;5;124m'\u001b[39m)\n\u001b[0;32m----> 3\u001b[0m \u001b[43madata_5k\u001b[49m\u001b[38;5;241;43m.\u001b[39;49m\u001b[43mwrite\u001b[49m\u001b[43m(\u001b[49m\u001b[38;5;124;43m'\u001b[39;49m\u001b[38;5;124;43m/nfs/team391/ls34/data/adata_5k_latestlabels.h5ad\u001b[39;49m\u001b[38;5;124;43m'\u001b[39;49m\u001b[43m)\u001b[49m\n",
      "File \u001b[0;32m~/my-conda-envs/sko_ls/lib/python3.10/site-packages/anndata/_core/anndata.py:1929\u001b[0m, in \u001b[0;36mAnnData.write_h5ad\u001b[0;34m(self, filename, compression, compression_opts, as_dense)\u001b[0m\n\u001b[1;32m   1926\u001b[0m \u001b[38;5;28;01mif\u001b[39;00m filename \u001b[38;5;129;01mis\u001b[39;00m \u001b[38;5;28;01mNone\u001b[39;00m:\n\u001b[1;32m   1927\u001b[0m     filename \u001b[38;5;241m=\u001b[39m \u001b[38;5;28mself\u001b[39m\u001b[38;5;241m.\u001b[39mfilename\n\u001b[0;32m-> 1929\u001b[0m \u001b[43mwrite_h5ad\u001b[49m\u001b[43m(\u001b[49m\n\u001b[1;32m   1930\u001b[0m \u001b[43m    \u001b[49m\u001b[43mPath\u001b[49m\u001b[43m(\u001b[49m\u001b[43mfilename\u001b[49m\u001b[43m)\u001b[49m\u001b[43m,\u001b[49m\n\u001b[1;32m   1931\u001b[0m \u001b[43m    \u001b[49m\u001b[38;5;28;43mself\u001b[39;49m\u001b[43m,\u001b[49m\n\u001b[1;32m   1932\u001b[0m \u001b[43m    \u001b[49m\u001b[43mcompression\u001b[49m\u001b[38;5;241;43m=\u001b[39;49m\u001b[43mcompression\u001b[49m\u001b[43m,\u001b[49m\n\u001b[1;32m   1933\u001b[0m \u001b[43m    \u001b[49m\u001b[43mcompression_opts\u001b[49m\u001b[38;5;241;43m=\u001b[39;49m\u001b[43mcompression_opts\u001b[49m\u001b[43m,\u001b[49m\n\u001b[1;32m   1934\u001b[0m \u001b[43m    \u001b[49m\u001b[43mas_dense\u001b[49m\u001b[38;5;241;43m=\u001b[39;49m\u001b[43mas_dense\u001b[49m\u001b[43m,\u001b[49m\n\u001b[1;32m   1935\u001b[0m \u001b[43m\u001b[49m\u001b[43m)\u001b[49m\n\u001b[1;32m   1937\u001b[0m \u001b[38;5;28;01mif\u001b[39;00m \u001b[38;5;28mself\u001b[39m\u001b[38;5;241m.\u001b[39misbacked:\n\u001b[1;32m   1938\u001b[0m     \u001b[38;5;28mself\u001b[39m\u001b[38;5;241m.\u001b[39mfile\u001b[38;5;241m.\u001b[39mfilename \u001b[38;5;241m=\u001b[39m filename\n",
      "File \u001b[0;32m~/my-conda-envs/sko_ls/lib/python3.10/site-packages/anndata/_io/h5ad.py:77\u001b[0m, in \u001b[0;36mwrite_h5ad\u001b[0;34m(filepath, adata, as_dense, dataset_kwargs, **kwargs)\u001b[0m\n\u001b[1;32m     74\u001b[0m \u001b[38;5;28;01mif\u001b[39;00m adata\u001b[38;5;241m.\u001b[39misbacked:  \u001b[38;5;66;03m# close so that we can reopen below\u001b[39;00m\n\u001b[1;32m     75\u001b[0m     adata\u001b[38;5;241m.\u001b[39mfile\u001b[38;5;241m.\u001b[39mclose()\n\u001b[0;32m---> 77\u001b[0m \u001b[38;5;28;01mwith\u001b[39;00m \u001b[43mh5py\u001b[49m\u001b[38;5;241;43m.\u001b[39;49m\u001b[43mFile\u001b[49m\u001b[43m(\u001b[49m\u001b[43mfilepath\u001b[49m\u001b[43m,\u001b[49m\u001b[43m \u001b[49m\u001b[43mmode\u001b[49m\u001b[43m)\u001b[49m \u001b[38;5;28;01mas\u001b[39;00m f:\n\u001b[1;32m     78\u001b[0m     \u001b[38;5;66;03m# TODO: Use spec writing system for this\u001b[39;00m\n\u001b[1;32m     79\u001b[0m     \u001b[38;5;66;03m# Currently can't use write_dispatched here because this function is also called to do an\u001b[39;00m\n\u001b[1;32m     80\u001b[0m     \u001b[38;5;66;03m# inplace update of a backed object, which would delete \"/\"\u001b[39;00m\n\u001b[1;32m     81\u001b[0m     f \u001b[38;5;241m=\u001b[39m f[\u001b[38;5;124m\"\u001b[39m\u001b[38;5;124m/\u001b[39m\u001b[38;5;124m\"\u001b[39m]\n\u001b[1;32m     82\u001b[0m     f\u001b[38;5;241m.\u001b[39mattrs\u001b[38;5;241m.\u001b[39msetdefault(\u001b[38;5;124m\"\u001b[39m\u001b[38;5;124mencoding-type\u001b[39m\u001b[38;5;124m\"\u001b[39m, \u001b[38;5;124m\"\u001b[39m\u001b[38;5;124manndata\u001b[39m\u001b[38;5;124m\"\u001b[39m)\n",
      "File \u001b[0;32m~/my-conda-envs/sko_ls/lib/python3.10/site-packages/h5py/_hl/files.py:567\u001b[0m, in \u001b[0;36mFile.__init__\u001b[0;34m(self, name, mode, driver, libver, userblock_size, swmr, rdcc_nslots, rdcc_nbytes, rdcc_w0, track_order, fs_strategy, fs_persist, fs_threshold, fs_page_size, page_buf_size, min_meta_keep, min_raw_keep, locking, alignment_threshold, alignment_interval, meta_block_size, **kwds)\u001b[0m\n\u001b[1;32m    558\u001b[0m     fapl \u001b[38;5;241m=\u001b[39m make_fapl(driver, libver, rdcc_nslots, rdcc_nbytes, rdcc_w0,\n\u001b[1;32m    559\u001b[0m                      locking, page_buf_size, min_meta_keep, min_raw_keep,\n\u001b[1;32m    560\u001b[0m                      alignment_threshold\u001b[38;5;241m=\u001b[39malignment_threshold,\n\u001b[1;32m    561\u001b[0m                      alignment_interval\u001b[38;5;241m=\u001b[39malignment_interval,\n\u001b[1;32m    562\u001b[0m                      meta_block_size\u001b[38;5;241m=\u001b[39mmeta_block_size,\n\u001b[1;32m    563\u001b[0m                      \u001b[38;5;241m*\u001b[39m\u001b[38;5;241m*\u001b[39mkwds)\n\u001b[1;32m    564\u001b[0m     fcpl \u001b[38;5;241m=\u001b[39m make_fcpl(track_order\u001b[38;5;241m=\u001b[39mtrack_order, fs_strategy\u001b[38;5;241m=\u001b[39mfs_strategy,\n\u001b[1;32m    565\u001b[0m                      fs_persist\u001b[38;5;241m=\u001b[39mfs_persist, fs_threshold\u001b[38;5;241m=\u001b[39mfs_threshold,\n\u001b[1;32m    566\u001b[0m                      fs_page_size\u001b[38;5;241m=\u001b[39mfs_page_size)\n\u001b[0;32m--> 567\u001b[0m     fid \u001b[38;5;241m=\u001b[39m \u001b[43mmake_fid\u001b[49m\u001b[43m(\u001b[49m\u001b[43mname\u001b[49m\u001b[43m,\u001b[49m\u001b[43m \u001b[49m\u001b[43mmode\u001b[49m\u001b[43m,\u001b[49m\u001b[43m \u001b[49m\u001b[43muserblock_size\u001b[49m\u001b[43m,\u001b[49m\u001b[43m \u001b[49m\u001b[43mfapl\u001b[49m\u001b[43m,\u001b[49m\u001b[43m \u001b[49m\u001b[43mfcpl\u001b[49m\u001b[43m,\u001b[49m\u001b[43m \u001b[49m\u001b[43mswmr\u001b[49m\u001b[38;5;241;43m=\u001b[39;49m\u001b[43mswmr\u001b[49m\u001b[43m)\u001b[49m\n\u001b[1;32m    569\u001b[0m \u001b[38;5;28;01mif\u001b[39;00m \u001b[38;5;28misinstance\u001b[39m(libver, \u001b[38;5;28mtuple\u001b[39m):\n\u001b[1;32m    570\u001b[0m     \u001b[38;5;28mself\u001b[39m\u001b[38;5;241m.\u001b[39m_libver \u001b[38;5;241m=\u001b[39m libver\n",
      "File \u001b[0;32m~/my-conda-envs/sko_ls/lib/python3.10/site-packages/h5py/_hl/files.py:237\u001b[0m, in \u001b[0;36mmake_fid\u001b[0;34m(name, mode, userblock_size, fapl, fcpl, swmr)\u001b[0m\n\u001b[1;32m    235\u001b[0m     fid \u001b[38;5;241m=\u001b[39m h5f\u001b[38;5;241m.\u001b[39mcreate(name, h5f\u001b[38;5;241m.\u001b[39mACC_EXCL, fapl\u001b[38;5;241m=\u001b[39mfapl, fcpl\u001b[38;5;241m=\u001b[39mfcpl)\n\u001b[1;32m    236\u001b[0m \u001b[38;5;28;01melif\u001b[39;00m mode \u001b[38;5;241m==\u001b[39m \u001b[38;5;124m'\u001b[39m\u001b[38;5;124mw\u001b[39m\u001b[38;5;124m'\u001b[39m:\n\u001b[0;32m--> 237\u001b[0m     fid \u001b[38;5;241m=\u001b[39m \u001b[43mh5f\u001b[49m\u001b[38;5;241;43m.\u001b[39;49m\u001b[43mcreate\u001b[49m\u001b[43m(\u001b[49m\u001b[43mname\u001b[49m\u001b[43m,\u001b[49m\u001b[43m \u001b[49m\u001b[43mh5f\u001b[49m\u001b[38;5;241;43m.\u001b[39;49m\u001b[43mACC_TRUNC\u001b[49m\u001b[43m,\u001b[49m\u001b[43m \u001b[49m\u001b[43mfapl\u001b[49m\u001b[38;5;241;43m=\u001b[39;49m\u001b[43mfapl\u001b[49m\u001b[43m,\u001b[49m\u001b[43m \u001b[49m\u001b[43mfcpl\u001b[49m\u001b[38;5;241;43m=\u001b[39;49m\u001b[43mfcpl\u001b[49m\u001b[43m)\u001b[49m\n\u001b[1;32m    238\u001b[0m \u001b[38;5;28;01melif\u001b[39;00m mode \u001b[38;5;241m==\u001b[39m \u001b[38;5;124m'\u001b[39m\u001b[38;5;124ma\u001b[39m\u001b[38;5;124m'\u001b[39m:\n\u001b[1;32m    239\u001b[0m     \u001b[38;5;66;03m# Open in append mode (read/write).\u001b[39;00m\n\u001b[1;32m    240\u001b[0m     \u001b[38;5;66;03m# If that fails, create a new file only if it won't clobber an\u001b[39;00m\n\u001b[1;32m    241\u001b[0m     \u001b[38;5;66;03m# existing one (ACC_EXCL)\u001b[39;00m\n\u001b[1;32m    242\u001b[0m     \u001b[38;5;28;01mtry\u001b[39;00m:\n",
      "File \u001b[0;32mh5py/_objects.pyx:54\u001b[0m, in \u001b[0;36mh5py._objects.with_phil.wrapper\u001b[0;34m()\u001b[0m\n",
      "File \u001b[0;32mh5py/_objects.pyx:55\u001b[0m, in \u001b[0;36mh5py._objects.with_phil.wrapper\u001b[0;34m()\u001b[0m\n",
      "File \u001b[0;32mh5py/h5f.pyx:126\u001b[0m, in \u001b[0;36mh5py.h5f.create\u001b[0;34m()\u001b[0m\n",
      "\u001b[0;31mFileNotFoundError\u001b[0m: [Errno 2] Unable to synchronously create file (unable to open file: name = '/nfs/team391/ls34/data/adata_5k_latestlabels.h5ad', errno = 2, error message = 'No such file or directory', flags = 13, o_flags = 242)"
     ]
    }
   ],
   "source": [
    "# import scanpy as sc\n",
    "# adata_5k = sc.read_h5ad('/nfs/team298/ls34/shared_adatas/adata_5k_latestlabels_29may.h5ad')\n"
   ]
  },
  {
   "cell_type": "code",
   "execution_count": null,
   "id": "spare-inventory",
   "metadata": {},
   "outputs": [],
   "source": []
  },
  {
   "cell_type": "code",
   "execution_count": 5,
   "id": "acceptable-singapore",
   "metadata": {},
   "outputs": [],
   "source": [
    "# ldata_subset.write('/nfs/team298/ls34/disease_atlas/final_fb_adatas/ldata_fbs.h5ad.cleaned')\n"
   ]
  },
  {
   "cell_type": "code",
   "execution_count": 6,
   "id": "persistent-denver",
   "metadata": {},
   "outputs": [],
   "source": [
    "# # PATH='/nfs/team298/ls34/fibroblast_atlas_paper/final_adatas/adata_lesional11.h5ad'\n",
    "# # adata=sc.read_h5ad(PATH)\n",
    "# # adata = adata[(adata.obs[\"test12\"].str.startswith(\"F1\"))|\n",
    "# #               (adata.obs[\"test12\"].str.startswith(\"F2\"))|\n",
    "# #              (adata.obs[\"test12\"].str.startswith(\"F3\"))|\n",
    "# #               (adata.obs[\"test12\"].str.startswith(\"F6\"))|\n",
    "# #                             (adata.obs[\"test12\"].str.startswith(\"F7\"))\n",
    "# #              ]\n",
    "\n",
    "# # import scvelo as scv\n",
    "# # scv.utils.clean_obs_names(adata)\n",
    "# # adata.write('/nfs/team298/ls34/fibroblast_atlas_paper/final_adatas/adata_velo.h5ad')\n",
    "# # #adata=adata[adata.obs[\"Site_status_binary\"]==\"Lesional\"]\n",
    "# import scanpy as sc\n",
    "# adata=sc.read_h5ad('/nfs/team298/ls34/fibroblast_atlas_paper/final_adatas/adata_velo.h5ad')\n",
    "# sc.pp.filter_genes(adata, min_counts=100)\n",
    "# adata.write('/nfs/team298/ls34/fibroblast_atlas_paper/final_adatas/adata_velo.h5ad')\n"
   ]
  },
  {
   "cell_type": "code",
   "execution_count": 7,
   "id": "certain-sleeve",
   "metadata": {},
   "outputs": [],
   "source": [
    "# import gc\n",
    "# gc.collect()"
   ]
  },
  {
   "cell_type": "code",
   "execution_count": 7,
   "id": "headed-murder",
   "metadata": {},
   "outputs": [],
   "source": [
    "adata=sc.read_h5ad('/nfs/team298/ls34/fibroblast_atlas_paper/final_adatas/adata_velo.h5ad')\n"
   ]
  },
  {
   "cell_type": "code",
   "execution_count": 9,
   "id": "brutal-triumph",
   "metadata": {},
   "outputs": [],
   "source": [
    "# ldata_subset.shape"
   ]
  },
  {
   "cell_type": "code",
   "execution_count": null,
   "id": "delayed-hospital",
   "metadata": {},
   "outputs": [],
   "source": []
  },
  {
   "cell_type": "code",
   "execution_count": 10,
   "id": "buried-consumption",
   "metadata": {},
   "outputs": [],
   "source": [
    "# sc.pp.filter_genes(adata, min_counts=50)\n",
    "# adata.shape"
   ]
  },
  {
   "cell_type": "code",
   "execution_count": null,
   "id": "short-prospect",
   "metadata": {},
   "outputs": [],
   "source": []
  },
  {
   "cell_type": "code",
   "execution_count": 11,
   "id": "comprehensive-surveillance",
   "metadata": {},
   "outputs": [],
   "source": [
    "# adata.obs[\"barcode\"].values"
   ]
  },
  {
   "cell_type": "code",
   "execution_count": 12,
   "id": "black-packet",
   "metadata": {},
   "outputs": [],
   "source": [
    "# ldata_subset.obs.index"
   ]
  },
  {
   "cell_type": "code",
   "execution_count": 13,
   "id": "conscious-poultry",
   "metadata": {},
   "outputs": [],
   "source": [
    "# ldata_subset.obs[\"barcode\"] =ldata_subset.obs.index"
   ]
  },
  {
   "cell_type": "code",
   "execution_count": 14,
   "id": "lightweight-concrete",
   "metadata": {},
   "outputs": [],
   "source": [
    "# adata.obs"
   ]
  },
  {
   "cell_type": "code",
   "execution_count": 15,
   "id": "vocal-california",
   "metadata": {},
   "outputs": [],
   "source": [
    "# mask = ldata_subset.obs.index.isin(BARCODES)\n",
    "# mask_series = pd.Series(mask)\n",
    "# print(mask_series.value_counts())"
   ]
  },
  {
   "cell_type": "code",
   "execution_count": 16,
   "id": "ecological-harassment",
   "metadata": {},
   "outputs": [],
   "source": [
    "# print(ldata_subset.shape)\n",
    "# mask = ldata_subset.obs.index.isin(adata.obs[\"barcode\"])\n",
    "# #ask.value_counts()\n",
    "# import pandas as pd\n"
   ]
  },
  {
   "cell_type": "code",
   "execution_count": 17,
   "id": "solid-generation",
   "metadata": {},
   "outputs": [],
   "source": [
    "# adata.obs[\"test12\"].value_counts()"
   ]
  },
  {
   "cell_type": "code",
   "execution_count": 8,
   "id": "surprised-football",
   "metadata": {},
   "outputs": [
    {
     "data": {
      "text/plain": [
       "AnnData object with n_obs × n_vars = 48804 × 19503\n",
       "    obs: 'sample_id', 'barcode', 'dataset_id', 'GSE', 'Site_status', 'Patient_status', 'DonorID', 'Location', 'Age', 'Sex', 'n_genes', 'OriginalAnnotation', 'Chemistry', 'lvl3_annotation', 'lvl2_annotation', 'lvl0_annotation', 'n_genes_by_counts', 'total_counts', 'pct_counts_in_top_50_genes', 'pct_counts_in_top_100_genes', 'pct_counts_in_top_200_genes', 'pct_counts_in_top_500_genes', 'total_counts_mt', 'pct_counts_mt', 'total_counts_ribo', 'pct_counts_ribo', 'QC_hi', 'QC_mid', 'leiden_res0.2', 'Site_status_binary', 'atlas_status_reynolds', 'atlas_status', 'Site_status2', 'Patient_status2', 'Sex_original', 'leiden_res1', 'test', 'corefb_names', 'lvl3_annotation_uncert', 'lvl3_annotation_pred', 'leiden_res0.5', 'merged_annotations', 'test3', 'test4', 'test5', 'test6', 'leiden_res0.7', 'test7', 'lvl3_annotation_pred2', 'test8', 'test9', 'test10', 'test11', 'disease_category', 'macfb', 'macfb2', 'test12', 'test13', 'test14', 'test15', 'test16', 'test13_simple', 'disease_category_orig', 'sample_batch', 'initial_size_unspliced', 'initial_size_spliced', 'initial_size'\n",
       "    var: 'highly_variable_nbatches', 'highly_variable', 'n_counts'\n",
       "    uns: 'Site_status_binary_colors', 'leiden', 'leiden_res0.5_colors', 'leiden_res0.7_colors', 'leiden_res1', 'leiden_res1_colors', 'log1p', 'macfb2_colors', 'neighbors', 'paga', 'rank_genes_groups', 'test10_colors', 'test11_colors', 'test13_colors', 'test13_simple_colors', 'test14_colors', 'test15_colors', 'test16_colors', 'test3', 'test4', 'test4_colors', 'test5_colors', 'test6_colors', 'test7_colors', 'test8_colors', 'test9_colors', 'umap'\n",
       "    obsm: 'X_scvi', 'X_umap', 'connectivities', 'distances'\n",
       "    layers: 'counts', 'ambiguous', 'spliced', 'unspliced'\n",
       "    obsp: 'connectivities', 'distances'"
      ]
     },
     "execution_count": 8,
     "metadata": {},
     "output_type": "execute_result"
    }
   ],
   "source": [
    "adata = scv.utils.merge(adata, ldata_subset)\n",
    "adata"
   ]
  },
  {
   "cell_type": "code",
   "execution_count": null,
   "id": "interesting-surfing",
   "metadata": {},
   "outputs": [],
   "source": [
    "adata.write('/nfs/team298/ls34/disease_atlas/final_fb_adatas/ldata_fbs.h5ad.velo')\n"
   ]
  },
  {
   "cell_type": "code",
   "execution_count": null,
   "id": "earlier-procurement",
   "metadata": {},
   "outputs": [],
   "source": [
    "# adata=sc.read_h5ad('/nfs/team298/ls34/disease_atlas/final_fb_adatas/ldata_fbs.h5ad.velo')\n",
    "0"
   ]
  },
  {
   "cell_type": "code",
   "execution_count": null,
   "id": "understood-princeton",
   "metadata": {},
   "outputs": [],
   "source": [
    "# ?hvg here"
   ]
  },
  {
   "cell_type": "code",
   "execution_count": 10,
   "id": "elect-northern",
   "metadata": {},
   "outputs": [
    {
     "data": {
      "text/plain": [
       "0"
      ]
     },
     "execution_count": 10,
     "metadata": {},
     "output_type": "execute_result"
    }
   ],
   "source": [
    "0"
   ]
  },
  {
   "cell_type": "code",
   "execution_count": null,
   "id": "valued-hybrid",
   "metadata": {},
   "outputs": [],
   "source": []
  },
  {
   "cell_type": "code",
   "execution_count": null,
   "id": "owned-overall",
   "metadata": {},
   "outputs": [],
   "source": []
  },
  {
   "cell_type": "code",
   "execution_count": null,
   "id": "japanese-length",
   "metadata": {},
   "outputs": [],
   "source": []
  },
  {
   "cell_type": "code",
   "execution_count": null,
   "id": "biological-planning",
   "metadata": {},
   "outputs": [],
   "source": [
    "# scv.pp.neighbors(adata, n_neighbors=30, use_rep = 'X_scvi')  #n_pcs = 10) #random_state=0)# use_rep = 'X_scvi')\n"
   ]
  },
  {
   "cell_type": "code",
   "execution_count": null,
   "id": "floppy-option",
   "metadata": {},
   "outputs": [],
   "source": [
    "# scv.pp.moments(adata, n_pcs=None, n_neighbors=30)    # neighbor_key=\"n\")"
   ]
  },
  {
   "cell_type": "code",
   "execution_count": null,
   "id": "explicit-conviction",
   "metadata": {},
   "outputs": [],
   "source": [
    "adata.X[:5,:5].A"
   ]
  },
  {
   "cell_type": "code",
   "execution_count": null,
   "id": "entitled-negative",
   "metadata": {},
   "outputs": [],
   "source": [
    "# adata.write('/nfs/team298/ls34/disease_atlas/final_fb_adatas/ldata_fbs.h5ad.velo.moments')\n",
    "\n",
    "# #(PATH +\".moments\")\n",
    "# PATH +\".moments\""
   ]
  },
  {
   "cell_type": "code",
   "execution_count": null,
   "id": "hungry-salvation",
   "metadata": {},
   "outputs": [],
   "source": []
  },
  {
   "cell_type": "code",
   "execution_count": null,
   "id": "mathematical-reserve",
   "metadata": {},
   "outputs": [],
   "source": []
  }
 ],
 "metadata": {
  "kernelspec": {
   "display_name": "sko_ls",
   "language": "python",
   "name": "sko_ls"
  },
  "language_info": {
   "codemirror_mode": {
    "name": "ipython",
    "version": 3
   },
   "file_extension": ".py",
   "mimetype": "text/x-python",
   "name": "python",
   "nbconvert_exporter": "python",
   "pygments_lexer": "ipython3",
   "version": "3.10.0"
  }
 },
 "nbformat": 4,
 "nbformat_minor": 5
}
