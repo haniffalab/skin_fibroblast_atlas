{
 "cells": [
  {
   "cell_type": "code",
   "execution_count": null,
   "id": "gentle-character",
   "metadata": {
    "tags": []
   },
   "outputs": [],
   "source": [
    "import numpy as np\n",
    "import scanpy as sc\n",
    "import pandas as pd\n",
    "import matplotlib.pyplot as plt\n",
    "import seaborn as sns\n",
    "from sklearn.metrics import classification_report\n",
    "from scarches.models.scpoli import scPoli\n",
    "\n",
    "import warnings\n",
    "warnings.filterwarnings('ignore')\n",
    "%load_ext autoreload\n",
    "%autoreload 2\n"
   ]
  },
  {
   "cell_type": "markdown",
   "id": "interstate-orbit",
   "metadata": {},
   "source": [
    "# Load adata"
   ]
  },
  {
   "cell_type": "code",
   "execution_count": null,
   "id": "civilian-eating",
   "metadata": {
    "tags": []
   },
   "outputs": [],
   "source": [
    "prep_HVGs = True\n",
    "hvg_number=6_000\n",
    "N_NEIGHBOR=30\n",
    "MIN_DIST=0.1\n",
    "SET_TARGET_MISSING=True\n",
    "\n",
    "ETA_QUERY=10\n",
    "ETA_TRAIN=5\n",
    "MAX_EPOCHS_QUERY=80\n",
    "MAX_EPOCHS_TRAIN=80\n",
    "\n",
    "adata_path='/nfs/team298/ls34/disease_atlas/mrvi/adata_scvi5_lesional_plus_nonlesional_novascmural_noHS.h5ad'\n",
    "if prep_HVGs == False:\n",
    "    adata_path = adata_path + \".HVGS\"\n",
    "adata=sc.read_h5ad(adata_path)\n",
    "adata"
   ]
  },
  {
   "cell_type": "code",
   "execution_count": null,
   "id": "civic-irrigation",
   "metadata": {
    "tags": []
   },
   "outputs": [],
   "source": [
    "if prep_HVGs:\n",
    "    def apply_qc_thresholds(adata, MIN_N_GENES, MAX_TOTAL_COUNT, MAX_PCT_MT, label, MIN_TOTAL_COUNT=0,):\n",
    "        \"\"\"\n",
    "        Apply thresholds to generate QC column \n",
    "        \"\"\"\n",
    "        ## Cell cycle gene list\n",
    "        cc_genes_csv=pd.read_csv(\"/lustre/scratch126/cellgen/team298/sko_expimap_2023/pan_fetal_cc_genes.csv\", names=[\"ind\", \"gene_ids\"], skiprows=1)\n",
    "        cc_genes_csv = cc_genes_csv[\"gene_ids\"]\n",
    "        cc_genes_csv = list(cc_genes_csv)\n",
    "\n",
    "        # Mark MT/ribo/Hb/cell cycle genes\n",
    "        adata.var['mt'] = adata.var_names.str.startswith('MT-')  \n",
    "        adata.var[\"ribo\"] = adata.var_names.str.startswith((\"RPS\", \"RPL\"))\n",
    "        adata.var[\"hb\"] = adata.var_names.str.contains((\"^HB[^(P)]\")) \n",
    "        adata.var[\"cc_fetal\"] = adata.var_names.isin(cc_genes_csv)\n",
    "\n",
    "        # Calculate QC metrics\n",
    "        sc.pp.calculate_qc_metrics(adata, qc_vars=[\"mt\", \"ribo\"], inplace=True, log1p=False) #percent_top=[20],\n",
    "\n",
    "        conditions = [\n",
    "            (adata.obs['n_genes_by_counts'] < MIN_N_GENES),\n",
    "            (adata.obs['pct_counts_mt'] > MAX_PCT_MT),\n",
    "            (adata.obs['total_counts'] > MAX_TOTAL_COUNT),\n",
    "            (adata.obs['total_counts'] < MIN_TOTAL_COUNT),\n",
    "            (adata.obs['pct_counts_mt'] <= MAX_PCT_MT) & (adata.obs['n_genes_by_counts'] >= MIN_N_GENES) & \n",
    "            (adata.obs['total_counts'] <= MAX_TOTAL_COUNT)  & \n",
    "            (adata.obs['total_counts'] >= MIN_TOTAL_COUNT)\n",
    "        ]\n",
    "        label_suffix = label.split(\"_\")[-1]\n",
    "        print(label_suffix)\n",
    "        pass_name = \"Pass_\" + label_suffix\n",
    "        values = ['Low_nFeature', 'High_MT', 'High total count', 'Low total count', pass_name]\n",
    "\n",
    "        adata.obs[label] = np.select(conditions, values)\n",
    "        adata.obs[label] = adata.obs[label].astype('category')\n",
    "\n",
    "        print(adata.obs[label].value_counts())\n",
    " \n",
    "    apply_qc_thresholds(adata, MIN_N_GENES=500, MAX_TOTAL_COUNT=300_000, MAX_PCT_MT=20,  MIN_TOTAL_COUNT=2000, label=\"QC_hi\")\n",
    "\n",
    "\n",
    "    HVG_BATCH_KEY = \"DonorID\"\n",
    " \n",
    "    HVG_BATCH_MINIMUM=80\n",
    "\n",
    " \n",
    "    original_hvg = str(hvg_number) + \"select\" + str(HVG_BATCH_MINIMUM)\n",
    "\n",
    "    mask_to_exclude = (adata.var.cc_fetal | \n",
    "    adata.var.hb | \n",
    "    adata.var.mt |\n",
    "    adata.var.ribo\n",
    "    )\n",
    "    mask_to_include = ~mask_to_exclude\n",
    "    adata  = adata[:, mask_to_include]\n",
    "    sc.pp.highly_variable_genes(adata,  \n",
    "                            n_top_genes=hvg_number, \n",
    "                            subset=False,\n",
    "                            batch_key=HVG_BATCH_KEY,\n",
    "                            check_values=False,\n",
    "                           )  \n",
    "    var_genes_all = adata.var.highly_variable\n",
    "    var_genes_batch = adata.var.highly_variable_nbatches > HVG_BATCH_MINIMUM\n",
    "    var_select = adata.var.highly_variable_nbatches >= HVG_BATCH_MINIMUM\n",
    "    var_genes = var_select.index[var_select]\n",
    "    hvg_number = len(var_genes)\n",
    "    print(f\"selected {hvg_number} HVGs!\")\n",
    "\n",
    "\n",
    "    adata2=sc.read_h5ad(adata_path)\n",
    "    adata2.obs[\"DonorID\"]=adata2.obs[\"sample_id\"]\n",
    "    adata2.layers[\"counts\"]=adata2.X.copy()\n",
    "    label_dict = adata.var['highly_variable_nbatches'].to_dict()\n",
    "    adata2.var['highly_variable_nbatches'] = adata2.var.index.map(label_dict).fillna(np.nan)\n",
    "    label_dict = adata.var['highly_variable'].to_dict()\n",
    "    adata2.var['highly_variable'] = adata2.var.index.map(label_dict).fillna(False)\n",
    "\n",
    "    adata2.X=adata2.layers[\"counts\"].copy()\n",
    "    del(adata2.layers[\"counts\"])\n",
    "    adata2.write(adata_path + \".HVGS\")\n",
    "    print(f\"Saved  HVGs -> adata_path \")\n",
    "\n",
    "    adata=adata2.copy()\n",
    "    adata2=0\n",
    "else:\n",
    "    print(\"Skipping HVGs\")"
   ]
  },
  {
   "cell_type": "markdown",
   "id": "continent-alfred",
   "metadata": {},
   "source": [
    "# Start"
   ]
  },
  {
   "cell_type": "code",
   "execution_count": null,
   "id": "valued-producer",
   "metadata": {
    "tags": []
   },
   "outputs": [],
   "source": [
    "adata.obs[\"dataset_and_status\"] = np.where(\n",
    "    adata.obs[\"Site_status_binary\"] == \"Nonlesional\",\n",
    "    \"Nonlesional\",\n",
    "    adata.obs[\"Patient_status\"].astype(str) + \"_\" + adata.obs[\"Site_status_binary\"].astype(str) + \"_\" + adata.obs[\"dataset_id\"].astype(str)\n",
    ")\n",
    "adata.obs[\"dataset_and_status2\"] = adata.obs[\"Site_status_binary\"].astype(str) + \"_\" + adata.obs[\"dataset_id\"].astype(str)\n",
    "\n"
   ]
  },
  {
   "cell_type": "code",
   "execution_count": null,
   "id": "limiting-financing",
   "metadata": {},
   "outputs": [],
   "source": [
    "adata.obs['lvl3_annotation']=adata.obs['corefb_names']"
   ]
  },
  {
   "cell_type": "code",
   "execution_count": null,
   "id": "entire-astrology",
   "metadata": {},
   "outputs": [],
   "source": [
    "condition_key = 'dataset_and_status2'\n",
    "cell_type_key = 'lvl3_annotation'\n",
    "\n",
    "\n",
    "reference = [x for x in adata.obs[\"dataset_and_status2\"].unique() if \"Nonlesional\" in x]\n",
    "\n",
    "query = [x for x in adata.obs[\"dataset_and_status2\"].unique() if \"Lesional_\" in x]"
   ]
  },
  {
   "cell_type": "code",
   "execution_count": null,
   "id": "sustainable-judges",
   "metadata": {
    "tags": []
   },
   "outputs": [],
   "source": [
    "adata.obs['query'] = adata.obs[condition_key].isin(query)\n",
    "adata.obs['query'] = adata.obs['query'].astype('category')\n",
    "source_adata = adata[adata.obs.dataset_and_status2.isin(reference)].copy()\n",
    "target_adata = adata[adata.obs.dataset_and_status2.isin(query)].copy()\n",
    "\n"
   ]
  },
  {
   "cell_type": "code",
   "execution_count": null,
   "id": "becoming-divorce",
   "metadata": {
    "tags": []
   },
   "outputs": [],
   "source": [
    "if SET_TARGET_MISSING:\n",
    "    source_adata.obs['lvl3_annotation'] = source_adata.obs['lvl3_annotation'].apply(\n",
    "        lambda x: '.' if ('activated' in x.lower() or x.startswith('F6')) else x\n",
    "    )\n",
    "if SET_TARGET_MISSING:\n",
    "    target_adata.obs['lvl3_annotation']=\"Missing_lesional\""
   ]
  },
  {
   "cell_type": "code",
   "execution_count": null,
   "id": "breeding-sessions",
   "metadata": {},
   "outputs": [],
   "source": [
    "early_stopping_kwargs = {\n",
    "    \"early_stopping_metric\": \"val_prototype_loss\",\n",
    "    \"mode\": \"min\",\n",
    "    \"threshold\": 0,\n",
    "    \"patience\": 20,\n",
    "    \"reduce_lr\": True,\n",
    "    \"lr_patience\": 13,\n",
    "    \"lr_factor\": 0.1,\n",
    "}\n",
    "model = scPoli(\n",
    "    adata=source_adata,\n",
    "    condition_keys=condition_key,\n",
    "    cell_type_keys=cell_type_key,\n",
    "    embedding_dims=10,\n",
    "    recon_loss='nb',\n",
    ")\n"
   ]
  },
  {
   "cell_type": "code",
   "execution_count": null,
   "id": "grand-assignment",
   "metadata": {
    "tags": []
   },
   "outputs": [],
   "source": [
    "print(\"Training data:\", source_adata.shape)\n",
    "model.train(\n",
    "    n_epochs=MAX_EPOCHS_TRAIN,\n",
    "    pretraining_epochs=MAX_EPOCHS_TRAIN*0.8,\n",
    "    early_stopping_kwargs=early_stopping_kwargs,\n",
    "    eta=ETA_TRAIN,\n",
    "      layer=\"counts\",\n",
    "    accelerator='gpu'\n",
    ")"
   ]
  },
  {
   "cell_type": "markdown",
   "id": "amino-patio",
   "metadata": {},
   "source": [
    "# Query"
   ]
  },
  {
   "cell_type": "code",
   "execution_count": null,
   "id": "joined-field",
   "metadata": {},
   "outputs": [],
   "source": [
    "scpoli_query = scPoli.load_query_data(\n",
    "    adata=target_adata,\n",
    "    reference_model=model,\n",
    "    labeled_indices=[],\n",
    ")"
   ]
  },
  {
   "cell_type": "code",
   "execution_count": null,
   "id": "settled-vision",
   "metadata": {},
   "outputs": [],
   "source": [
    "scpoli_query.train(\n",
    "    n_epochs=MAX_EPOCHS_QUERY ,\n",
    "    pretraining_epochs=MAX_EPOCHS_QUERY*0.8,\n",
    "    eta=ETA_QUERY ,\n",
    "    layer=\"counts\",\n",
    "    accelerator='gpu'\n",
    ")\n"
   ]
  },
  {
   "cell_type": "markdown",
   "id": "blond-victorian",
   "metadata": {},
   "source": [
    "# Transfer labels"
   ]
  },
  {
   "cell_type": "code",
   "execution_count": null,
   "id": "hindu-truck",
   "metadata": {},
   "outputs": [],
   "source": [
    "target_adata.X = target_adata.X.astype('float32')\n",
    "results_dict = scpoli_query.classify(target_adata, scale_uncertainties=True)\n"
   ]
  },
  {
   "cell_type": "code",
   "execution_count": null,
   "id": "little-keyboard",
   "metadata": {
    "tags": []
   },
   "outputs": [],
   "source": [
    "for i in range(len(cell_type_key)):\n",
    "    preds = results_dict[cell_type_key][\"preds\"]\n",
    "    results_dict[cell_type_key][\"uncert\"]\n",
    "    classification_df = pd.DataFrame(\n",
    "        classification_report(\n",
    "            y_true=target_adata.obs[cell_type_key],\n",
    "            y_pred=preds,\n",
    "            output_dict=True,\n",
    "        )\n",
    "    ).transpose()\n",
    "print(classification_df)"
   ]
  },
  {
   "cell_type": "code",
   "execution_count": null,
   "id": "precious-import",
   "metadata": {
    "tags": []
   },
   "outputs": [],
   "source": [
    "#get latent representation of reference data\n",
    "scpoli_query.model.eval()\n",
    "data_latent_source = scpoli_query.get_latent(\n",
    "    source_adata,\n",
    "    mean=True\n",
    ")\n",
    "\n",
    "adata_latent_source = sc.AnnData(data_latent_source)\n",
    "adata_latent_source.obs = source_adata.obs.copy()\n",
    "\n",
    "data_latent= scpoli_query.get_latent(\n",
    "    target_adata,\n",
    "    mean=True\n",
    ")\n"
   ]
  },
  {
   "cell_type": "code",
   "execution_count": null,
   "id": "equivalent-parcel",
   "metadata": {
    "tags": []
   },
   "outputs": [],
   "source": [
    "scpoli_query.save(f'/nfs/team298/ls34/fibroblast_atlas/fig1/model_scpoli_allfibroblasts_{hvg_number}_2',\n",
    "           save_anndata=True, \n",
    "           overwrite=True)\n",
    "\n"
   ]
  },
  {
   "cell_type": "code",
   "execution_count": null,
   "id": "twenty-politics",
   "metadata": {
    "tags": []
   },
   "outputs": [],
   "source": [
    "adata_latent = sc.AnnData(data_latent)\n",
    "adata_latent.obs = target_adata.obs.copy()\n"
   ]
  },
  {
   "cell_type": "code",
   "execution_count": null,
   "id": "atomic-fundamental",
   "metadata": {},
   "outputs": [],
   "source": [
    "adata.obs[\"dataset_and_status2\"] = adata.obs[\"Site_status_binary\"].astype(str) + \"_\" + adata.obs[\"dataset_id\"].astype(str)\n",
    "target_adata = adata[adata.obs.dataset_and_status2.isin(query)].copy()\n",
    "target_adata.X = target_adata.X.astype('float32')\n"
   ]
  },
  {
   "cell_type": "code",
   "execution_count": null,
   "id": "separate-bachelor",
   "metadata": {
    "tags": []
   },
   "outputs": [],
   "source": [
    "target_adata.obs['cell_type_pred'] = results_dict['lvl3_annotation']['preds'].tolist()\n",
    "target_adata.obs['cell_type_uncert'] = results_dict['lvl3_annotation']['uncert'].tolist()\n",
    "target_adata.obs['classifier_outcome'] = (\n",
    "    target_adata.obs['cell_type_pred'] == target_adata.obs['lvl3_annotation']\n",
    ")"
   ]
  },
  {
   "cell_type": "code",
   "execution_count": null,
   "id": "human-subject",
   "metadata": {},
   "outputs": [],
   "source": [
    "target_adata.obsm[\"X_scpoli\"] = data_latent\n"
   ]
  },
  {
   "cell_type": "code",
   "execution_count": null,
   "id": "prescribed-integral",
   "metadata": {},
   "outputs": [],
   "source": [
    "neighbor_id = \"neighbor_\" + str(N_NEIGHBOR)   \n",
    "sc.pp.neighbors(target_adata, use_rep = 'X_scpoli', metric = \"euclidean\", n_neighbors=N_NEIGHBOR,key_added=neighbor_id)\n",
    "print(\"neighbours done\")\n",
    "\n",
    "sc.tl.umap(target_adata, min_dist=MIN_DIST, neighbors_key =neighbor_id ) \n",
    "print(f\"UMAP done\")\n"
   ]
  },
  {
   "cell_type": "code",
   "execution_count": null,
   "id": "tough-fluid",
   "metadata": {
    "tags": []
   },
   "outputs": [],
   "source": [
    "\n",
    "\n",
    "colors_f1 = plt.cm.YlOrBr(np.linspace(0, 1, 10))\n",
    "colors_f2 = plt.cm.Blues(np.linspace(0.2, 1, 10))\n",
    "colors_f3 = plt.cm.Reds(np.linspace(0.1, 1, 10))\n",
    "colors_f4 = plt.cm.Greens(np.linspace(0.2, 1, 10))\n",
    "colors_f5 = plt.cm.Purples(np.linspace(0.5, 1.0, 10))  # Brighter purple palette\n",
    "colors_other = plt.cm.Greys(np.linspace(0.2, 1, 10))\n",
    "\n",
    "custom_colors = {}\n",
    "\n",
    "f1_shared_color = colors_f1[0]\n",
    "colors_f1 = colors_f1[1:]\n",
    "target_adata.obs['cell_type_pred'] = target_adata.obs['cell_type_pred'].astype('category')\n",
    "\n",
    "for category in target_adata.obs[\"cell_type_pred\"].cat.categories:\n",
    "    if category in [\"F1*: Secretory\", \"F1: Secretory superficial\"]:\n",
    "        custom_colors[category] = f1_shared_color\n",
    "    elif category.startswith(\"F1\"):\n",
    "        custom_colors[category] = colors_f1[0]\n",
    "        colors_f1 = colors_f1[1:]\n",
    "    elif category.startswith(\"F2\"):\n",
    "        custom_colors[category] = colors_f2[0]\n",
    "        colors_f2 = colors_f2[1:]\n",
    "    elif category.startswith(\"F3\") or category.startswith(\"Peric\") or category.startswith(\"Vasc\") :\n",
    "        custom_colors[category] = colors_f3[0]\n",
    "        colors_f3 = colors_f3[1:]\n",
    "    elif category.startswith(\"F4\"):\n",
    "        custom_colors[category] = colors_f4[0]\n",
    "        colors_f4 = colors_f4[1:]\n",
    "    elif category.startswith(\"F5\"):\n",
    "        custom_colors[category] = colors_f5[0]\n",
    "        colors_f5 = colors_f5[1:]\n",
    "    elif category.startswith(\"UNCERTAIN\"):\n",
    "        custom_colors[category] = colors_f5[0]\n",
    "        colors_f5 = colors_f5[1:]\n",
    "    else:\n",
    "        custom_colors[category] = colors_other[0]\n",
    "        #colors_other = colors_other[1:]\n",
    "custom_colors['UNCERTAIN_CELLTYPE'] = \"#EE4B2B\"\n",
    "target_adata.uns['cell_type_pred_colors'] = [custom_colors[cat] for cat in target_adata.obs[\"cell_type_pred\"].cat.categories]\n",
    "\n",
    "sc.settings.figdir=\"/lustre/scratch126/cellgen/team298/adult_skin_visium/\"\n",
    "sc.pl.umap(\n",
    "    target_adata,\n",
    "    color='cell_type_pred',\n",
    "    show=False,\n",
    "    frameon=False,\n",
    "    legend_loc=\"on data\",\n",
    "    cmap='Reds',\n",
    "    vmax=0.5,s=5,\n",
    "    legend_fontsize=4,legend_fontoutline=2\n",
    ")\n",
    "\n",
    "sc.pl.umap(\n",
    "    target_adata,\n",
    "    color='cell_type_pred',\n",
    "    show=False,\n",
    "    frameon=False,\n",
    "   # legend_loc=\"on data\",\n",
    "    cmap='Reds',\n",
    "    vmax=0.5,s=5\n",
    ")"
   ]
  },
  {
   "cell_type": "code",
   "execution_count": null,
   "id": "revolutionary-victor",
   "metadata": {},
   "outputs": [],
   "source": []
  }
 ],
 "metadata": {
  "kernelspec": {
   "display_name": "Python (MyEnv)",
   "language": "python",
   "name": "myenv"
  },
  "language_info": {
   "codemirror_mode": {
    "name": "ipython",
    "version": 3
   },
   "file_extension": ".py",
   "mimetype": "text/x-python",
   "name": "python",
   "nbconvert_exporter": "python",
   "pygments_lexer": "ipython3",
   "version": "3.10.0"
  }
 },
 "nbformat": 4,
 "nbformat_minor": 5
}
